{
  "nbformat": 4,
  "nbformat_minor": 0,
  "metadata": {
    "colab": {
      "provenance": [],
      "collapsed_sections": [],
      "authorship_tag": "ABX9TyNUG80L+Riv/Tdelo16U/GU",
      "include_colab_link": true
    },
    "kernelspec": {
      "name": "python3",
      "display_name": "Python 3"
    },
    "language_info": {
      "name": "python"
    }
  },
  "cells": [
    {
      "cell_type": "markdown",
      "metadata": {
        "id": "view-in-github",
        "colab_type": "text"
      },
      "source": [
        "<a href=\"https://colab.research.google.com/github/hemsush/PPMDashboard/blob/master/c02_prediction.ipynb\" target=\"_parent\"><img src=\"https://colab.research.google.com/assets/colab-badge.svg\" alt=\"Open In Colab\"/></a>"
      ]
    },
    {
      "cell_type": "code",
      "execution_count": 1,
      "metadata": {
        "colab": {
          "base_uri": "https://localhost:8080/"
        },
        "id": "02Z3qpxgZoe7",
        "outputId": "a7c67c4d-e86b-4f14-e48e-541a96a4276e"
      },
      "outputs": [
        {
          "output_type": "stream",
          "name": "stdout",
          "text": [
            "\u001b[K     |████████████████████████████████| 1.8 MB 5.2 MB/s \n",
            "\u001b[K     |████████████████████████████████| 9.8 MB 24.7 MB/s \n",
            "\u001b[?25h"
          ]
        }
      ],
      "source": [
        "!pip install pmdarima --q # for auto arima\n",
        "!pip install prophet --q # for fbprophet"
      ]
    },
    {
      "cell_type": "code",
      "source": [
        "import pandas as pd # Python library for data analysis and data frame\n",
        "import numpy as np # Numerical Python library for linear algebra and computations\n",
        "# Linear Regression\n",
        "from sklearn.linear_model import LinearRegression\n",
        "# Visualisation libraries\n",
        "import matplotlib.pyplot as plt\n",
        "import seaborn as sns\n",
        "plt.rcParams['figure.figsize'] = (12, 8); # setting the figuresize \n",
        "\n",
        "from datetime import datetime, date #Library to deal with datetime columns\n",
        "\n",
        "# time series analysis libraries\n",
        "from statsmodels.tsa.seasonal import seasonal_decompose\n",
        "from statsmodels.tsa.stattools import adfuller\n",
        "from statsmodels.graphics.tsaplots import plot_acf, plot_pacf\n",
        "\n",
        "# time series forecasting libraries\n",
        "from statsmodels.tsa.holtwinters import SimpleExpSmoothing, ExponentialSmoothing\n",
        "from statsmodels.tsa.arima.model import ARIMA\n",
        "from pmdarima.arima import auto_arima\n",
        "from statsmodels.tsa.statespace.sarimax import SARIMAX\n",
        "from prophet import Prophet\n",
        "from prophet.plot import plot_plotly, plot_components_plotly\n",
        "\n",
        "# Neural network required libraries\n",
        "from tensorflow.keras.models import Sequential\n",
        "from tensorflow.keras.layers import *\n",
        "from tensorflow.keras.callbacks import ModelCheckpoint\n",
        "from tensorflow.keras.losses import MeanSquaredError\n",
        "from tensorflow.keras.metrics import RootMeanSquaredError\n",
        "from tensorflow.keras.optimizers import Adam\n",
        "\n",
        "# model evaluation libraries\n",
        "from sklearn.metrics import mean_squared_error, mean_absolute_percentage_error\n",
        "\n",
        "#for saving trained model\n",
        "import pickle\n",
        "\n",
        "import warnings\n",
        "warnings.filterwarnings(\"ignore\") # To prevent kernel from showing any warning"
      ],
      "metadata": {
        "id": "_2Tk6DF7Z0Nr"
      },
      "execution_count": 71,
      "outputs": []
    },
    {
      "cell_type": "code",
      "source": [
        "!pip install openpyxl "
      ],
      "metadata": {
        "colab": {
          "base_uri": "https://localhost:8080/"
        },
        "id": "sv5orK8XZ8mZ",
        "outputId": "38c94245-9229-4aa3-b778-92a9c5e12776"
      },
      "execution_count": 3,
      "outputs": [
        {
          "output_type": "stream",
          "name": "stdout",
          "text": [
            "Looking in indexes: https://pypi.org/simple, https://us-python.pkg.dev/colab-wheels/public/simple/\n",
            "Requirement already satisfied: openpyxl in /usr/local/lib/python3.7/dist-packages (3.0.10)\n",
            "Requirement already satisfied: et-xmlfile in /usr/local/lib/python3.7/dist-packages (from openpyxl) (1.1.0)\n"
          ]
        }
      ]
    },
    {
      "cell_type": "code",
      "source": [
        "from google.colab import drive\n",
        "drive.mount('/content/drive')\n",
        "\n",
        "df = pd.read_excel('/content/drive/My Drive/test/CO2_dataset.xlsx')"
      ],
      "metadata": {
        "colab": {
          "base_uri": "https://localhost:8080/"
        },
        "id": "NOCciI-laBb4",
        "outputId": "f35ad551-6252-484a-ee16-642e80e5c397"
      },
      "execution_count": 4,
      "outputs": [
        {
          "output_type": "stream",
          "name": "stdout",
          "text": [
            "Mounted at /content/drive\n"
          ]
        }
      ]
    },
    {
      "cell_type": "code",
      "source": [
        "df.head()"
      ],
      "metadata": {
        "colab": {
          "base_uri": "https://localhost:8080/",
          "height": 206
        },
        "id": "IfUpoUslaPU8",
        "outputId": "a67cabaa-e9a8-4990-cf0c-774b2e3ba4b4"
      },
      "execution_count": 5,
      "outputs": [
        {
          "output_type": "execute_result",
          "data": {
            "text/plain": [
              "     Year      CO2\n",
              "0  1800.0  0.00568\n",
              "1  1801.0  0.00561\n",
              "2  1802.0  0.00555\n",
              "3  1803.0  0.00548\n",
              "4  1804.0  0.00542"
            ],
            "text/html": [
              "\n",
              "  <div id=\"df-9e1628fc-9e77-4287-a9ce-d9ba6eb3f59a\">\n",
              "    <div class=\"colab-df-container\">\n",
              "      <div>\n",
              "<style scoped>\n",
              "    .dataframe tbody tr th:only-of-type {\n",
              "        vertical-align: middle;\n",
              "    }\n",
              "\n",
              "    .dataframe tbody tr th {\n",
              "        vertical-align: top;\n",
              "    }\n",
              "\n",
              "    .dataframe thead th {\n",
              "        text-align: right;\n",
              "    }\n",
              "</style>\n",
              "<table border=\"1\" class=\"dataframe\">\n",
              "  <thead>\n",
              "    <tr style=\"text-align: right;\">\n",
              "      <th></th>\n",
              "      <th>Year</th>\n",
              "      <th>CO2</th>\n",
              "    </tr>\n",
              "  </thead>\n",
              "  <tbody>\n",
              "    <tr>\n",
              "      <th>0</th>\n",
              "      <td>1800.0</td>\n",
              "      <td>0.00568</td>\n",
              "    </tr>\n",
              "    <tr>\n",
              "      <th>1</th>\n",
              "      <td>1801.0</td>\n",
              "      <td>0.00561</td>\n",
              "    </tr>\n",
              "    <tr>\n",
              "      <th>2</th>\n",
              "      <td>1802.0</td>\n",
              "      <td>0.00555</td>\n",
              "    </tr>\n",
              "    <tr>\n",
              "      <th>3</th>\n",
              "      <td>1803.0</td>\n",
              "      <td>0.00548</td>\n",
              "    </tr>\n",
              "    <tr>\n",
              "      <th>4</th>\n",
              "      <td>1804.0</td>\n",
              "      <td>0.00542</td>\n",
              "    </tr>\n",
              "  </tbody>\n",
              "</table>\n",
              "</div>\n",
              "      <button class=\"colab-df-convert\" onclick=\"convertToInteractive('df-9e1628fc-9e77-4287-a9ce-d9ba6eb3f59a')\"\n",
              "              title=\"Convert this dataframe to an interactive table.\"\n",
              "              style=\"display:none;\">\n",
              "        \n",
              "  <svg xmlns=\"http://www.w3.org/2000/svg\" height=\"24px\"viewBox=\"0 0 24 24\"\n",
              "       width=\"24px\">\n",
              "    <path d=\"M0 0h24v24H0V0z\" fill=\"none\"/>\n",
              "    <path d=\"M18.56 5.44l.94 2.06.94-2.06 2.06-.94-2.06-.94-.94-2.06-.94 2.06-2.06.94zm-11 1L8.5 8.5l.94-2.06 2.06-.94-2.06-.94L8.5 2.5l-.94 2.06-2.06.94zm10 10l.94 2.06.94-2.06 2.06-.94-2.06-.94-.94-2.06-.94 2.06-2.06.94z\"/><path d=\"M17.41 7.96l-1.37-1.37c-.4-.4-.92-.59-1.43-.59-.52 0-1.04.2-1.43.59L10.3 9.45l-7.72 7.72c-.78.78-.78 2.05 0 2.83L4 21.41c.39.39.9.59 1.41.59.51 0 1.02-.2 1.41-.59l7.78-7.78 2.81-2.81c.8-.78.8-2.07 0-2.86zM5.41 20L4 18.59l7.72-7.72 1.47 1.35L5.41 20z\"/>\n",
              "  </svg>\n",
              "      </button>\n",
              "      \n",
              "  <style>\n",
              "    .colab-df-container {\n",
              "      display:flex;\n",
              "      flex-wrap:wrap;\n",
              "      gap: 12px;\n",
              "    }\n",
              "\n",
              "    .colab-df-convert {\n",
              "      background-color: #E8F0FE;\n",
              "      border: none;\n",
              "      border-radius: 50%;\n",
              "      cursor: pointer;\n",
              "      display: none;\n",
              "      fill: #1967D2;\n",
              "      height: 32px;\n",
              "      padding: 0 0 0 0;\n",
              "      width: 32px;\n",
              "    }\n",
              "\n",
              "    .colab-df-convert:hover {\n",
              "      background-color: #E2EBFA;\n",
              "      box-shadow: 0px 1px 2px rgba(60, 64, 67, 0.3), 0px 1px 3px 1px rgba(60, 64, 67, 0.15);\n",
              "      fill: #174EA6;\n",
              "    }\n",
              "\n",
              "    [theme=dark] .colab-df-convert {\n",
              "      background-color: #3B4455;\n",
              "      fill: #D2E3FC;\n",
              "    }\n",
              "\n",
              "    [theme=dark] .colab-df-convert:hover {\n",
              "      background-color: #434B5C;\n",
              "      box-shadow: 0px 1px 3px 1px rgba(0, 0, 0, 0.15);\n",
              "      filter: drop-shadow(0px 1px 2px rgba(0, 0, 0, 0.3));\n",
              "      fill: #FFFFFF;\n",
              "    }\n",
              "  </style>\n",
              "\n",
              "      <script>\n",
              "        const buttonEl =\n",
              "          document.querySelector('#df-9e1628fc-9e77-4287-a9ce-d9ba6eb3f59a button.colab-df-convert');\n",
              "        buttonEl.style.display =\n",
              "          google.colab.kernel.accessAllowed ? 'block' : 'none';\n",
              "\n",
              "        async function convertToInteractive(key) {\n",
              "          const element = document.querySelector('#df-9e1628fc-9e77-4287-a9ce-d9ba6eb3f59a');\n",
              "          const dataTable =\n",
              "            await google.colab.kernel.invokeFunction('convertToInteractive',\n",
              "                                                     [key], {});\n",
              "          if (!dataTable) return;\n",
              "\n",
              "          const docLinkHtml = 'Like what you see? Visit the ' +\n",
              "            '<a target=\"_blank\" href=https://colab.research.google.com/notebooks/data_table.ipynb>data table notebook</a>'\n",
              "            + ' to learn more about interactive tables.';\n",
              "          element.innerHTML = '';\n",
              "          dataTable['output_type'] = 'display_data';\n",
              "          await google.colab.output.renderOutput(dataTable, element);\n",
              "          const docLink = document.createElement('div');\n",
              "          docLink.innerHTML = docLinkHtml;\n",
              "          element.appendChild(docLink);\n",
              "        }\n",
              "      </script>\n",
              "    </div>\n",
              "  </div>\n",
              "  "
            ]
          },
          "metadata": {},
          "execution_count": 5
        }
      ]
    },
    {
      "cell_type": "code",
      "source": [
        "df.info()"
      ],
      "metadata": {
        "colab": {
          "base_uri": "https://localhost:8080/"
        },
        "id": "JwhgT5LDaR2W",
        "outputId": "03d3021f-9741-417f-9f48-24ed18ed2016"
      },
      "execution_count": 6,
      "outputs": [
        {
          "output_type": "stream",
          "name": "stdout",
          "text": [
            "<class 'pandas.core.frame.DataFrame'>\n",
            "RangeIndex: 215 entries, 0 to 214\n",
            "Data columns (total 2 columns):\n",
            " #   Column  Non-Null Count  Dtype  \n",
            "---  ------  --------------  -----  \n",
            " 0   Year    215 non-null    float64\n",
            " 1   CO2     215 non-null    float64\n",
            "dtypes: float64(2)\n",
            "memory usage: 3.5 KB\n"
          ]
        }
      ]
    },
    {
      "cell_type": "code",
      "source": [
        "df.duplicated().sum()"
      ],
      "metadata": {
        "colab": {
          "base_uri": "https://localhost:8080/"
        },
        "id": "ZDA3P8B0aXf3",
        "outputId": "662533ce-9f5f-42f2-ca1b-105d72ab1971"
      },
      "execution_count": 7,
      "outputs": [
        {
          "output_type": "execute_result",
          "data": {
            "text/plain": [
              "0"
            ]
          },
          "metadata": {},
          "execution_count": 7
        }
      ]
    },
    {
      "cell_type": "code",
      "source": [
        "df['Year'] = pd.to_datetime(df['Year'], format='%Y')"
      ],
      "metadata": {
        "id": "iuCC-ZcZadTg"
      },
      "execution_count": 8,
      "outputs": []
    },
    {
      "cell_type": "code",
      "source": [
        "df.set_index(['Year'], inplace=True)"
      ],
      "metadata": {
        "id": "bISaJj6naeF0"
      },
      "execution_count": 9,
      "outputs": []
    },
    {
      "cell_type": "code",
      "source": [
        "df.head()"
      ],
      "metadata": {
        "colab": {
          "base_uri": "https://localhost:8080/",
          "height": 237
        },
        "id": "f8H_g0dCajrW",
        "outputId": "0fa6fec9-2ff9-472f-d815-eca1286522e9"
      },
      "execution_count": 10,
      "outputs": [
        {
          "output_type": "execute_result",
          "data": {
            "text/plain": [
              "                CO2\n",
              "Year               \n",
              "1800-01-01  0.00568\n",
              "1801-01-01  0.00561\n",
              "1802-01-01  0.00555\n",
              "1803-01-01  0.00548\n",
              "1804-01-01  0.00542"
            ],
            "text/html": [
              "\n",
              "  <div id=\"df-abe2ad22-1d06-4781-8983-59d58f5307d1\">\n",
              "    <div class=\"colab-df-container\">\n",
              "      <div>\n",
              "<style scoped>\n",
              "    .dataframe tbody tr th:only-of-type {\n",
              "        vertical-align: middle;\n",
              "    }\n",
              "\n",
              "    .dataframe tbody tr th {\n",
              "        vertical-align: top;\n",
              "    }\n",
              "\n",
              "    .dataframe thead th {\n",
              "        text-align: right;\n",
              "    }\n",
              "</style>\n",
              "<table border=\"1\" class=\"dataframe\">\n",
              "  <thead>\n",
              "    <tr style=\"text-align: right;\">\n",
              "      <th></th>\n",
              "      <th>CO2</th>\n",
              "    </tr>\n",
              "    <tr>\n",
              "      <th>Year</th>\n",
              "      <th></th>\n",
              "    </tr>\n",
              "  </thead>\n",
              "  <tbody>\n",
              "    <tr>\n",
              "      <th>1800-01-01</th>\n",
              "      <td>0.00568</td>\n",
              "    </tr>\n",
              "    <tr>\n",
              "      <th>1801-01-01</th>\n",
              "      <td>0.00561</td>\n",
              "    </tr>\n",
              "    <tr>\n",
              "      <th>1802-01-01</th>\n",
              "      <td>0.00555</td>\n",
              "    </tr>\n",
              "    <tr>\n",
              "      <th>1803-01-01</th>\n",
              "      <td>0.00548</td>\n",
              "    </tr>\n",
              "    <tr>\n",
              "      <th>1804-01-01</th>\n",
              "      <td>0.00542</td>\n",
              "    </tr>\n",
              "  </tbody>\n",
              "</table>\n",
              "</div>\n",
              "      <button class=\"colab-df-convert\" onclick=\"convertToInteractive('df-abe2ad22-1d06-4781-8983-59d58f5307d1')\"\n",
              "              title=\"Convert this dataframe to an interactive table.\"\n",
              "              style=\"display:none;\">\n",
              "        \n",
              "  <svg xmlns=\"http://www.w3.org/2000/svg\" height=\"24px\"viewBox=\"0 0 24 24\"\n",
              "       width=\"24px\">\n",
              "    <path d=\"M0 0h24v24H0V0z\" fill=\"none\"/>\n",
              "    <path d=\"M18.56 5.44l.94 2.06.94-2.06 2.06-.94-2.06-.94-.94-2.06-.94 2.06-2.06.94zm-11 1L8.5 8.5l.94-2.06 2.06-.94-2.06-.94L8.5 2.5l-.94 2.06-2.06.94zm10 10l.94 2.06.94-2.06 2.06-.94-2.06-.94-.94-2.06-.94 2.06-2.06.94z\"/><path d=\"M17.41 7.96l-1.37-1.37c-.4-.4-.92-.59-1.43-.59-.52 0-1.04.2-1.43.59L10.3 9.45l-7.72 7.72c-.78.78-.78 2.05 0 2.83L4 21.41c.39.39.9.59 1.41.59.51 0 1.02-.2 1.41-.59l7.78-7.78 2.81-2.81c.8-.78.8-2.07 0-2.86zM5.41 20L4 18.59l7.72-7.72 1.47 1.35L5.41 20z\"/>\n",
              "  </svg>\n",
              "      </button>\n",
              "      \n",
              "  <style>\n",
              "    .colab-df-container {\n",
              "      display:flex;\n",
              "      flex-wrap:wrap;\n",
              "      gap: 12px;\n",
              "    }\n",
              "\n",
              "    .colab-df-convert {\n",
              "      background-color: #E8F0FE;\n",
              "      border: none;\n",
              "      border-radius: 50%;\n",
              "      cursor: pointer;\n",
              "      display: none;\n",
              "      fill: #1967D2;\n",
              "      height: 32px;\n",
              "      padding: 0 0 0 0;\n",
              "      width: 32px;\n",
              "    }\n",
              "\n",
              "    .colab-df-convert:hover {\n",
              "      background-color: #E2EBFA;\n",
              "      box-shadow: 0px 1px 2px rgba(60, 64, 67, 0.3), 0px 1px 3px 1px rgba(60, 64, 67, 0.15);\n",
              "      fill: #174EA6;\n",
              "    }\n",
              "\n",
              "    [theme=dark] .colab-df-convert {\n",
              "      background-color: #3B4455;\n",
              "      fill: #D2E3FC;\n",
              "    }\n",
              "\n",
              "    [theme=dark] .colab-df-convert:hover {\n",
              "      background-color: #434B5C;\n",
              "      box-shadow: 0px 1px 3px 1px rgba(0, 0, 0, 0.15);\n",
              "      filter: drop-shadow(0px 1px 2px rgba(0, 0, 0, 0.3));\n",
              "      fill: #FFFFFF;\n",
              "    }\n",
              "  </style>\n",
              "\n",
              "      <script>\n",
              "        const buttonEl =\n",
              "          document.querySelector('#df-abe2ad22-1d06-4781-8983-59d58f5307d1 button.colab-df-convert');\n",
              "        buttonEl.style.display =\n",
              "          google.colab.kernel.accessAllowed ? 'block' : 'none';\n",
              "\n",
              "        async function convertToInteractive(key) {\n",
              "          const element = document.querySelector('#df-abe2ad22-1d06-4781-8983-59d58f5307d1');\n",
              "          const dataTable =\n",
              "            await google.colab.kernel.invokeFunction('convertToInteractive',\n",
              "                                                     [key], {});\n",
              "          if (!dataTable) return;\n",
              "\n",
              "          const docLinkHtml = 'Like what you see? Visit the ' +\n",
              "            '<a target=\"_blank\" href=https://colab.research.google.com/notebooks/data_table.ipynb>data table notebook</a>'\n",
              "            + ' to learn more about interactive tables.';\n",
              "          element.innerHTML = '';\n",
              "          dataTable['output_type'] = 'display_data';\n",
              "          await google.colab.output.renderOutput(dataTable, element);\n",
              "          const docLink = document.createElement('div');\n",
              "          docLink.innerHTML = docLinkHtml;\n",
              "          element.appendChild(docLink);\n",
              "        }\n",
              "      </script>\n",
              "    </div>\n",
              "  </div>\n",
              "  "
            ]
          },
          "metadata": {},
          "execution_count": 10
        }
      ]
    },
    {
      "cell_type": "code",
      "source": [
        "df.index.min(), df.index.max()"
      ],
      "metadata": {
        "colab": {
          "base_uri": "https://localhost:8080/"
        },
        "id": "dKH2aAbsao96",
        "outputId": "68169942-27f4-4f9e-959e-b7d27e5f58a1"
      },
      "execution_count": 11,
      "outputs": [
        {
          "output_type": "execute_result",
          "data": {
            "text/plain": [
              "(Timestamp('1800-01-01 00:00:00'), Timestamp('2014-01-01 00:00:00'))"
            ]
          },
          "metadata": {},
          "execution_count": 11
        }
      ]
    },
    {
      "cell_type": "code",
      "source": [
        "if (df.index.max() - df.index.min() == 214): \n",
        "    print('Data Is Continuous')"
      ],
      "metadata": {
        "id": "UN93EE7zarxs"
      },
      "execution_count": 12,
      "outputs": []
    },
    {
      "cell_type": "code",
      "source": [
        "df.index.freq='YS'"
      ],
      "metadata": {
        "id": "-F8Libn1ayp1"
      },
      "execution_count": 13,
      "outputs": []
    },
    {
      "cell_type": "code",
      "source": [
        "df.plot(grid=True);"
      ],
      "metadata": {
        "colab": {
          "base_uri": "https://localhost:8080/",
          "height": 497
        },
        "id": "orBbk1Axayz5",
        "outputId": "069fd972-f6aa-4cb7-d643-33ac0b0ebc2a"
      },
      "execution_count": 14,
      "outputs": [
        {
          "output_type": "display_data",
          "data": {
            "text/plain": [
              "<Figure size 864x576 with 1 Axes>"
            ],
            "image/png": "[encoded data removed]"
          },
          "metadata": {
            "needs_background": "light"
          }
        }
      ]
    },
    {
      "cell_type": "code",
      "source": [
        "train_df = df.loc[:'1991-01-01']\n",
        "test_df = df.loc['1992-01-01':]"
      ],
      "metadata": {
        "id": "WVBkjzIra9TL"
      },
      "execution_count": 15,
      "outputs": []
    },
    {
      "cell_type": "code",
      "source": [
        "  decompose_add = seasonal_decompose(df['CO2'])\n",
        "  decompose_add.plot();"
      ],
      "metadata": {
        "colab": {
          "base_uri": "https://localhost:8080/",
          "height": 585
        },
        "id": "Jujan5obbHl4",
        "outputId": "71847b9d-c079-4063-d385-6d402c9e124c"
      },
      "execution_count": 16,
      "outputs": [
        {
          "output_type": "display_data",
          "data": {
            "text/plain": [
              "<Figure size 864x576 with 4 Axes>"
            ],
            "image/png": "[encoded data removed]"
          },
          "metadata": {
            "needs_background": "light"
          }
        }
      ]
    },
    {
      "cell_type": "code",
      "source": [
        "def adf_test(timeseries):\n",
        "    print ('Results of Dickey-Fuller Test:')\n",
        "    print ('----------------------------------------------')\n",
        "    adftest = adfuller(timeseries)\n",
        "    adf_output = pd.Series(adftest[0:4], index=['Test Statistic','p-value','#Lags Used','Number of Observations Used'])\n",
        "    for key,value in adftest[4].items():\n",
        "        adf_output['Critical Value (%s)'%key] = value\n",
        "    print (adf_output)\n",
        "    \n",
        "# calling adf function and passing series\n",
        "adf_test(df.values)"
      ],
      "metadata": {
        "colab": {
          "base_uri": "https://localhost:8080/"
        },
        "id": "jARuRPhYbKL_",
        "outputId": "b5f25a1a-2bca-43c1-c523-c82128b0fe7a"
      },
      "execution_count": 17,
      "outputs": [
        {
          "output_type": "stream",
          "name": "stdout",
          "text": [
            "Results of Dickey-Fuller Test:\n",
            "----------------------------------------------\n",
            "Test Statistic                  -0.378463\n",
            "p-value                          0.913633\n",
            "#Lags Used                       0.000000\n",
            "Number of Observations Used    214.000000\n",
            "Critical Value (1%)             -3.461282\n",
            "Critical Value (5%)             -2.875143\n",
            "Critical Value (10%)            -2.574020\n",
            "dtype: float64\n"
          ]
        }
      ]
    },
    {
      "cell_type": "code",
      "source": [
        "diff_df = df.diff() #first differencing for stationarity\n",
        "diff_df.head()"
      ],
      "metadata": {
        "colab": {
          "base_uri": "https://localhost:8080/",
          "height": 237
        },
        "id": "SjUKBMXlbPSH",
        "outputId": "4ce15a48-bc3d-475e-a11a-d3af56cd77df"
      },
      "execution_count": 18,
      "outputs": [
        {
          "output_type": "execute_result",
          "data": {
            "text/plain": [
              "                CO2\n",
              "Year               \n",
              "1800-01-01      NaN\n",
              "1801-01-01 -0.00007\n",
              "1802-01-01 -0.00006\n",
              "1803-01-01 -0.00007\n",
              "1804-01-01 -0.00006"
            ],
            "text/html": [
              "\n",
              "  <div id=\"df-1ce53ba4-815a-4935-9268-cbe52888eefc\">\n",
              "    <div class=\"colab-df-container\">\n",
              "      <div>\n",
              "<style scoped>\n",
              "    .dataframe tbody tr th:only-of-type {\n",
              "        vertical-align: middle;\n",
              "    }\n",
              "\n",
              "    .dataframe tbody tr th {\n",
              "        vertical-align: top;\n",
              "    }\n",
              "\n",
              "    .dataframe thead th {\n",
              "        text-align: right;\n",
              "    }\n",
              "</style>\n",
              "<table border=\"1\" class=\"dataframe\">\n",
              "  <thead>\n",
              "    <tr style=\"text-align: right;\">\n",
              "      <th></th>\n",
              "      <th>CO2</th>\n",
              "    </tr>\n",
              "    <tr>\n",
              "      <th>Year</th>\n",
              "      <th></th>\n",
              "    </tr>\n",
              "  </thead>\n",
              "  <tbody>\n",
              "    <tr>\n",
              "      <th>1800-01-01</th>\n",
              "      <td>NaN</td>\n",
              "    </tr>\n",
              "    <tr>\n",
              "      <th>1801-01-01</th>\n",
              "      <td>-0.00007</td>\n",
              "    </tr>\n",
              "    <tr>\n",
              "      <th>1802-01-01</th>\n",
              "      <td>-0.00006</td>\n",
              "    </tr>\n",
              "    <tr>\n",
              "      <th>1803-01-01</th>\n",
              "      <td>-0.00007</td>\n",
              "    </tr>\n",
              "    <tr>\n",
              "      <th>1804-01-01</th>\n",
              "      <td>-0.00006</td>\n",
              "    </tr>\n",
              "  </tbody>\n",
              "</table>\n",
              "</div>\n",
              "      <button class=\"colab-df-convert\" onclick=\"convertToInteractive('df-1ce53ba4-815a-4935-9268-cbe52888eefc')\"\n",
              "              title=\"Convert this dataframe to an interactive table.\"\n",
              "              style=\"display:none;\">\n",
              "        \n",
              "  <svg xmlns=\"http://www.w3.org/2000/svg\" height=\"24px\"viewBox=\"0 0 24 24\"\n",
              "       width=\"24px\">\n",
              "    <path d=\"M0 0h24v24H0V0z\" fill=\"none\"/>\n",
              "    <path d=\"M18.56 5.44l.94 2.06.94-2.06 2.06-.94-2.06-.94-.94-2.06-.94 2.06-2.06.94zm-11 1L8.5 8.5l.94-2.06 2.06-.94-2.06-.94L8.5 2.5l-.94 2.06-2.06.94zm10 10l.94 2.06.94-2.06 2.06-.94-2.06-.94-.94-2.06-.94 2.06-2.06.94z\"/><path d=\"M17.41 7.96l-1.37-1.37c-.4-.4-.92-.59-1.43-.59-.52 0-1.04.2-1.43.59L10.3 9.45l-7.72 7.72c-.78.78-.78 2.05 0 2.83L4 21.41c.39.39.9.59 1.41.59.51 0 1.02-.2 1.41-.59l7.78-7.78 2.81-2.81c.8-.78.8-2.07 0-2.86zM5.41 20L4 18.59l7.72-7.72 1.47 1.35L5.41 20z\"/>\n",
              "  </svg>\n",
              "      </button>\n",
              "      \n",
              "  <style>\n",
              "    .colab-df-container {\n",
              "      display:flex;\n",
              "      flex-wrap:wrap;\n",
              "      gap: 12px;\n",
              "    }\n",
              "\n",
              "    .colab-df-convert {\n",
              "      background-color: #E8F0FE;\n",
              "      border: none;\n",
              "      border-radius: 50%;\n",
              "      cursor: pointer;\n",
              "      display: none;\n",
              "      fill: #1967D2;\n",
              "      height: 32px;\n",
              "      padding: 0 0 0 0;\n",
              "      width: 32px;\n",
              "    }\n",
              "\n",
              "    .colab-df-convert:hover {\n",
              "      background-color: #E2EBFA;\n",
              "      box-shadow: 0px 1px 2px rgba(60, 64, 67, 0.3), 0px 1px 3px 1px rgba(60, 64, 67, 0.15);\n",
              "      fill: #174EA6;\n",
              "    }\n",
              "\n",
              "    [theme=dark] .colab-df-convert {\n",
              "      background-color: #3B4455;\n",
              "      fill: #D2E3FC;\n",
              "    }\n",
              "\n",
              "    [theme=dark] .colab-df-convert:hover {\n",
              "      background-color: #434B5C;\n",
              "      box-shadow: 0px 1px 3px 1px rgba(0, 0, 0, 0.15);\n",
              "      filter: drop-shadow(0px 1px 2px rgba(0, 0, 0, 0.3));\n",
              "      fill: #FFFFFF;\n",
              "    }\n",
              "  </style>\n",
              "\n",
              "      <script>\n",
              "        const buttonEl =\n",
              "          document.querySelector('#df-1ce53ba4-815a-4935-9268-cbe52888eefc button.colab-df-convert');\n",
              "        buttonEl.style.display =\n",
              "          google.colab.kernel.accessAllowed ? 'block' : 'none';\n",
              "\n",
              "        async function convertToInteractive(key) {\n",
              "          const element = document.querySelector('#df-1ce53ba4-815a-4935-9268-cbe52888eefc');\n",
              "          const dataTable =\n",
              "            await google.colab.kernel.invokeFunction('convertToInteractive',\n",
              "                                                     [key], {});\n",
              "          if (!dataTable) return;\n",
              "\n",
              "          const docLinkHtml = 'Like what you see? Visit the ' +\n",
              "            '<a target=\"_blank\" href=https://colab.research.google.com/notebooks/data_table.ipynb>data table notebook</a>'\n",
              "            + ' to learn more about interactive tables.';\n",
              "          element.innerHTML = '';\n",
              "          dataTable['output_type'] = 'display_data';\n",
              "          await google.colab.output.renderOutput(dataTable, element);\n",
              "          const docLink = document.createElement('div');\n",
              "          docLink.innerHTML = docLinkHtml;\n",
              "          element.appendChild(docLink);\n",
              "        }\n",
              "      </script>\n",
              "    </div>\n",
              "  </div>\n",
              "  "
            ]
          },
          "metadata": {},
          "execution_count": 18
        }
      ]
    },
    {
      "cell_type": "code",
      "source": [
        "diff_df.dropna(inplace=True) "
      ],
      "metadata": {
        "id": "3-2VG26gbUbv"
      },
      "execution_count": 19,
      "outputs": []
    },
    {
      "cell_type": "code",
      "source": [
        "diff_df.plot(grid=True);"
      ],
      "metadata": {
        "colab": {
          "base_uri": "https://localhost:8080/",
          "height": 497
        },
        "id": "U_y46inCbX4_",
        "outputId": "59bf1b0e-83f0-4544-899c-695d3ee42f07"
      },
      "execution_count": 20,
      "outputs": [
        {
          "output_type": "display_data",
          "data": {
            "text/plain": [
              "<Figure size 864x576 with 1 Axes>"
            ],
            "image/png": "[encoded data removed]"
          },
          "metadata": {
            "needs_background": "light"
          }
        }
      ]
    },
    {
      "cell_type": "code",
      "source": [
        "adf_test(diff_df)"
      ],
      "metadata": {
        "colab": {
          "base_uri": "https://localhost:8080/"
        },
        "id": "kslAKBJobbY2",
        "outputId": "63be0bd7-4cd2-401f-a79b-33b1900a2f42"
      },
      "execution_count": 21,
      "outputs": [
        {
          "output_type": "stream",
          "name": "stdout",
          "text": [
            "Results of Dickey-Fuller Test:\n",
            "----------------------------------------------\n",
            "Test Statistic                  -3.780005\n",
            "p-value                          0.003119\n",
            "#Lags Used                      15.000000\n",
            "Number of Observations Used    198.000000\n",
            "Critical Value (1%)             -3.463815\n",
            "Critical Value (5%)             -2.876251\n",
            "Critical Value (10%)            -2.574611\n",
            "dtype: float64\n"
          ]
        }
      ]
    },
    {
      "cell_type": "code",
      "source": [
        "# if the series is not stationary then make sure to pass differenced series instead of original series\n",
        "plot_acf(diff_df);\n",
        "plot_pacf(diff_df);"
      ],
      "metadata": {
        "colab": {
          "base_uri": "https://localhost:8080/",
          "height": 981
        },
        "id": "1hTtx9G2bfmU",
        "outputId": "1a12a2c9-54d3-4890-c8f3-1cdc8d2fd7bc"
      },
      "execution_count": 22,
      "outputs": [
        {
          "output_type": "display_data",
          "data": {
            "text/plain": [
              "<Figure size 864x576 with 1 Axes>"
            ],
            "image/png": "[encoded data removed]"
          },
          "metadata": {
            "needs_background": "light"
          }
        },
        {
          "output_type": "display_data",
          "data": {
            "text/plain": [
              "<Figure size 864x576 with 1 Axes>"
            ],
            "image/png": "[encoded data removed]"
          },
          "metadata": {
            "needs_background": "light"
          }
        }
      ]
    },
    {
      "cell_type": "code",
      "source": [],
      "metadata": {
        "id": "mEZ-DoQiblck"
      },
      "execution_count": null,
      "outputs": []
    },
    {
      "cell_type": "markdown",
      "source": [
        "**Time series Forecasting - Single Exponential Smoothing**"
      ],
      "metadata": {
        "id": "bU9LXMwabsve"
      }
    },
    {
      "cell_type": "code",
      "source": [
        "single_exp = SimpleExpSmoothing(train_df).fit()\n",
        "single_exp_train_pred = single_exp.fittedvalues\n",
        "single_exp_test_pred = single_exp.forecast(23)"
      ],
      "metadata": {
        "id": "lNYZvhdLbu8s"
      },
      "execution_count": 23,
      "outputs": []
    },
    {
      "cell_type": "code",
      "source": [
        "train_df['CO2'].plot(style='--', color='gray', legend=True, label='train_df')\n",
        "test_df['CO2'].plot(style='--', color='r', legend=True, label='test_df')\n",
        "single_exp_test_pred.plot(color='b', legend=True, label='Prediction')"
      ],
      "metadata": {
        "colab": {
          "base_uri": "https://localhost:8080/",
          "height": 515
        },
        "id": "oCTHfMGjbucu",
        "outputId": "53aa198c-e4b3-44b2-eb82-c0fd8908d6e3"
      },
      "execution_count": 24,
      "outputs": [
        {
          "output_type": "execute_result",
          "data": {
            "text/plain": [
              "<matplotlib.axes._subplots.AxesSubplot at 0x7ff6e8837e10>"
            ]
          },
          "metadata": {},
          "execution_count": 24
        },
        {
          "output_type": "display_data",
          "data": {
            "text/plain": [
              "<Figure size 864x576 with 1 Axes>"
            ],
            "image/png": "[encoded data removed]"
          },
          "metadata": {
            "needs_background": "light"
          }
        }
      ]
    },
    {
      "cell_type": "code",
      "source": [
        "print('Train RMSE:',mean_squared_error(train_df, single_exp_train_pred)**0.5)\n",
        "print('Test RMSE:',mean_squared_error(test_df, single_exp_test_pred)**0.5)\n",
        "print('Train MAPE:',mean_absolute_percentage_error(train_df, single_exp_train_pred))\n",
        "print('Test MAPE:',mean_absolute_percentage_error(test_df, single_exp_test_pred))"
      ],
      "metadata": {
        "colab": {
          "base_uri": "https://localhost:8080/"
        },
        "id": "1rl3tFfxb-HV",
        "outputId": "7c9de474-49d5-4756-9394-474c49a37480"
      },
      "execution_count": 25,
      "outputs": [
        {
          "output_type": "stream",
          "name": "stdout",
          "text": [
            "Train RMSE: 0.5646920026800116\n",
            "Test RMSE: 1.342911302270165\n",
            "Train MAPE: 0.08470530767414804\n",
            "Test MAPE: 0.06861466412077383\n"
          ]
        }
      ]
    },
    {
      "cell_type": "markdown",
      "source": [
        "**DES**"
      ],
      "metadata": {
        "id": "raFfjd8ecM8S"
      }
    },
    {
      "cell_type": "code",
      "source": [
        "double_exp = ExponentialSmoothing(train_df, trend=None, initialization_method='heuristic', seasonal='add', seasonal_periods=29, damped_trend=False).fit()\n",
        "double_exp_train_pred = double_exp.fittedvalues\n",
        "double_exp_test_pred = double_exp.forecast(23)"
      ],
      "metadata": {
        "id": "eAGc_UdHcLV6"
      },
      "execution_count": 26,
      "outputs": []
    },
    {
      "cell_type": "code",
      "source": [
        "train_df['CO2'].plot(style='--', color='gray', legend=True, label='train_df')\n",
        "test_df['CO2'].plot(style='--', color='r', legend=True, label='test_df')\n",
        "double_exp_test_pred.plot(color='b', legend=True, label='prediction')\n",
        "plt.show()"
      ],
      "metadata": {
        "colab": {
          "base_uri": "https://localhost:8080/",
          "height": 497
        },
        "id": "Nf1hUsN1cU7k",
        "outputId": "43f3a592-625e-448a-c91f-bd776f29b996"
      },
      "execution_count": 27,
      "outputs": [
        {
          "output_type": "display_data",
          "data": {
            "text/plain": [
              "<Figure size 864x576 with 1 Axes>"
            ],
            "image/png": "[encoded data removed]"
          },
          "metadata": {
            "needs_background": "light"
          }
        }
      ]
    },
    {
      "cell_type": "code",
      "source": [
        "print('Train RMSE:',mean_squared_error(train_df, double_exp_train_pred)**0.5)\n",
        "print('Test RMSE:',mean_squared_error(test_df, double_exp_test_pred)**0.5)\n",
        "print('Train MAPE:',mean_absolute_percentage_error(train_df, double_exp_train_pred))\n",
        "print('Test MAPE:',mean_absolute_percentage_error(test_df, double_exp_test_pred))"
      ],
      "metadata": {
        "colab": {
          "base_uri": "https://localhost:8080/"
        },
        "id": "s-3TEpUTcZC1",
        "outputId": "364e56cc-69fc-4a55-8873-a2289c15e070"
      },
      "execution_count": 28,
      "outputs": [
        {
          "output_type": "stream",
          "name": "stdout",
          "text": [
            "Train RMSE: 0.5219963052653047\n",
            "Test RMSE: 0.5352720574221986\n",
            "Train MAPE: 12.80676949834386\n",
            "Test MAPE: 0.026063825837478335\n"
          ]
        }
      ]
    },
    {
      "cell_type": "markdown",
      "source": [
        "TES"
      ],
      "metadata": {
        "id": "7-Y6DrhDcc9B"
      }
    },
    {
      "cell_type": "code",
      "source": [
        "hw_model = ExponentialSmoothing(train_df['CO2'],\n",
        "                          trend    ='add',\n",
        "                          initialization_method='heuristic',\n",
        "                          seasonal = \"add\", \n",
        "                          seasonal_periods=28, \n",
        "                          damped_trend=True).fit()\n",
        "hw_train_pred =  hw_model.fittedvalues\n",
        "hw_test_pred =  hw_model.forecast(23)"
      ],
      "metadata": {
        "id": "QL5NqNn1cfhU"
      },
      "execution_count": 29,
      "outputs": []
    },
    {
      "cell_type": "code",
      "source": [
        "train_df['CO2'].plot(style='--', color='gray', legend=True, label='train_df')\n",
        "test_df['CO2'].plot(style='--', color='r', legend=True, label='test_df')\n",
        "hw_test_pred.plot(color='b', legend=True, label='prediction')\n",
        "plt.show()"
      ],
      "metadata": {
        "colab": {
          "base_uri": "https://localhost:8080/",
          "height": 497
        },
        "id": "97kl0Gc7clzQ",
        "outputId": "f82ea345-a6c5-4d38-eef9-94da62da0110"
      },
      "execution_count": 30,
      "outputs": [
        {
          "output_type": "display_data",
          "data": {
            "text/plain": [
              "<Figure size 864x576 with 1 Axes>"
            ],
            "image/png": "[encoded data removed]"
          },
          "metadata": {
            "needs_background": "light"
          }
        }
      ]
    },
    {
      "cell_type": "code",
      "source": [
        "print('Train RMSE:',mean_squared_error(train_df, hw_train_pred)**0.5)\n",
        "print('Test RMSE:',mean_squared_error(test_df, hw_test_pred)**0.5)\n",
        "print('Train MAPE:',mean_absolute_percentage_error(train_df, hw_train_pred))\n",
        "print('Test MAPE:',mean_absolute_percentage_error(test_df, hw_test_pred))"
      ],
      "metadata": {
        "colab": {
          "base_uri": "https://localhost:8080/"
        },
        "id": "tqxKGkqVcpHW",
        "outputId": "36aa7996-39ff-42ab-a338-7335c9418922"
      },
      "execution_count": 31,
      "outputs": [
        {
          "output_type": "stream",
          "name": "stdout",
          "text": [
            "Train RMSE: 0.5106136819354261\n",
            "Test RMSE: 1.0377035674553476\n",
            "Train MAPE: 14.258480781249787\n",
            "Test MAPE: 0.044712190954021055\n"
          ]
        }
      ]
    },
    {
      "cell_type": "markdown",
      "source": [
        "**ARIMA**"
      ],
      "metadata": {
        "id": "naaQ6qJCctfh"
      }
    },
    {
      "cell_type": "code",
      "source": [
        "ar = ARIMA(train_df, order=(15,1,15)).fit()\n",
        "ar_train_pred = ar.fittedvalues\n",
        "ar_test_pred = ar.forecast(23)"
      ],
      "metadata": {
        "id": "6H9yDFEBcxJ1"
      },
      "execution_count": 32,
      "outputs": []
    },
    {
      "cell_type": "code",
      "source": [
        "train_df['CO2'].plot(style='--', color='gray', legend=True, label='train_df')\n",
        "test_df['CO2'].plot(style='--', color='r', legend=True, label='test_df')\n",
        "ar_test_pred.plot(color='b', legend=True, label='prediction')\n",
        "plt.show()"
      ],
      "metadata": {
        "colab": {
          "base_uri": "https://localhost:8080/",
          "height": 497
        },
        "id": "v86UncUZc98T",
        "outputId": "b4788eeb-4203-4159-83d5-060886c7b1c2"
      },
      "execution_count": 33,
      "outputs": [
        {
          "output_type": "display_data",
          "data": {
            "text/plain": [
              "<Figure size 864x576 with 1 Axes>"
            ],
            "image/png": "[encoded data removed]"
          },
          "metadata": {
            "needs_background": "light"
          }
        }
      ]
    },
    {
      "cell_type": "code",
      "source": [
        "train_df['CO2'].plot(style='--', color='gray', legend=True, label='train_df')\n",
        "test_df['CO2'].plot(style='--', color='r', legend=True, label='test_df')\n",
        "ar_test_pred.plot(color='b', legend=True, label='prediction')\n",
        "plt.show()"
      ],
      "metadata": {
        "colab": {
          "base_uri": "https://localhost:8080/",
          "height": 497
        },
        "id": "ZNAEHuEFdBxp",
        "outputId": "49bc0913-c09e-409c-ee35-7c2db067d701"
      },
      "execution_count": 34,
      "outputs": [
        {
          "output_type": "display_data",
          "data": {
            "text/plain": [
              "<Figure size 864x576 with 1 Axes>"
            ],
            "image/png": "[encoded data removed]"
          },
          "metadata": {
            "needs_background": "light"
          }
        }
      ]
    },
    {
      "cell_type": "code",
      "source": [
        "print('Train RMSE:',mean_squared_error(train_df, ar_train_pred)**0.5)\n",
        "print('Test RMSE:',mean_squared_error(test_df, ar_test_pred)**0.5)\n",
        "print('Train MAPE:',mean_absolute_percentage_error(train_df, ar_train_pred))\n",
        "print('Test MAPE:',mean_absolute_percentage_error(test_df, ar_test_pred))"
      ],
      "metadata": {
        "colab": {
          "base_uri": "https://localhost:8080/"
        },
        "id": "U5ufCalkdImc",
        "outputId": "41e69771-703e-40dc-c1c8-91f5c58b92b5"
      },
      "execution_count": 35,
      "outputs": [
        {
          "output_type": "stream",
          "name": "stdout",
          "text": [
            "Train RMSE: 0.4678055845540344\n",
            "Test RMSE: 0.9697085294865194\n",
            "Train MAPE: 0.08142094478005486\n",
            "Test MAPE: 0.04814172762040949\n"
          ]
        }
      ]
    },
    {
      "cell_type": "markdown",
      "source": [
        "# Grid Search"
      ],
      "metadata": {
        "id": "C-j-iFeadKM0"
      }
    },
    {
      "cell_type": "code",
      "source": [
        "def evaluate_arima_model(arima_order):\n",
        "    # prepare training dataset\n",
        "    train_df = df.loc[:'1991-01-01']\n",
        "    test_df = df.loc['1992-01-01':]\n",
        "    # make predictions\n",
        "    model = ARIMA(train_df, order=arima_order).fit()\n",
        "    model_pred = model.forecast(23)\n",
        "    rmse = (mean_squared_error(test_df, model_pred)**0.5)\n",
        "    return rmse"
      ],
      "metadata": {
        "id": "iWmg2dMedOhb"
      },
      "execution_count": 36,
      "outputs": []
    },
    {
      "cell_type": "code",
      "source": [
        "def evaluate_models(dataset, p_values, q_values):\n",
        "\tdataset = dataset.astype('float32')\n",
        "\tbest_score, best_cfg = float(\"inf\"), None\n",
        "\tfor p in p_values:\n",
        "\t\tfor q in q_values:\n",
        "\t\t\t\torder = (p,1,q)\n",
        "\t\t\t\ttry:\n",
        "\t\t\t\t\trmse = evaluate_arima_model(order)\n",
        "\t\t\t\t\tif rmse < best_score:\n",
        "\t\t\t\t\t\tbest_score, best_cfg = rmse, order\n",
        "\t\t\t\t\t\n",
        "\t\t\t\texcept:\n",
        "\t\t\t\t\tcontinue\n",
        "\tprint('Best ARIMA%s RMSE=%.3f' % (best_cfg, best_score))"
      ],
      "metadata": {
        "id": "ACBuJhZfdUKu"
      },
      "execution_count": 37,
      "outputs": []
    },
    {
      "cell_type": "code",
      "source": [
        "p_values = [7,15,16,24]\n",
        "q_values = [15,16,18]\n",
        "\n",
        "evaluate_models(df['CO2'].values, p_values, q_values)"
      ],
      "metadata": {
        "colab": {
          "base_uri": "https://localhost:8080/"
        },
        "id": "mpOVD8m_dYKf",
        "outputId": "de068d92-6a96-4c9d-ed87-676f54eae2ad"
      },
      "execution_count": 38,
      "outputs": [
        {
          "output_type": "stream",
          "name": "stdout",
          "text": [
            "Best ARIMA(16, 1, 16) RMSE=0.788\n"
          ]
        }
      ]
    },
    {
      "cell_type": "code",
      "source": [
        "arima = ARIMA(train_df['CO2'], order=(16,1,16)).fit()\n",
        "arima_train_pred = arima.predict()\n",
        "arima_test_pred = arima.forecast(23)"
      ],
      "metadata": {
        "id": "pZoZudwldjdk"
      },
      "execution_count": 39,
      "outputs": []
    },
    {
      "cell_type": "code",
      "source": [
        "train_df['CO2'].plot(style='--', color='gray', legend=True, label='train_df')\n",
        "test_df['CO2'].plot(style='--', color='r', legend=True, label='test_df')\n",
        "arima_test_pred.plot(color='b', legend=True, label='prediction')\n",
        "plt.show()"
      ],
      "metadata": {
        "colab": {
          "base_uri": "https://localhost:8080/",
          "height": 497
        },
        "id": "TGw9-UmCduiF",
        "outputId": "0b65bbe4-4749-49ca-a219-ade71dfd7a53"
      },
      "execution_count": 40,
      "outputs": [
        {
          "output_type": "display_data",
          "data": {
            "text/plain": [
              "<Figure size 864x576 with 1 Axes>"
            ],
            "image/png": "[encoded data removed]"
          },
          "metadata": {
            "needs_background": "light"
          }
        }
      ]
    },
    {
      "cell_type": "code",
      "source": [
        "print('Train RMSE:',mean_squared_error(train_df, arima_train_pred)**0.5)\n",
        "print('Test RMSE:',mean_squared_error(test_df, arima_test_pred)**0.5)\n",
        "print('Train MAPE:',mean_absolute_percentage_error(train_df, arima_train_pred))\n",
        "print('Test MAPE:',mean_absolute_percentage_error(test_df, arima_test_pred))"
      ],
      "metadata": {
        "colab": {
          "base_uri": "https://localhost:8080/"
        },
        "id": "273l2-B8d2tr",
        "outputId": "8f1303da-82c0-4a94-ac98-e41c2d0b737d"
      },
      "execution_count": 41,
      "outputs": [
        {
          "output_type": "stream",
          "name": "stdout",
          "text": [
            "Train RMSE: 0.45791547238679126\n",
            "Test RMSE: 0.7875833887833542\n",
            "Train MAPE: 0.08105251237386481\n",
            "Test MAPE: 0.039144125911325656\n"
          ]
        }
      ]
    },
    {
      "cell_type": "markdown",
      "source": [
        "# Auto Arima- SARIMA"
      ],
      "metadata": {
        "id": "sYUtzOCOd6gl"
      }
    },
    {
      "cell_type": "code",
      "source": [
        "auto_arima(df['CO2'], m=30, max_order= None, max_p=16, max_q=16, max_d=1,max_P=16, max_Q=16, max_D=2, maxiter=50, alpha=0.05, n_jobs=-1,information_criterion='aic', out_of_sample_size=30).summary()"
      ],
      "metadata": {
        "colab": {
          "base_uri": "https://localhost:8080/",
          "height": 426
        },
        "id": "0fKNJC3id59Y",
        "outputId": "5a36b43a-af17-4c31-a206-28495d1b3022"
      },
      "execution_count": 42,
      "outputs": [
        {
          "output_type": "execute_result",
          "data": {
            "text/plain": [
              "<class 'statsmodels.iolib.summary.Summary'>\n",
              "\"\"\"\n",
              "                                     SARIMAX Results                                      \n",
              "==========================================================================================\n",
              "Dep. Variable:                                  y   No. Observations:                  215\n",
              "Model:             SARIMAX(0, 1, 0)x(1, 0, 0, 30)   Log Likelihood                -171.435\n",
              "Date:                            Sun, 09 Oct 2022   AIC                            348.870\n",
              "Time:                                    11:20:00   BIC                            358.968\n",
              "Sample:                                         0   HQIC                           352.950\n",
              "                                            - 215                                         \n",
              "Covariance Type:                              opg                                         \n",
              "==============================================================================\n",
              "                 coef    std err          z      P>|z|      [0.025      0.975]\n",
              "------------------------------------------------------------------------------\n",
              "intercept      0.0539      0.037      1.437      0.151      -0.020       0.127\n",
              "ar.S.L30       0.1737      0.063      2.743      0.006       0.050       0.298\n",
              "sigma2         0.2895      0.016     17.659      0.000       0.257       0.322\n",
              "===================================================================================\n",
              "Ljung-Box (L1) (Q):                   0.46   Jarque-Bera (JB):               134.27\n",
              "Prob(Q):                              0.50   Prob(JB):                         0.00\n",
              "Heteroskedasticity (H):              73.27   Skew:                            -0.16\n",
              "Prob(H) (two-sided):                  0.00   Kurtosis:                         6.87\n",
              "===================================================================================\n",
              "\n",
              "Warnings:\n",
              "[1] Covariance matrix calculated using the outer product of gradients (complex-step).\n",
              "\"\"\""
            ],
            "text/html": [
              "<table class=\"simpletable\">\n",
              "<caption>SARIMAX Results</caption>\n",
              "<tr>\n",
              "  <th>Dep. Variable:</th>                  <td>y</td>               <th>  No. Observations:  </th>    <td>215</td>  \n",
              "</tr>\n",
              "<tr>\n",
              "  <th>Model:</th>           <td>SARIMAX(0, 1, 0)x(1, 0, 0, 30)</td> <th>  Log Likelihood     </th> <td>-171.435</td>\n",
              "</tr>\n",
              "<tr>\n",
              "  <th>Date:</th>                   <td>Sun, 09 Oct 2022</td>        <th>  AIC                </th>  <td>348.870</td>\n",
              "</tr>\n",
              "<tr>\n",
              "  <th>Time:</th>                       <td>11:20:00</td>            <th>  BIC                </th>  <td>358.968</td>\n",
              "</tr>\n",
              "<tr>\n",
              "  <th>Sample:</th>                         <td>0</td>               <th>  HQIC               </th>  <td>352.950</td>\n",
              "</tr>\n",
              "<tr>\n",
              "  <th></th>                             <td> - 215</td>             <th>                     </th>     <td> </td>   \n",
              "</tr>\n",
              "<tr>\n",
              "  <th>Covariance Type:</th>               <td>opg</td>              <th>                     </th>     <td> </td>   \n",
              "</tr>\n",
              "</table>\n",
              "<table class=\"simpletable\">\n",
              "<tr>\n",
              "      <td></td>         <th>coef</th>     <th>std err</th>      <th>z</th>      <th>P>|z|</th>  <th>[0.025</th>    <th>0.975]</th>  \n",
              "</tr>\n",
              "<tr>\n",
              "  <th>intercept</th> <td>    0.0539</td> <td>    0.037</td> <td>    1.437</td> <td> 0.151</td> <td>   -0.020</td> <td>    0.127</td>\n",
              "</tr>\n",
              "<tr>\n",
              "  <th>ar.S.L30</th>  <td>    0.1737</td> <td>    0.063</td> <td>    2.743</td> <td> 0.006</td> <td>    0.050</td> <td>    0.298</td>\n",
              "</tr>\n",
              "<tr>\n",
              "  <th>sigma2</th>    <td>    0.2895</td> <td>    0.016</td> <td>   17.659</td> <td> 0.000</td> <td>    0.257</td> <td>    0.322</td>\n",
              "</tr>\n",
              "</table>\n",
              "<table class=\"simpletable\">\n",
              "<tr>\n",
              "  <th>Ljung-Box (L1) (Q):</th>     <td>0.46</td>  <th>  Jarque-Bera (JB):  </th> <td>134.27</td>\n",
              "</tr>\n",
              "<tr>\n",
              "  <th>Prob(Q):</th>                <td>0.50</td>  <th>  Prob(JB):          </th>  <td>0.00</td> \n",
              "</tr>\n",
              "<tr>\n",
              "  <th>Heteroskedasticity (H):</th> <td>73.27</td> <th>  Skew:              </th>  <td>-0.16</td>\n",
              "</tr>\n",
              "<tr>\n",
              "  <th>Prob(H) (two-sided):</th>    <td>0.00</td>  <th>  Kurtosis:          </th>  <td>6.87</td> \n",
              "</tr>\n",
              "</table><br/><br/>Warnings:<br/>[1] Covariance matrix calculated using the outer product of gradients (complex-step)."
            ]
          },
          "metadata": {},
          "execution_count": 42
        }
      ]
    },
    {
      "cell_type": "code",
      "source": [
        "# pass the order and seasonal order values we got from auto arima\n",
        "sarima = SARIMAX(train_df['CO2'], order=(0,1,0), seasonal_order=(1,0,0,30)).fit()\n",
        "sarima_train_pred = sarima.predict()\n",
        "sarima_test_pred = sarima.forecast(23)"
      ],
      "metadata": {
        "id": "P7V8-RX1eITg"
      },
      "execution_count": 43,
      "outputs": []
    },
    {
      "cell_type": "code",
      "source": [
        "train_df['CO2'].plot(style='--', color='gray', legend=True, label='train_df')\n",
        "test_df['CO2'].plot(style='--', color='r', legend=True, label='test_df')\n",
        "sarima_test_pred.plot(color='b', legend=True, label='prediction')\n",
        "plt.show()"
      ],
      "metadata": {
        "colab": {
          "base_uri": "https://localhost:8080/",
          "height": 497
        },
        "id": "Sm4QSnTceQUs",
        "outputId": "01c7407c-119e-476a-905c-dd24df3cf39f"
      },
      "execution_count": 44,
      "outputs": [
        {
          "output_type": "display_data",
          "data": {
            "text/plain": [
              "<Figure size 864x576 with 1 Axes>"
            ],
            "image/png": "[encoded data removed]"
          },
          "metadata": {
            "needs_background": "light"
          }
        }
      ]
    },
    {
      "cell_type": "markdown",
      "source": [
        "# Univariate  analysis"
      ],
      "metadata": {
        "id": "VjOQVKRifDU3"
      }
    },
    {
      "cell_type": "code",
      "source": [
        "prophet_df = df.copy()\n",
        "prophet_df.reset_index(inplace=True)\n",
        "prophet_df.columns=['ds','y']\n",
        "prophet_df.head()"
      ],
      "metadata": {
        "colab": {
          "base_uri": "https://localhost:8080/",
          "height": 206
        },
        "id": "EU5wEEgyeeLu",
        "outputId": "21d75f66-c0d5-4d8c-8ee1-1a6aac804fd3"
      },
      "execution_count": 45,
      "outputs": [
        {
          "output_type": "execute_result",
          "data": {
            "text/plain": [
              "          ds        y\n",
              "0 1800-01-01  0.00568\n",
              "1 1801-01-01  0.00561\n",
              "2 1802-01-01  0.00555\n",
              "3 1803-01-01  0.00548\n",
              "4 1804-01-01  0.00542"
            ],
            "text/html": [
              "\n",
              "  <div id=\"df-2a46d8df-9b67-4e48-baa5-e27b7fd7e1e5\">\n",
              "    <div class=\"colab-df-container\">\n",
              "      <div>\n",
              "<style scoped>\n",
              "    .dataframe tbody tr th:only-of-type {\n",
              "        vertical-align: middle;\n",
              "    }\n",
              "\n",
              "    .dataframe tbody tr th {\n",
              "        vertical-align: top;\n",
              "    }\n",
              "\n",
              "    .dataframe thead th {\n",
              "        text-align: right;\n",
              "    }\n",
              "</style>\n",
              "<table border=\"1\" class=\"dataframe\">\n",
              "  <thead>\n",
              "    <tr style=\"text-align: right;\">\n",
              "      <th></th>\n",
              "      <th>ds</th>\n",
              "      <th>y</th>\n",
              "    </tr>\n",
              "  </thead>\n",
              "  <tbody>\n",
              "    <tr>\n",
              "      <th>0</th>\n",
              "      <td>1800-01-01</td>\n",
              "      <td>0.00568</td>\n",
              "    </tr>\n",
              "    <tr>\n",
              "      <th>1</th>\n",
              "      <td>1801-01-01</td>\n",
              "      <td>0.00561</td>\n",
              "    </tr>\n",
              "    <tr>\n",
              "      <th>2</th>\n",
              "      <td>1802-01-01</td>\n",
              "      <td>0.00555</td>\n",
              "    </tr>\n",
              "    <tr>\n",
              "      <th>3</th>\n",
              "      <td>1803-01-01</td>\n",
              "      <td>0.00548</td>\n",
              "    </tr>\n",
              "    <tr>\n",
              "      <th>4</th>\n",
              "      <td>1804-01-01</td>\n",
              "      <td>0.00542</td>\n",
              "    </tr>\n",
              "  </tbody>\n",
              "</table>\n",
              "</div>\n",
              "      <button class=\"colab-df-convert\" onclick=\"convertToInteractive('df-2a46d8df-9b67-4e48-baa5-e27b7fd7e1e5')\"\n",
              "              title=\"Convert this dataframe to an interactive table.\"\n",
              "              style=\"display:none;\">\n",
              "        \n",
              "  <svg xmlns=\"http://www.w3.org/2000/svg\" height=\"24px\"viewBox=\"0 0 24 24\"\n",
              "       width=\"24px\">\n",
              "    <path d=\"M0 0h24v24H0V0z\" fill=\"none\"/>\n",
              "    <path d=\"M18.56 5.44l.94 2.06.94-2.06 2.06-.94-2.06-.94-.94-2.06-.94 2.06-2.06.94zm-11 1L8.5 8.5l.94-2.06 2.06-.94-2.06-.94L8.5 2.5l-.94 2.06-2.06.94zm10 10l.94 2.06.94-2.06 2.06-.94-2.06-.94-.94-2.06-.94 2.06-2.06.94z\"/><path d=\"M17.41 7.96l-1.37-1.37c-.4-.4-.92-.59-1.43-.59-.52 0-1.04.2-1.43.59L10.3 9.45l-7.72 7.72c-.78.78-.78 2.05 0 2.83L4 21.41c.39.39.9.59 1.41.59.51 0 1.02-.2 1.41-.59l7.78-7.78 2.81-2.81c.8-.78.8-2.07 0-2.86zM5.41 20L4 18.59l7.72-7.72 1.47 1.35L5.41 20z\"/>\n",
              "  </svg>\n",
              "      </button>\n",
              "      \n",
              "  <style>\n",
              "    .colab-df-container {\n",
              "      display:flex;\n",
              "      flex-wrap:wrap;\n",
              "      gap: 12px;\n",
              "    }\n",
              "\n",
              "    .colab-df-convert {\n",
              "      background-color: #E8F0FE;\n",
              "      border: none;\n",
              "      border-radius: 50%;\n",
              "      cursor: pointer;\n",
              "      display: none;\n",
              "      fill: #1967D2;\n",
              "      height: 32px;\n",
              "      padding: 0 0 0 0;\n",
              "      width: 32px;\n",
              "    }\n",
              "\n",
              "    .colab-df-convert:hover {\n",
              "      background-color: #E2EBFA;\n",
              "      box-shadow: 0px 1px 2px rgba(60, 64, 67, 0.3), 0px 1px 3px 1px rgba(60, 64, 67, 0.15);\n",
              "      fill: #174EA6;\n",
              "    }\n",
              "\n",
              "    [theme=dark] .colab-df-convert {\n",
              "      background-color: #3B4455;\n",
              "      fill: #D2E3FC;\n",
              "    }\n",
              "\n",
              "    [theme=dark] .colab-df-convert:hover {\n",
              "      background-color: #434B5C;\n",
              "      box-shadow: 0px 1px 3px 1px rgba(0, 0, 0, 0.15);\n",
              "      filter: drop-shadow(0px 1px 2px rgba(0, 0, 0, 0.3));\n",
              "      fill: #FFFFFF;\n",
              "    }\n",
              "  </style>\n",
              "\n",
              "      <script>\n",
              "        const buttonEl =\n",
              "          document.querySelector('#df-2a46d8df-9b67-4e48-baa5-e27b7fd7e1e5 button.colab-df-convert');\n",
              "        buttonEl.style.display =\n",
              "          google.colab.kernel.accessAllowed ? 'block' : 'none';\n",
              "\n",
              "        async function convertToInteractive(key) {\n",
              "          const element = document.querySelector('#df-2a46d8df-9b67-4e48-baa5-e27b7fd7e1e5');\n",
              "          const dataTable =\n",
              "            await google.colab.kernel.invokeFunction('convertToInteractive',\n",
              "                                                     [key], {});\n",
              "          if (!dataTable) return;\n",
              "\n",
              "          const docLinkHtml = 'Like what you see? Visit the ' +\n",
              "            '<a target=\"_blank\" href=https://colab.research.google.com/notebooks/data_table.ipynb>data table notebook</a>'\n",
              "            + ' to learn more about interactive tables.';\n",
              "          element.innerHTML = '';\n",
              "          dataTable['output_type'] = 'display_data';\n",
              "          await google.colab.output.renderOutput(dataTable, element);\n",
              "          const docLink = document.createElement('div');\n",
              "          docLink.innerHTML = docLinkHtml;\n",
              "          element.appendChild(docLink);\n",
              "        }\n",
              "      </script>\n",
              "    </div>\n",
              "  </div>\n",
              "  "
            ]
          },
          "metadata": {},
          "execution_count": 45
        }
      ]
    },
    {
      "cell_type": "code",
      "source": [
        "prophet_train_df = prophet_df.iloc[:-23]\n",
        "prophet_test_df = prophet_df.iloc[-23:]"
      ],
      "metadata": {
        "id": "i_xla_tNfQi_"
      },
      "execution_count": 46,
      "outputs": []
    },
    {
      "cell_type": "code",
      "source": [
        "prophet_model = Prophet()\n",
        "prophet_model.fit(prophet_train_df)"
      ],
      "metadata": {
        "colab": {
          "base_uri": "https://localhost:8080/"
        },
        "id": "m_hkwFXFfXbH",
        "outputId": "15a0df61-16db-4275-d8a6-67433307f7f4"
      },
      "execution_count": 47,
      "outputs": [
        {
          "output_type": "stream",
          "name": "stderr",
          "text": [
            "INFO:prophet:Disabling weekly seasonality. Run prophet with weekly_seasonality=True to override this.\n",
            "INFO:prophet:Disabling daily seasonality. Run prophet with daily_seasonality=True to override this.\n",
            "DEBUG:cmdstanpy:input tempfile: /tmp/tmps658vz1y/7fw4gtqk.json\n",
            "DEBUG:cmdstanpy:input tempfile: /tmp/tmps658vz1y/dxoifw_n.json\n",
            "DEBUG:cmdstanpy:idx 0\n",
            "DEBUG:cmdstanpy:running CmdStan, num_threads: None\n",
            "DEBUG:cmdstanpy:CmdStan args: ['/usr/local/lib/python3.7/dist-packages/prophet/stan_model/prophet_model.bin', 'random', 'seed=89055', 'data', 'file=/tmp/tmps658vz1y/7fw4gtqk.json', 'init=/tmp/tmps658vz1y/dxoifw_n.json', 'output', 'file=/tmp/tmps658vz1y/prophet_modeldi1gq1sm/prophet_model-20221009112451.csv', 'method=optimize', 'algorithm=lbfgs', 'iter=10000']\n",
            "11:24:51 - cmdstanpy - INFO - Chain [1] start processing\n",
            "INFO:cmdstanpy:Chain [1] start processing\n",
            "11:24:52 - cmdstanpy - INFO - Chain [1] done processing\n",
            "INFO:cmdstanpy:Chain [1] done processing\n"
          ]
        },
        {
          "output_type": "execute_result",
          "data": {
            "text/plain": [
              "<prophet.forecaster.Prophet at 0x7ff6e8369390>"
            ]
          },
          "metadata": {},
          "execution_count": 47
        }
      ]
    },
    {
      "cell_type": "code",
      "source": [
        "future = prophet_model.make_future_dataframe(periods=23, freq='YS')\n",
        "prophet_predictions = prophet_model.predict(future)"
      ],
      "metadata": {
        "id": "xYZdkxG1faO0"
      },
      "execution_count": 48,
      "outputs": []
    },
    {
      "cell_type": "code",
      "source": [
        "prophet_predictions.tail()"
      ],
      "metadata": {
        "colab": {
          "base_uri": "https://localhost:8080/",
          "height": 357
        },
        "id": "cIGUrSEPfe8k",
        "outputId": "34fd4af5-9948-44f0-f8f2-b51e0f760d48"
      },
      "execution_count": 49,
      "outputs": [
        {
          "output_type": "execute_result",
          "data": {
            "text/plain": [
              "            ds      trend  yhat_lower  yhat_upper  trend_lower  trend_upper  \\\n",
              "210 2010-01-01  19.682824   18.471219   21.300788    19.541468    19.844600   \n",
              "211 2011-01-01  19.824644   18.786033   21.746011    19.672966    19.998533   \n",
              "212 2012-01-01  19.966463   19.187573   22.039153    19.801045    20.150967   \n",
              "213 2013-01-01  20.108671   18.527254   21.589789    19.929648    20.305034   \n",
              "214 2014-01-01  20.250491   19.039146   21.880484    20.055959    20.459872   \n",
              "\n",
              "     additive_terms  additive_terms_lower  additive_terms_upper    yearly  \\\n",
              "210        0.198590              0.198590              0.198590  0.198590   \n",
              "211        0.423988              0.423988              0.423988  0.423988   \n",
              "212        0.649965              0.649965              0.649965  0.649965   \n",
              "213       -0.025953             -0.025953             -0.025953 -0.025953   \n",
              "214        0.198590              0.198590              0.198590  0.198590   \n",
              "\n",
              "     yearly_lower  yearly_upper  multiplicative_terms  \\\n",
              "210      0.198590      0.198590                   0.0   \n",
              "211      0.423988      0.423988                   0.0   \n",
              "212      0.649965      0.649965                   0.0   \n",
              "213     -0.025953     -0.025953                   0.0   \n",
              "214      0.198590      0.198590                   0.0   \n",
              "\n",
              "     multiplicative_terms_lower  multiplicative_terms_upper       yhat  \n",
              "210                         0.0                         0.0  19.881414  \n",
              "211                         0.0                         0.0  20.248632  \n",
              "212                         0.0                         0.0  20.616428  \n",
              "213                         0.0                         0.0  20.082719  \n",
              "214                         0.0                         0.0  20.449081  "
            ],
            "text/html": [
              "\n",
              "  <div id=\"df-8311557f-5c87-4df5-a55a-6642bdc9f7e1\">\n",
              "    <div class=\"colab-df-container\">\n",
              "      <div>\n",
              "<style scoped>\n",
              "    .dataframe tbody tr th:only-of-type {\n",
              "        vertical-align: middle;\n",
              "    }\n",
              "\n",
              "    .dataframe tbody tr th {\n",
              "        vertical-align: top;\n",
              "    }\n",
              "\n",
              "    .dataframe thead th {\n",
              "        text-align: right;\n",
              "    }\n",
              "</style>\n",
              "<table border=\"1\" class=\"dataframe\">\n",
              "  <thead>\n",
              "    <tr style=\"text-align: right;\">\n",
              "      <th></th>\n",
              "      <th>ds</th>\n",
              "      <th>trend</th>\n",
              "      <th>yhat_lower</th>\n",
              "      <th>yhat_upper</th>\n",
              "      <th>trend_lower</th>\n",
              "      <th>trend_upper</th>\n",
              "      <th>additive_terms</th>\n",
              "      <th>additive_terms_lower</th>\n",
              "      <th>additive_terms_upper</th>\n",
              "      <th>yearly</th>\n",
              "      <th>yearly_lower</th>\n",
              "      <th>yearly_upper</th>\n",
              "      <th>multiplicative_terms</th>\n",
              "      <th>multiplicative_terms_lower</th>\n",
              "      <th>multiplicative_terms_upper</th>\n",
              "      <th>yhat</th>\n",
              "    </tr>\n",
              "  </thead>\n",
              "  <tbody>\n",
              "    <tr>\n",
              "      <th>210</th>\n",
              "      <td>2010-01-01</td>\n",
              "      <td>19.682824</td>\n",
              "      <td>18.471219</td>\n",
              "      <td>21.300788</td>\n",
              "      <td>19.541468</td>\n",
              "      <td>19.844600</td>\n",
              "      <td>0.198590</td>\n",
              "      <td>0.198590</td>\n",
              "      <td>0.198590</td>\n",
              "      <td>0.198590</td>\n",
              "      <td>0.198590</td>\n",
              "      <td>0.198590</td>\n",
              "      <td>0.0</td>\n",
              "      <td>0.0</td>\n",
              "      <td>0.0</td>\n",
              "      <td>19.881414</td>\n",
              "    </tr>\n",
              "    <tr>\n",
              "      <th>211</th>\n",
              "      <td>2011-01-01</td>\n",
              "      <td>19.824644</td>\n",
              "      <td>18.786033</td>\n",
              "      <td>21.746011</td>\n",
              "      <td>19.672966</td>\n",
              "      <td>19.998533</td>\n",
              "      <td>0.423988</td>\n",
              "      <td>0.423988</td>\n",
              "      <td>0.423988</td>\n",
              "      <td>0.423988</td>\n",
              "      <td>0.423988</td>\n",
              "      <td>0.423988</td>\n",
              "      <td>0.0</td>\n",
              "      <td>0.0</td>\n",
              "      <td>0.0</td>\n",
              "      <td>20.248632</td>\n",
              "    </tr>\n",
              "    <tr>\n",
              "      <th>212</th>\n",
              "      <td>2012-01-01</td>\n",
              "      <td>19.966463</td>\n",
              "      <td>19.187573</td>\n",
              "      <td>22.039153</td>\n",
              "      <td>19.801045</td>\n",
              "      <td>20.150967</td>\n",
              "      <td>0.649965</td>\n",
              "      <td>0.649965</td>\n",
              "      <td>0.649965</td>\n",
              "      <td>0.649965</td>\n",
              "      <td>0.649965</td>\n",
              "      <td>0.649965</td>\n",
              "      <td>0.0</td>\n",
              "      <td>0.0</td>\n",
              "      <td>0.0</td>\n",
              "      <td>20.616428</td>\n",
              "    </tr>\n",
              "    <tr>\n",
              "      <th>213</th>\n",
              "      <td>2013-01-01</td>\n",
              "      <td>20.108671</td>\n",
              "      <td>18.527254</td>\n",
              "      <td>21.589789</td>\n",
              "      <td>19.929648</td>\n",
              "      <td>20.305034</td>\n",
              "      <td>-0.025953</td>\n",
              "      <td>-0.025953</td>\n",
              "      <td>-0.025953</td>\n",
              "      <td>-0.025953</td>\n",
              "      <td>-0.025953</td>\n",
              "      <td>-0.025953</td>\n",
              "      <td>0.0</td>\n",
              "      <td>0.0</td>\n",
              "      <td>0.0</td>\n",
              "      <td>20.082719</td>\n",
              "    </tr>\n",
              "    <tr>\n",
              "      <th>214</th>\n",
              "      <td>2014-01-01</td>\n",
              "      <td>20.250491</td>\n",
              "      <td>19.039146</td>\n",
              "      <td>21.880484</td>\n",
              "      <td>20.055959</td>\n",
              "      <td>20.459872</td>\n",
              "      <td>0.198590</td>\n",
              "      <td>0.198590</td>\n",
              "      <td>0.198590</td>\n",
              "      <td>0.198590</td>\n",
              "      <td>0.198590</td>\n",
              "      <td>0.198590</td>\n",
              "      <td>0.0</td>\n",
              "      <td>0.0</td>\n",
              "      <td>0.0</td>\n",
              "      <td>20.449081</td>\n",
              "    </tr>\n",
              "  </tbody>\n",
              "</table>\n",
              "</div>\n",
              "      <button class=\"colab-df-convert\" onclick=\"convertToInteractive('df-8311557f-5c87-4df5-a55a-6642bdc9f7e1')\"\n",
              "              title=\"Convert this dataframe to an interactive table.\"\n",
              "              style=\"display:none;\">\n",
              "        \n",
              "  <svg xmlns=\"http://www.w3.org/2000/svg\" height=\"24px\"viewBox=\"0 0 24 24\"\n",
              "       width=\"24px\">\n",
              "    <path d=\"M0 0h24v24H0V0z\" fill=\"none\"/>\n",
              "    <path d=\"M18.56 5.44l.94 2.06.94-2.06 2.06-.94-2.06-.94-.94-2.06-.94 2.06-2.06.94zm-11 1L8.5 8.5l.94-2.06 2.06-.94-2.06-.94L8.5 2.5l-.94 2.06-2.06.94zm10 10l.94 2.06.94-2.06 2.06-.94-2.06-.94-.94-2.06-.94 2.06-2.06.94z\"/><path d=\"M17.41 7.96l-1.37-1.37c-.4-.4-.92-.59-1.43-.59-.52 0-1.04.2-1.43.59L10.3 9.45l-7.72 7.72c-.78.78-.78 2.05 0 2.83L4 21.41c.39.39.9.59 1.41.59.51 0 1.02-.2 1.41-.59l7.78-7.78 2.81-2.81c.8-.78.8-2.07 0-2.86zM5.41 20L4 18.59l7.72-7.72 1.47 1.35L5.41 20z\"/>\n",
              "  </svg>\n",
              "      </button>\n",
              "      \n",
              "  <style>\n",
              "    .colab-df-container {\n",
              "      display:flex;\n",
              "      flex-wrap:wrap;\n",
              "      gap: 12px;\n",
              "    }\n",
              "\n",
              "    .colab-df-convert {\n",
              "      background-color: #E8F0FE;\n",
              "      border: none;\n",
              "      border-radius: 50%;\n",
              "      cursor: pointer;\n",
              "      display: none;\n",
              "      fill: #1967D2;\n",
              "      height: 32px;\n",
              "      padding: 0 0 0 0;\n",
              "      width: 32px;\n",
              "    }\n",
              "\n",
              "    .colab-df-convert:hover {\n",
              "      background-color: #E2EBFA;\n",
              "      box-shadow: 0px 1px 2px rgba(60, 64, 67, 0.3), 0px 1px 3px 1px rgba(60, 64, 67, 0.15);\n",
              "      fill: #174EA6;\n",
              "    }\n",
              "\n",
              "    [theme=dark] .colab-df-convert {\n",
              "      background-color: #3B4455;\n",
              "      fill: #D2E3FC;\n",
              "    }\n",
              "\n",
              "    [theme=dark] .colab-df-convert:hover {\n",
              "      background-color: #434B5C;\n",
              "      box-shadow: 0px 1px 3px 1px rgba(0, 0, 0, 0.15);\n",
              "      filter: drop-shadow(0px 1px 2px rgba(0, 0, 0, 0.3));\n",
              "      fill: #FFFFFF;\n",
              "    }\n",
              "  </style>\n",
              "\n",
              "      <script>\n",
              "        const buttonEl =\n",
              "          document.querySelector('#df-8311557f-5c87-4df5-a55a-6642bdc9f7e1 button.colab-df-convert');\n",
              "        buttonEl.style.display =\n",
              "          google.colab.kernel.accessAllowed ? 'block' : 'none';\n",
              "\n",
              "        async function convertToInteractive(key) {\n",
              "          const element = document.querySelector('#df-8311557f-5c87-4df5-a55a-6642bdc9f7e1');\n",
              "          const dataTable =\n",
              "            await google.colab.kernel.invokeFunction('convertToInteractive',\n",
              "                                                     [key], {});\n",
              "          if (!dataTable) return;\n",
              "\n",
              "          const docLinkHtml = 'Like what you see? Visit the ' +\n",
              "            '<a target=\"_blank\" href=https://colab.research.google.com/notebooks/data_table.ipynb>data table notebook</a>'\n",
              "            + ' to learn more about interactive tables.';\n",
              "          element.innerHTML = '';\n",
              "          dataTable['output_type'] = 'display_data';\n",
              "          await google.colab.output.renderOutput(dataTable, element);\n",
              "          const docLink = document.createElement('div');\n",
              "          docLink.innerHTML = docLinkHtml;\n",
              "          element.appendChild(docLink);\n",
              "        }\n",
              "      </script>\n",
              "    </div>\n",
              "  </div>\n",
              "  "
            ]
          },
          "metadata": {},
          "execution_count": 49
        }
      ]
    },
    {
      "cell_type": "code",
      "source": [
        "plot_plotly(prophet_model, prophet_predictions)"
      ],
      "metadata": {
        "colab": {
          "base_uri": "https://localhost:8080/",
          "height": 617
        },
        "id": "FjHQgGNmfnln",
        "outputId": "dab2bebe-85dd-42b9-9ead-d1dd2f0a3534"
      },
      "execution_count": 50,
      "outputs": [
        {
          "output_type": "display_data",
          "data": {
            "text/html": [
              "<html>\n",
              "<head><meta charset=\"utf-8\" /></head>\n",
              "<body>\n",
              "    <div>            <script src=\"https://cdnjs.cloudflare.com/ajax/libs/mathjax/2.7.5/MathJax.js?config=TeX-AMS-MML_SVG\"></script><script type=\"text/javascript\">if (window.MathJax) {MathJax.Hub.Config({SVG: {font: \"STIX-Web\"}});}</script>                <script type=\"text/javascript\">window.PlotlyConfig = {MathJaxConfig: 'local'};</script>\n",
              "        <script src=\"https://cdn.plot.ly/plotly-2.8.3.min.js\"></script>                <div id=\"873d5f6c-30f3-4d45-b0ae-47fe646454db\" class=\"plotly-graph-div\" style=\"height:600px; width:900px;\"></div>            <script type=\"text/javascript\">                                    window.PLOTLYENV=window.PLOTLYENV || {};                                    if (document.getElementById(\"873d5f6c-30f3-4d45-b0ae-47fe646454db\")) {                    Plotly.newPlot(                        \"873d5f6c-30f3-4d45-b0ae-47fe646454db\",                        [{\"marker\":{\"color\":\"black\",\"size\":4},\"mode\":\"markers\",\"name\":\"Actual\",\"x\":[\"1800-01-01T00:00:00\",\"1801-01-01T00:00:00\",\"1802-01-01T00:00:00\",\"1803-01-01T00:00:00\",\"1804-01-01T00:00:00\",\"1805-01-01T00:00:00\",\"1806-01-01T00:00:00\",\"1807-01-01T00:00:00\",\"1808-01-01T00:00:00\",\"1809-01-01T00:00:00\",\"1810-01-01T00:00:00\",\"1811-01-01T00:00:00\",\"1812-01-01T00:00:00\",\"1813-01-01T00:00:00\",\"1814-01-01T00:00:00\",\"1815-01-01T00:00:00\",\"1816-01-01T00:00:00\",\"1817-01-01T00:00:00\",\"1818-01-01T00:00:00\",\"1819-01-01T00:00:00\",\"1820-01-01T00:00:00\",\"1821-01-01T00:00:00\",\"1822-01-01T00:00:00\",\"1823-01-01T00:00:00\",\"1824-01-01T00:00:00\",\"1825-01-01T00:00:00\",\"1826-01-01T00:00:00\",\"1827-01-01T00:00:00\",\"1828-01-01T00:00:00\",\"1829-01-01T00:00:00\",\"1830-01-01T00:00:00\",\"1831-01-01T00:00:00\",\"1832-01-01T00:00:00\",\"1833-01-01T00:00:00\",\"1834-01-01T00:00:00\",\"1835-01-01T00:00:00\",\"1836-01-01T00:00:00\",\"1837-01-01T00:00:00\",\"1838-01-01T00:00:00\",\"1839-01-01T00:00:00\",\"1840-01-01T00:00:00\",\"1841-01-01T00:00:00\",\"1842-01-01T00:00:00\",\"1843-01-01T00:00:00\",\"1844-01-01T00:00:00\",\"1845-01-01T00:00:00\",\"1846-01-01T00:00:00\",\"1847-01-01T00:00:00\",\"1848-01-01T00:00:00\",\"1849-01-01T00:00:00\",\"1850-01-01T00:00:00\",\"1851-01-01T00:00:00\",\"1852-01-01T00:00:00\",\"1853-01-01T00:00:00\",\"1854-01-01T00:00:00\",\"1855-01-01T00:00:00\",\"1856-01-01T00:00:00\",\"1857-01-01T00:00:00\",\"1858-01-01T00:00:00\",\"1859-01-01T00:00:00\",\"1860-01-01T00:00:00\",\"1861-01-01T00:00:00\",\"1862-01-01T00:00:00\",\"1863-01-01T00:00:00\",\"1864-01-01T00:00:00\",\"1865-01-01T00:00:00\",\"1866-01-01T00:00:00\",\"1867-01-01T00:00:00\",\"1868-01-01T00:00:00\",\"1869-01-01T00:00:00\",\"1870-01-01T00:00:00\",\"1871-01-01T00:00:00\",\"1872-01-01T00:00:00\",\"1873-01-01T00:00:00\",\"1874-01-01T00:00:00\",\"1875-01-01T00:00:00\",\"1876-01-01T00:00:00\",\"1877-01-01T00:00:00\",\"1878-01-01T00:00:00\",\"1879-01-01T00:00:00\",\"1880-01-01T00:00:00\",\"1881-01-01T00:00:00\",\"1882-01-01T00:00:00\",\"1883-01-01T00:00:00\",\"1884-01-01T00:00:00\",\"1885-01-01T00:00:00\",\"1886-01-01T00:00:00\",\"1887-01-01T00:00:00\",\"1888-01-01T00:00:00\",\"1889-01-01T00:00:00\",\"1890-01-01T00:00:00\",\"1891-01-01T00:00:00\",\"1892-01-01T00:00:00\",\"1893-01-01T00:00:00\",\"1894-01-01T00:00:00\",\"1895-01-01T00:00:00\",\"1896-01-01T00:00:00\",\"1897-01-01T00:00:00\",\"1898-01-01T00:00:00\",\"1899-01-01T00:00:00\",\"1900-01-01T00:00:00\",\"1901-01-01T00:00:00\",\"1902-01-01T00:00:00\",\"1903-01-01T00:00:00\",\"1904-01-01T00:00:00\",\"1905-01-01T00:00:00\",\"1906-01-01T00:00:00\",\"1907-01-01T00:00:00\",\"1908-01-01T00:00:00\",\"1909-01-01T00:00:00\",\"1910-01-01T00:00:00\",\"1911-01-01T00:00:00\",\"1912-01-01T00:00:00\",\"1913-01-01T00:00:00\",\"1914-01-01T00:00:00\",\"1915-01-01T00:00:00\",\"1916-01-01T00:00:00\",\"1917-01-01T00:00:00\",\"1918-01-01T00:00:00\",\"1919-01-01T00:00:00\",\"1920-01-01T00:00:00\",\"1921-01-01T00:00:00\",\"1922-01-01T00:00:00\",\"1923-01-01T00:00:00\",\"1924-01-01T00:00:00\",\"1925-01-01T00:00:00\",\"1926-01-01T00:00:00\",\"1927-01-01T00:00:00\",\"1928-01-01T00:00:00\",\"1929-01-01T00:00:00\",\"1930-01-01T00:00:00\",\"1931-01-01T00:00:00\",\"1932-01-01T00:00:00\",\"1933-01-01T00:00:00\",\"1934-01-01T00:00:00\",\"1935-01-01T00:00:00\",\"1936-01-01T00:00:00\",\"1937-01-01T00:00:00\",\"1938-01-01T00:00:00\",\"1939-01-01T00:00:00\",\"1940-01-01T00:00:00\",\"1941-01-01T00:00:00\",\"1942-01-01T00:00:00\",\"1943-01-01T00:00:00\",\"1944-01-01T00:00:00\",\"1945-01-01T00:00:00\",\"1946-01-01T00:00:00\",\"1947-01-01T00:00:00\",\"1948-01-01T00:00:00\",\"1949-01-01T00:00:00\",\"1950-01-01T00:00:00\",\"1951-01-01T00:00:00\",\"1952-01-01T00:00:00\",\"1953-01-01T00:00:00\",\"1954-01-01T00:00:00\",\"1955-01-01T00:00:00\",\"1956-01-01T00:00:00\",\"1957-01-01T00:00:00\",\"1958-01-01T00:00:00\",\"1959-01-01T00:00:00\",\"1960-01-01T00:00:00\",\"1961-01-01T00:00:00\",\"1962-01-01T00:00:00\",\"1963-01-01T00:00:00\",\"1964-01-01T00:00:00\",\"1965-01-01T00:00:00\",\"1966-01-01T00:00:00\",\"1967-01-01T00:00:00\",\"1968-01-01T00:00:00\",\"1969-01-01T00:00:00\",\"1970-01-01T00:00:00\",\"1971-01-01T00:00:00\",\"1972-01-01T00:00:00\",\"1973-01-01T00:00:00\",\"1974-01-01T00:00:00\",\"1975-01-01T00:00:00\",\"1976-01-01T00:00:00\",\"1977-01-01T00:00:00\",\"1978-01-01T00:00:00\",\"1979-01-01T00:00:00\",\"1980-01-01T00:00:00\",\"1981-01-01T00:00:00\",\"1982-01-01T00:00:00\",\"1983-01-01T00:00:00\",\"1984-01-01T00:00:00\",\"1985-01-01T00:00:00\",\"1986-01-01T00:00:00\",\"1987-01-01T00:00:00\",\"1988-01-01T00:00:00\",\"1989-01-01T00:00:00\",\"1990-01-01T00:00:00\",\"1991-01-01T00:00:00\"],\"y\":[0.00568,0.00561,0.00555,0.00548,0.00542,0.00536,0.00529,0.00523,0.00517,0.00511,0.00504,0.00497,0.0049,0.00483,0.00475,0.00466,0.00457,0.00447,0.00438,0.00427,0.00417,0.00406,0.00395,0.00384,0.00373,0.00362,0.0035,0.00339,0.00327,0.00316,0.00305,0.00294,0.00283,0.00273,0.00263,0.00253,0.00244,0.00235,0.00227,0.00218,0.0021,0.00202,0.00195,0.00188,0.00181,0.00175,0.0118,0.0147,0.0174,0.0198,0.0236,0.0271,0.0318,0.0376,0.0445,0.0522,0.0608,0.0715,0.0853,0.0996,0.118,0.139,0.167,0.206,0.242,0.288,0.346,0.436,0.255,0.182,0.321,0.461,0.471,0.406,0.404,0.461,0.45,0.484,0.456,0.508,1.2,1.27,1.48,1.64,1.87,1.78,1.87,2.14,2.77,2.33,2.53,2.81,2.78,2.94,2.78,2.62,2.81,2.8,2.94,3.53,3.73,4.24,4.49,4.78,5.5,5.72,5.87,7.18,7.02,6.51,7.2,8.18,8.86,10.1,8.53,7.51,9.33,10.3,10.7,8.91,9.64,8.98,7.6,10.1,8.27,7.91,8.75,9.32,9.32,9.66,9.04,7.15,6.53,6.39,7.28,7.11,7.7,8.27,7.5,8.25,9.33,10.2,11.0,11.4,11.5,10.5,11.0,11.2,12.1,10.8,11.2,11.5,11.0,10.8,10.7,10.8,11.7,11.0,10.7,10.5,10.8,10.6,11.1,11.1,12.3,12.8,12.9,13.8,14.6,14.6,15.9,16.2,17.2,17.0,17.1,17.2,17.0,17.2,17.3,18.2,18.1,17.3,16.6,16.2,16.6,16.3,15.5,16.2,16.9,17.0,15.7,15.2],\"type\":\"scatter\"},{\"hoverinfo\":\"skip\",\"line\":{\"width\":0},\"mode\":\"lines\",\"x\":[\"1800-01-01T00:00:00\",\"1801-01-01T00:00:00\",\"1802-01-01T00:00:00\",\"1803-01-01T00:00:00\",\"1804-01-01T00:00:00\",\"1805-01-01T00:00:00\",\"1806-01-01T00:00:00\",\"1807-01-01T00:00:00\",\"1808-01-01T00:00:00\",\"1809-01-01T00:00:00\",\"1810-01-01T00:00:00\",\"1811-01-01T00:00:00\",\"1812-01-01T00:00:00\",\"1813-01-01T00:00:00\",\"1814-01-01T00:00:00\",\"1815-01-01T00:00:00\",\"1816-01-01T00:00:00\",\"1817-01-01T00:00:00\",\"1818-01-01T00:00:00\",\"1819-01-01T00:00:00\",\"1820-01-01T00:00:00\",\"1821-01-01T00:00:00\",\"1822-01-01T00:00:00\",\"1823-01-01T00:00:00\",\"1824-01-01T00:00:00\",\"1825-01-01T00:00:00\",\"1826-01-01T00:00:00\",\"1827-01-01T00:00:00\",\"1828-01-01T00:00:00\",\"1829-01-01T00:00:00\",\"1830-01-01T00:00:00\",\"1831-01-01T00:00:00\",\"1832-01-01T00:00:00\",\"1833-01-01T00:00:00\",\"1834-01-01T00:00:00\",\"1835-01-01T00:00:00\",\"1836-01-01T00:00:00\",\"1837-01-01T00:00:00\",\"1838-01-01T00:00:00\",\"1839-01-01T00:00:00\",\"1840-01-01T00:00:00\",\"1841-01-01T00:00:00\",\"1842-01-01T00:00:00\",\"1843-01-01T00:00:00\",\"1844-01-01T00:00:00\",\"1845-01-01T00:00:00\",\"1846-01-01T00:00:00\",\"1847-01-01T00:00:00\",\"1848-01-01T00:00:00\",\"1849-01-01T00:00:00\",\"1850-01-01T00:00:00\",\"1851-01-01T00:00:00\",\"1852-01-01T00:00:00\",\"1853-01-01T00:00:00\",\"1854-01-01T00:00:00\",\"1855-01-01T00:00:00\",\"1856-01-01T00:00:00\",\"1857-01-01T00:00:00\",\"1858-01-01T00:00:00\",\"1859-01-01T00:00:00\",\"1860-01-01T00:00:00\",\"1861-01-01T00:00:00\",\"1862-01-01T00:00:00\",\"1863-01-01T00:00:00\",\"1864-01-01T00:00:00\",\"1865-01-01T00:00:00\",\"1866-01-01T00:00:00\",\"1867-01-01T00:00:00\",\"1868-01-01T00:00:00\",\"1869-01-01T00:00:00\",\"1870-01-01T00:00:00\",\"1871-01-01T00:00:00\",\"1872-01-01T00:00:00\",\"1873-01-01T00:00:00\",\"1874-01-01T00:00:00\",\"1875-01-01T00:00:00\",\"1876-01-01T00:00:00\",\"1877-01-01T00:00:00\",\"1878-01-01T00:00:00\",\"1879-01-01T00:00:00\",\"1880-01-01T00:00:00\",\"1881-01-01T00:00:00\",\"1882-01-01T00:00:00\",\"1883-01-01T00:00:00\",\"1884-01-01T00:00:00\",\"1885-01-01T00:00:00\",\"1886-01-01T00:00:00\",\"1887-01-01T00:00:00\",\"1888-01-01T00:00:00\",\"1889-01-01T00:00:00\",\"1890-01-01T00:00:00\",\"1891-01-01T00:00:00\",\"1892-01-01T00:00:00\",\"1893-01-01T00:00:00\",\"1894-01-01T00:00:00\",\"1895-01-01T00:00:00\",\"1896-01-01T00:00:00\",\"1897-01-01T00:00:00\",\"1898-01-01T00:00:00\",\"1899-01-01T00:00:00\",\"1900-01-01T00:00:00\",\"1901-01-01T00:00:00\",\"1902-01-01T00:00:00\",\"1903-01-01T00:00:00\",\"1904-01-01T00:00:00\",\"1905-01-01T00:00:00\",\"1906-01-01T00:00:00\",\"1907-01-01T00:00:00\",\"1908-01-01T00:00:00\",\"1909-01-01T00:00:00\",\"1910-01-01T00:00:00\",\"1911-01-01T00:00:00\",\"1912-01-01T00:00:00\",\"1913-01-01T00:00:00\",\"1914-01-01T00:00:00\",\"1915-01-01T00:00:00\",\"1916-01-01T00:00:00\",\"1917-01-01T00:00:00\",\"1918-01-01T00:00:00\",\"1919-01-01T00:00:00\",\"1920-01-01T00:00:00\",\"1921-01-01T00:00:00\",\"1922-01-01T00:00:00\",\"1923-01-01T00:00:00\",\"1924-01-01T00:00:00\",\"1925-01-01T00:00:00\",\"1926-01-01T00:00:00\",\"1927-01-01T00:00:00\",\"1928-01-01T00:00:00\",\"1929-01-01T00:00:00\",\"1930-01-01T00:00:00\",\"1931-01-01T00:00:00\",\"1932-01-01T00:00:00\",\"1933-01-01T00:00:00\",\"1934-01-01T00:00:00\",\"1935-01-01T00:00:00\",\"1936-01-01T00:00:00\",\"1937-01-01T00:00:00\",\"1938-01-01T00:00:00\",\"1939-01-01T00:00:00\",\"1940-01-01T00:00:00\",\"1941-01-01T00:00:00\",\"1942-01-01T00:00:00\",\"1943-01-01T00:00:00\",\"1944-01-01T00:00:00\",\"1945-01-01T00:00:00\",\"1946-01-01T00:00:00\",\"1947-01-01T00:00:00\",\"1948-01-01T00:00:00\",\"1949-01-01T00:00:00\",\"1950-01-01T00:00:00\",\"1951-01-01T00:00:00\",\"1952-01-01T00:00:00\",\"1953-01-01T00:00:00\",\"1954-01-01T00:00:00\",\"1955-01-01T00:00:00\",\"1956-01-01T00:00:00\",\"1957-01-01T00:00:00\",\"1958-01-01T00:00:00\",\"1959-01-01T00:00:00\",\"1960-01-01T00:00:00\",\"1961-01-01T00:00:00\",\"1962-01-01T00:00:00\",\"1963-01-01T00:00:00\",\"1964-01-01T00:00:00\",\"1965-01-01T00:00:00\",\"1966-01-01T00:00:00\",\"1967-01-01T00:00:00\",\"1968-01-01T00:00:00\",\"1969-01-01T00:00:00\",\"1970-01-01T00:00:00\",\"1971-01-01T00:00:00\",\"1972-01-01T00:00:00\",\"1973-01-01T00:00:00\",\"1974-01-01T00:00:00\",\"1975-01-01T00:00:00\",\"1976-01-01T00:00:00\",\"1977-01-01T00:00:00\",\"1978-01-01T00:00:00\",\"1979-01-01T00:00:00\",\"1980-01-01T00:00:00\",\"1981-01-01T00:00:00\",\"1982-01-01T00:00:00\",\"1983-01-01T00:00:00\",\"1984-01-01T00:00:00\",\"1985-01-01T00:00:00\",\"1986-01-01T00:00:00\",\"1987-01-01T00:00:00\",\"1988-01-01T00:00:00\",\"1989-01-01T00:00:00\",\"1990-01-01T00:00:00\",\"1991-01-01T00:00:00\",\"1992-01-01T00:00:00\",\"1993-01-01T00:00:00\",\"1994-01-01T00:00:00\",\"1995-01-01T00:00:00\",\"1996-01-01T00:00:00\",\"1997-01-01T00:00:00\",\"1998-01-01T00:00:00\",\"1999-01-01T00:00:00\",\"2000-01-01T00:00:00\",\"2001-01-01T00:00:00\",\"2002-01-01T00:00:00\",\"2003-01-01T00:00:00\",\"2004-01-01T00:00:00\",\"2005-01-01T00:00:00\",\"2006-01-01T00:00:00\",\"2007-01-01T00:00:00\",\"2008-01-01T00:00:00\",\"2009-01-01T00:00:00\",\"2010-01-01T00:00:00\",\"2011-01-01T00:00:00\",\"2012-01-01T00:00:00\",\"2013-01-01T00:00:00\",\"2014-01-01T00:00:00\"],\"y\":[-2.2936919573764127,-2.089218956426937,-1.916731052036728,-1.5820039390729208,-1.3485783968108411,-2.097809189232726,-1.754393527263357,-1.5529817216255557,-1.3055684975484496,-1.9868768794530365,-1.6973516944408276,-1.6722980136105916,-1.2455404333524653,-2.0238777177305676,-1.734034932793616,-1.5095960800247459,-1.2670127467445695,-1.9884215265318357,-1.6640095354161744,-1.4965253897007682,-1.154648945315149,-1.8586497503689745,-1.7130914511470874,-1.4785788943297389,-1.2385616130217696,-1.8349120536101096,-1.7033784333955688,-1.3952026618316102,-1.0824560490114896,-1.7863131435375605,-1.6891581659090795,-1.207926042464474,-1.0164798149205154,-1.7432229676920707,-1.4807766510732243,-1.2903281706350522,-1.0012566814858606,-1.6224798573136905,-1.3846055855081594,-1.3054800783448628,-0.8965522285111172,-1.462030467765203,-1.3921891327604632,-1.2144994848152186,-0.9085272658347521,-1.6103935311190736,-1.4327480217787563,-1.1633319997851175,-0.9675251234509801,-1.5663803392538982,-1.3971930564983719,-0.9593864342908272,-0.8093093394623869,-1.3983405014393917,-1.212567595727028,-0.8988820223219254,-0.9696652348822349,-1.5144275324435263,-1.3221211028280033,-0.9039884103893053,-0.7754204636576548,-1.4235403991068667,-1.1982978913456042,-0.8474973590916565,-0.5788450645044029,-1.38265565162811,-1.0218235938601805,-0.6571313641656428,-0.5342924835685722,-1.0914311510869625,-0.7571157078779613,-0.5991914005205681,-0.18377765475042523,-0.8672725199576542,-0.5607929591862161,-0.2011525421541688,0.08189512088344712,-0.5252437063264772,-0.23141943882936897,-0.025267852228692288,0.32237029638133485,-0.05860557742893826,0.14911367922514399,0.4362724263747822,0.9282787708905564,0.3219722468563249,0.5907976890081211,1.0607433819733791,1.258820883765219,0.7889262180668603,1.1751582992508092,1.4500804277673938,1.9068513982810935,1.2775879938973953,1.7053360420325552,1.9594479416550359,2.3901035243826154,1.8490751879582659,2.232010952459147,2.512386674868853,2.817146287418263,3.268050651445375,3.5596050172653846,4.046421159905733,4.407237042507872,3.694437024718705,4.156838960795369,4.503691621508305,4.930438753235749,4.389471392155899,4.550838563322226,5.011242415409201,5.418577281446318,4.879935529124811,5.096435182947909,5.627597904351059,5.841326762479634,5.343146630134613,5.717168439941811,6.157343662144219,6.375087931438729,5.901767963771789,6.218273792373257,6.601948818503701,6.853758236049453,6.408284306045546,6.778455931860989,7.047414038946793,7.521751109833282,7.034789450440159,7.262769940430324,7.635112217858253,8.01878673498623,7.430953808016132,7.758380184960115,8.080577879097907,8.547396802736976,7.995593127783356,8.305185511064924,8.640961310045313,9.092093220400193,8.517647411868223,8.730056728852567,9.245307957796632,9.539939891204847,9.002982805093271,9.283556884410455,9.819090340847396,10.082731932832763,9.53264295145274,9.96973316092049,10.327181132366729,10.451725529219171,10.097040122852249,10.42713015028999,10.866210655889821,11.2423058851842,10.745871225960306,11.049702071251328,11.306608470579341,11.78801887789907,11.23510745775201,11.657942985571154,11.969516760644327,12.382056756386774,11.850689919781615,12.274428265248865,12.496446955030063,12.98241518236775,12.309795849355538,12.758564751928857,13.005209604748698,13.41629368493778,12.999616073179693,13.311477515169594,13.663558919528722,14.105142110846636,13.515950996415157,13.83926111277456,14.29859688676249,14.620089782292029,14.180909644564956,14.530316532943278,14.884032664754676,15.159766440479862,14.673492512323193,15.024342776508387,15.36939824377397,15.807440455110607,15.308119970753578,15.629345191222248,15.979055805797215,16.312687220525053,15.898265755135245,16.091705346563092,16.63432124296196,16.97345429810242,16.358695982884665,16.739859914398952,17.135434579977606,17.530814376866108,16.81907362779418,17.33804939610818,17.758914581320827,18.070611979630506,17.60461051640883,17.7955990833421,18.239027506644078,18.623931035657805,18.168278102586413,18.471219266806752,18.786032548928624,19.187572630549553,18.52725399967875,19.039146444069235],\"type\":\"scatter\"},{\"fill\":\"tonexty\",\"fillcolor\":\"rgba(0, 114, 178, 0.2)\",\"line\":{\"color\":\"#0072B2\",\"width\":2},\"mode\":\"lines\",\"name\":\"Predicted\",\"x\":[\"1800-01-01T00:00:00\",\"1801-01-01T00:00:00\",\"1802-01-01T00:00:00\",\"1803-01-01T00:00:00\",\"1804-01-01T00:00:00\",\"1805-01-01T00:00:00\",\"1806-01-01T00:00:00\",\"1807-01-01T00:00:00\",\"1808-01-01T00:00:00\",\"1809-01-01T00:00:00\",\"1810-01-01T00:00:00\",\"1811-01-01T00:00:00\",\"1812-01-01T00:00:00\",\"1813-01-01T00:00:00\",\"1814-01-01T00:00:00\",\"1815-01-01T00:00:00\",\"1816-01-01T00:00:00\",\"1817-01-01T00:00:00\",\"1818-01-01T00:00:00\",\"1819-01-01T00:00:00\",\"1820-01-01T00:00:00\",\"1821-01-01T00:00:00\",\"1822-01-01T00:00:00\",\"1823-01-01T00:00:00\",\"1824-01-01T00:00:00\",\"1825-01-01T00:00:00\",\"1826-01-01T00:00:00\",\"1827-01-01T00:00:00\",\"1828-01-01T00:00:00\",\"1829-01-01T00:00:00\",\"1830-01-01T00:00:00\",\"1831-01-01T00:00:00\",\"1832-01-01T00:00:00\",\"1833-01-01T00:00:00\",\"1834-01-01T00:00:00\",\"1835-01-01T00:00:00\",\"1836-01-01T00:00:00\",\"1837-01-01T00:00:00\",\"1838-01-01T00:00:00\",\"1839-01-01T00:00:00\",\"1840-01-01T00:00:00\",\"1841-01-01T00:00:00\",\"1842-01-01T00:00:00\",\"1843-01-01T00:00:00\",\"1844-01-01T00:00:00\",\"1845-01-01T00:00:00\",\"1846-01-01T00:00:00\",\"1847-01-01T00:00:00\",\"1848-01-01T00:00:00\",\"1849-01-01T00:00:00\",\"1850-01-01T00:00:00\",\"1851-01-01T00:00:00\",\"1852-01-01T00:00:00\",\"1853-01-01T00:00:00\",\"1854-01-01T00:00:00\",\"1855-01-01T00:00:00\",\"1856-01-01T00:00:00\",\"1857-01-01T00:00:00\",\"1858-01-01T00:00:00\",\"1859-01-01T00:00:00\",\"1860-01-01T00:00:00\",\"1861-01-01T00:00:00\",\"1862-01-01T00:00:00\",\"1863-01-01T00:00:00\",\"1864-01-01T00:00:00\",\"1865-01-01T00:00:00\",\"1866-01-01T00:00:00\",\"1867-01-01T00:00:00\",\"1868-01-01T00:00:00\",\"1869-01-01T00:00:00\",\"1870-01-01T00:00:00\",\"1871-01-01T00:00:00\",\"1872-01-01T00:00:00\",\"1873-01-01T00:00:00\",\"1874-01-01T00:00:00\",\"1875-01-01T00:00:00\",\"1876-01-01T00:00:00\",\"1877-01-01T00:00:00\",\"1878-01-01T00:00:00\",\"1879-01-01T00:00:00\",\"1880-01-01T00:00:00\",\"1881-01-01T00:00:00\",\"1882-01-01T00:00:00\",\"1883-01-01T00:00:00\",\"1884-01-01T00:00:00\",\"1885-01-01T00:00:00\",\"1886-01-01T00:00:00\",\"1887-01-01T00:00:00\",\"1888-01-01T00:00:00\",\"1889-01-01T00:00:00\",\"1890-01-01T00:00:00\",\"1891-01-01T00:00:00\",\"1892-01-01T00:00:00\",\"1893-01-01T00:00:00\",\"1894-01-01T00:00:00\",\"1895-01-01T00:00:00\",\"1896-01-01T00:00:00\",\"1897-01-01T00:00:00\",\"1898-01-01T00:00:00\",\"1899-01-01T00:00:00\",\"1900-01-01T00:00:00\",\"1901-01-01T00:00:00\",\"1902-01-01T00:00:00\",\"1903-01-01T00:00:00\",\"1904-01-01T00:00:00\",\"1905-01-01T00:00:00\",\"1906-01-01T00:00:00\",\"1907-01-01T00:00:00\",\"1908-01-01T00:00:00\",\"1909-01-01T00:00:00\",\"1910-01-01T00:00:00\",\"1911-01-01T00:00:00\",\"1912-01-01T00:00:00\",\"1913-01-01T00:00:00\",\"1914-01-01T00:00:00\",\"1915-01-01T00:00:00\",\"1916-01-01T00:00:00\",\"1917-01-01T00:00:00\",\"1918-01-01T00:00:00\",\"1919-01-01T00:00:00\",\"1920-01-01T00:00:00\",\"1921-01-01T00:00:00\",\"1922-01-01T00:00:00\",\"1923-01-01T00:00:00\",\"1924-01-01T00:00:00\",\"1925-01-01T00:00:00\",\"1926-01-01T00:00:00\",\"1927-01-01T00:00:00\",\"1928-01-01T00:00:00\",\"1929-01-01T00:00:00\",\"1930-01-01T00:00:00\",\"1931-01-01T00:00:00\",\"1932-01-01T00:00:00\",\"1933-01-01T00:00:00\",\"1934-01-01T00:00:00\",\"1935-01-01T00:00:00\",\"1936-01-01T00:00:00\",\"1937-01-01T00:00:00\",\"1938-01-01T00:00:00\",\"1939-01-01T00:00:00\",\"1940-01-01T00:00:00\",\"1941-01-01T00:00:00\",\"1942-01-01T00:00:00\",\"1943-01-01T00:00:00\",\"1944-01-01T00:00:00\",\"1945-01-01T00:00:00\",\"1946-01-01T00:00:00\",\"1947-01-01T00:00:00\",\"1948-01-01T00:00:00\",\"1949-01-01T00:00:00\",\"1950-01-01T00:00:00\",\"1951-01-01T00:00:00\",\"1952-01-01T00:00:00\",\"1953-01-01T00:00:00\",\"1954-01-01T00:00:00\",\"1955-01-01T00:00:00\",\"1956-01-01T00:00:00\",\"1957-01-01T00:00:00\",\"1958-01-01T00:00:00\",\"1959-01-01T00:00:00\",\"1960-01-01T00:00:00\",\"1961-01-01T00:00:00\",\"1962-01-01T00:00:00\",\"1963-01-01T00:00:00\",\"1964-01-01T00:00:00\",\"1965-01-01T00:00:00\",\"1966-01-01T00:00:00\",\"1967-01-01T00:00:00\",\"1968-01-01T00:00:00\",\"1969-01-01T00:00:00\",\"1970-01-01T00:00:00\",\"1971-01-01T00:00:00\",\"1972-01-01T00:00:00\",\"1973-01-01T00:00:00\",\"1974-01-01T00:00:00\",\"1975-01-01T00:00:00\",\"1976-01-01T00:00:00\",\"1977-01-01T00:00:00\",\"1978-01-01T00:00:00\",\"1979-01-01T00:00:00\",\"1980-01-01T00:00:00\",\"1981-01-01T00:00:00\",\"1982-01-01T00:00:00\",\"1983-01-01T00:00:00\",\"1984-01-01T00:00:00\",\"1985-01-01T00:00:00\",\"1986-01-01T00:00:00\",\"1987-01-01T00:00:00\",\"1988-01-01T00:00:00\",\"1989-01-01T00:00:00\",\"1990-01-01T00:00:00\",\"1991-01-01T00:00:00\",\"1992-01-01T00:00:00\",\"1993-01-01T00:00:00\",\"1994-01-01T00:00:00\",\"1995-01-01T00:00:00\",\"1996-01-01T00:00:00\",\"1997-01-01T00:00:00\",\"1998-01-01T00:00:00\",\"1999-01-01T00:00:00\",\"2000-01-01T00:00:00\",\"2001-01-01T00:00:00\",\"2002-01-01T00:00:00\",\"2003-01-01T00:00:00\",\"2004-01-01T00:00:00\",\"2005-01-01T00:00:00\",\"2006-01-01T00:00:00\",\"2007-01-01T00:00:00\",\"2008-01-01T00:00:00\",\"2009-01-01T00:00:00\",\"2010-01-01T00:00:00\",\"2011-01-01T00:00:00\",\"2012-01-01T00:00:00\",\"2013-01-01T00:00:00\",\"2014-01-01T00:00:00\"],\"y\":[-0.9028800925637637,-0.675123182665202,-0.44516188073115426,-0.21326056653477038,0.020313226698011888,-0.6288421850592832,-0.3988808831261839,-0.16697956906974748,0.066594224012303,-0.5825611878896069,-0.3525998861032665,-0.1206985720463653,0.11287522103654604,-0.5362801908752979,-0.3063188890967755,-0.07441757505321883,0.15915621802063404,-0.48999919388946145,-0.2600378921108663,-0.02813657683497328,0.20543721746952895,-0.44371819320755657,-0.21375689020212013,0.018144425074179793,0.251718219377402,-0.397437191161772,-0.16747588801729174,0.06442542739421864,0.2979992218373062,-0.3511561887043285,-0.12119488555624602,0.11070642975920109,0.34428022410369463,-0.3048751865349226,-0.0749138834819223,0.15698743183336789,0.39056122617790323,-0.25859418019299263,-0.02863287289019789,0.20326844667943433,0.43684224528285676,-0.21231316109366571,0.01764814621148114,0.24954946578063175,0.4831255837971353,-0.16602749680134976,0.06393612991932252,0.2958397689078976,0.5294158869224119,-0.11973719368180435,0.11033499634582011,0.34234719864300855,0.5760318799714571,-0.07301233988683165,0.15705985014293944,0.3890720524388782,0.6267123759678246,-0.01836536430991753,0.21566246791966448,0.4516303124212766,0.6892706359506593,0.04419289567329565,0.29415703360403433,0.5460611838044,0.7996378130362048,0.17054003956954988,0.4205041775019571,0.6724083277027637,0.9504348650057629,0.345853985659185,0.6202680316645106,0.8966220899388861,1.174648627238391,0.5700677478939844,0.8730218115709616,1.177915887519944,1.4844824424971281,0.9085197726535709,1.2114738363343984,1.5163679122833975,1.8492544063506364,1.2996837850236804,1.6289577877931323,1.960171802833309,2.2930582969040163,1.7434876755740631,2.0883979296764696,2.435248196046848,2.7837709414436276,2.2498794104924227,2.5947896645918664,2.941639930960304,3.2940797999987352,2.7641161245296533,3.1129435022700545,3.463710892279286,3.8161507613166554,3.2861870858485696,3.6350144663471147,3.9857818591176164,4.338221730914286,4.69206378094412,5.04703533133963,5.402861721592931,5.759266706146169,5.214134752875416,5.569106303047323,5.924932693081308,6.281337677633463,5.736205724361485,6.091177274750932,6.447003665001451,6.803408649769487,6.258276696716709,6.613248247107355,6.969074637359999,7.325479622127994,6.7803476690513715,7.135319219417462,7.491145609645404,7.847550594389521,7.302418641312777,7.657390191679631,8.013216582637535,8.36962156811212,7.824489615766315,8.179461166862017,8.535287557820704,8.89169254329472,8.34656059234734,8.701532144837952,9.057358537189895,9.413763524058979,8.8686315731109,9.22360312560112,9.580102711026708,9.937180890971876,9.392723977463756,9.74836872302832,10.104868308454646,10.461946488396228,9.921482609127843,10.28110947900227,10.641591188738671,11.002651492991859,10.462187613723685,10.821814483598434,11.18518878032338,11.549141671564886,11.011578304180624,11.374097761043977,11.73747205776915,12.10142494901043,11.56771537815743,11.934078102052394,12.301295665808233,12.66909182408166,12.135382253227577,12.501744977122787,12.868962540879327,13.236758699152832,12.70304912829902,13.069411852194294,13.436629415950517,13.804425574223957,13.270716003370133,13.637078727265248,14.004296291021669,14.372092449295314,13.838382878441337,14.2047456023362,14.57196316609283,14.939759324366285,14.406049753512498,14.772412477407146,15.139630041164034,15.507426199437408,14.973716628583649,15.340079352478098,15.70729691623515,16.075093074508697,15.541383503654838,15.907746227549605,16.274963791306593,16.64275994957998,16.10905037872593,16.475413102620003,16.84263066637673,17.21042682465092,16.67671725379674,17.043079977691868,17.41029754144871,17.778093699722266,17.24438412886811,17.610746852763015,17.977964416519683,18.345760574793815,17.812051003939583,18.17841372783438,18.545631291590723,18.913427449865505,18.379717879008957,18.746080602903806,19.113298166660428,19.481094324934094,18.94738475408226,19.313747477976392,19.68096504173318,20.048761200006968,19.51505162915256,19.881414353047532,20.24863191680471,20.616428075078055,20.08271850422376,20.449081228119503],\"type\":\"scatter\"},{\"fill\":\"tonexty\",\"fillcolor\":\"rgba(0, 114, 178, 0.2)\",\"hoverinfo\":\"skip\",\"line\":{\"width\":0},\"mode\":\"lines\",\"x\":[\"1800-01-01T00:00:00\",\"1801-01-01T00:00:00\",\"1802-01-01T00:00:00\",\"1803-01-01T00:00:00\",\"1804-01-01T00:00:00\",\"1805-01-01T00:00:00\",\"1806-01-01T00:00:00\",\"1807-01-01T00:00:00\",\"1808-01-01T00:00:00\",\"1809-01-01T00:00:00\",\"1810-01-01T00:00:00\",\"1811-01-01T00:00:00\",\"1812-01-01T00:00:00\",\"1813-01-01T00:00:00\",\"1814-01-01T00:00:00\",\"1815-01-01T00:00:00\",\"1816-01-01T00:00:00\",\"1817-01-01T00:00:00\",\"1818-01-01T00:00:00\",\"1819-01-01T00:00:00\",\"1820-01-01T00:00:00\",\"1821-01-01T00:00:00\",\"1822-01-01T00:00:00\",\"1823-01-01T00:00:00\",\"1824-01-01T00:00:00\",\"1825-01-01T00:00:00\",\"1826-01-01T00:00:00\",\"1827-01-01T00:00:00\",\"1828-01-01T00:00:00\",\"1829-01-01T00:00:00\",\"1830-01-01T00:00:00\",\"1831-01-01T00:00:00\",\"1832-01-01T00:00:00\",\"1833-01-01T00:00:00\",\"1834-01-01T00:00:00\",\"1835-01-01T00:00:00\",\"1836-01-01T00:00:00\",\"1837-01-01T00:00:00\",\"1838-01-01T00:00:00\",\"1839-01-01T00:00:00\",\"1840-01-01T00:00:00\",\"1841-01-01T00:00:00\",\"1842-01-01T00:00:00\",\"1843-01-01T00:00:00\",\"1844-01-01T00:00:00\",\"1845-01-01T00:00:00\",\"1846-01-01T00:00:00\",\"1847-01-01T00:00:00\",\"1848-01-01T00:00:00\",\"1849-01-01T00:00:00\",\"1850-01-01T00:00:00\",\"1851-01-01T00:00:00\",\"1852-01-01T00:00:00\",\"1853-01-01T00:00:00\",\"1854-01-01T00:00:00\",\"1855-01-01T00:00:00\",\"1856-01-01T00:00:00\",\"1857-01-01T00:00:00\",\"1858-01-01T00:00:00\",\"1859-01-01T00:00:00\",\"1860-01-01T00:00:00\",\"1861-01-01T00:00:00\",\"1862-01-01T00:00:00\",\"1863-01-01T00:00:00\",\"1864-01-01T00:00:00\",\"1865-01-01T00:00:00\",\"1866-01-01T00:00:00\",\"1867-01-01T00:00:00\",\"1868-01-01T00:00:00\",\"1869-01-01T00:00:00\",\"1870-01-01T00:00:00\",\"1871-01-01T00:00:00\",\"1872-01-01T00:00:00\",\"1873-01-01T00:00:00\",\"1874-01-01T00:00:00\",\"1875-01-01T00:00:00\",\"1876-01-01T00:00:00\",\"1877-01-01T00:00:00\",\"1878-01-01T00:00:00\",\"1879-01-01T00:00:00\",\"1880-01-01T00:00:00\",\"1881-01-01T00:00:00\",\"1882-01-01T00:00:00\",\"1883-01-01T00:00:00\",\"1884-01-01T00:00:00\",\"1885-01-01T00:00:00\",\"1886-01-01T00:00:00\",\"1887-01-01T00:00:00\",\"1888-01-01T00:00:00\",\"1889-01-01T00:00:00\",\"1890-01-01T00:00:00\",\"1891-01-01T00:00:00\",\"1892-01-01T00:00:00\",\"1893-01-01T00:00:00\",\"1894-01-01T00:00:00\",\"1895-01-01T00:00:00\",\"1896-01-01T00:00:00\",\"1897-01-01T00:00:00\",\"1898-01-01T00:00:00\",\"1899-01-01T00:00:00\",\"1900-01-01T00:00:00\",\"1901-01-01T00:00:00\",\"1902-01-01T00:00:00\",\"1903-01-01T00:00:00\",\"1904-01-01T00:00:00\",\"1905-01-01T00:00:00\",\"1906-01-01T00:00:00\",\"1907-01-01T00:00:00\",\"1908-01-01T00:00:00\",\"1909-01-01T00:00:00\",\"1910-01-01T00:00:00\",\"1911-01-01T00:00:00\",\"1912-01-01T00:00:00\",\"1913-01-01T00:00:00\",\"1914-01-01T00:00:00\",\"1915-01-01T00:00:00\",\"1916-01-01T00:00:00\",\"1917-01-01T00:00:00\",\"1918-01-01T00:00:00\",\"1919-01-01T00:00:00\",\"1920-01-01T00:00:00\",\"1921-01-01T00:00:00\",\"1922-01-01T00:00:00\",\"1923-01-01T00:00:00\",\"1924-01-01T00:00:00\",\"1925-01-01T00:00:00\",\"1926-01-01T00:00:00\",\"1927-01-01T00:00:00\",\"1928-01-01T00:00:00\",\"1929-01-01T00:00:00\",\"1930-01-01T00:00:00\",\"1931-01-01T00:00:00\",\"1932-01-01T00:00:00\",\"1933-01-01T00:00:00\",\"1934-01-01T00:00:00\",\"1935-01-01T00:00:00\",\"1936-01-01T00:00:00\",\"1937-01-01T00:00:00\",\"1938-01-01T00:00:00\",\"1939-01-01T00:00:00\",\"1940-01-01T00:00:00\",\"1941-01-01T00:00:00\",\"1942-01-01T00:00:00\",\"1943-01-01T00:00:00\",\"1944-01-01T00:00:00\",\"1945-01-01T00:00:00\",\"1946-01-01T00:00:00\",\"1947-01-01T00:00:00\",\"1948-01-01T00:00:00\",\"1949-01-01T00:00:00\",\"1950-01-01T00:00:00\",\"1951-01-01T00:00:00\",\"1952-01-01T00:00:00\",\"1953-01-01T00:00:00\",\"1954-01-01T00:00:00\",\"1955-01-01T00:00:00\",\"1956-01-01T00:00:00\",\"1957-01-01T00:00:00\",\"1958-01-01T00:00:00\",\"1959-01-01T00:00:00\",\"1960-01-01T00:00:00\",\"1961-01-01T00:00:00\",\"1962-01-01T00:00:00\",\"1963-01-01T00:00:00\",\"1964-01-01T00:00:00\",\"1965-01-01T00:00:00\",\"1966-01-01T00:00:00\",\"1967-01-01T00:00:00\",\"1968-01-01T00:00:00\",\"1969-01-01T00:00:00\",\"1970-01-01T00:00:00\",\"1971-01-01T00:00:00\",\"1972-01-01T00:00:00\",\"1973-01-01T00:00:00\",\"1974-01-01T00:00:00\",\"1975-01-01T00:00:00\",\"1976-01-01T00:00:00\",\"1977-01-01T00:00:00\",\"1978-01-01T00:00:00\",\"1979-01-01T00:00:00\",\"1980-01-01T00:00:00\",\"1981-01-01T00:00:00\",\"1982-01-01T00:00:00\",\"1983-01-01T00:00:00\",\"1984-01-01T00:00:00\",\"1985-01-01T00:00:00\",\"1986-01-01T00:00:00\",\"1987-01-01T00:00:00\",\"1988-01-01T00:00:00\",\"1989-01-01T00:00:00\",\"1990-01-01T00:00:00\",\"1991-01-01T00:00:00\",\"1992-01-01T00:00:00\",\"1993-01-01T00:00:00\",\"1994-01-01T00:00:00\",\"1995-01-01T00:00:00\",\"1996-01-01T00:00:00\",\"1997-01-01T00:00:00\",\"1998-01-01T00:00:00\",\"1999-01-01T00:00:00\",\"2000-01-01T00:00:00\",\"2001-01-01T00:00:00\",\"2002-01-01T00:00:00\",\"2003-01-01T00:00:00\",\"2004-01-01T00:00:00\",\"2005-01-01T00:00:00\",\"2006-01-01T00:00:00\",\"2007-01-01T00:00:00\",\"2008-01-01T00:00:00\",\"2009-01-01T00:00:00\",\"2010-01-01T00:00:00\",\"2011-01-01T00:00:00\",\"2012-01-01T00:00:00\",\"2013-01-01T00:00:00\",\"2014-01-01T00:00:00\"],\"y\":[0.5165653595389327,0.72685836334405,0.8970243733213545,1.305971415854958,1.5358978971714579,0.7517675315846194,1.0066006636627214,1.2052496155368142,1.528295952312896,0.8714260548293339,1.094573473783904,1.2841372162455704,1.5438334803696048,0.8938838948760097,1.0197045983335056,1.443229052947148,1.6774962849383661,0.9255073505988303,1.164935125387892,1.4473273470969044,1.6503840681819988,0.9073982149063385,1.2341326987846752,1.4212343664717586,1.6583436692483202,0.9354259740187705,1.1840180985966289,1.4584511671153775,1.8306962371821462,1.0601958715989268,1.2066074542105272,1.5376945203991932,1.7868123675796632,1.1614412105768144,1.2652420879922996,1.6744559749720147,1.8001834283625309,1.1040171694472327,1.459761805828702,1.5102538134099273,1.903769559268103,1.2589148633676146,1.5429656776086,1.7621977735990562,1.783236161838019,1.342244185560471,1.500552664369659,1.645184124975818,1.94536968602275,1.31569105464557,1.5742713380586055,1.7409060897686084,2.101007954086738,1.3629320616202854,1.5346289096345223,1.8312404031069394,2.018716586261045,1.4113674350135212,1.6798481701959678,1.9212008211525236,2.1331605494846047,1.4471344529238694,1.768164279106595,1.9182640200360195,2.24580369480961,1.5423790812805438,1.814758586081462,2.064342488143093,2.280709811536807,1.842418091214624,2.0349737843058646,2.409919350317176,2.571886253645624,1.8715376730643303,2.3845107115330246,2.586937060423501,2.9045732695693762,2.3139253434941476,2.6842906852181536,2.9175652458142167,3.256972407833741,2.6659266348072985,2.9634861375289967,3.336576868151132,3.753535319412345,3.1402207083987594,3.474584560236945,3.9117175475504227,4.18855789679852,3.7416628813076143,3.9814751526758307,4.397240505157202,4.779636310547917,4.207344336458001,4.480174407040678,4.886867477008784,5.1937821340003625,4.752583377230172,5.041027677122256,5.408725589308064,5.711849249231136,6.17254127426993,6.429039820826143,6.764548462238557,7.179058477079338,6.556973440248034,6.954270612901367,7.502094330303661,7.812704099860538,7.237367700393145,7.4184128957075055,7.827557923284876,8.258941227050396,7.774949270660637,8.06877027830617,8.489885198699303,8.651994096890547,8.145978096331289,8.545400049791818,8.908710872621413,9.309706308018534,8.770295837329687,9.002914355480566,9.463688288432062,9.829907962335325,9.210714326081966,9.747614150067182,9.865690523988322,10.280558731373661,9.772076805971835,10.163811572179629,10.587542708571531,10.78816504466834,10.345718612840887,10.610852098732503,11.046591593352968,11.444398263897225,10.788430576670008,11.024309480525538,11.537938589568853,11.920828301657092,11.408130195594552,11.723765643059595,12.007129580209478,12.420351063642737,11.95694365198247,12.231378648243968,12.656467394350967,12.95442790452029,12.45311800341746,12.799814434187013,13.190222464266395,13.462581052577237,13.065401227178425,13.441508534557139,13.72032565584661,14.032876218018126,13.678976232921446,13.938076038641672,14.219136080170276,14.656782679697406,14.19408134007302,14.570985930336859,14.946598924430429,15.235664161505165,14.67704593877636,15.139220376176883,15.534232622337461,15.814869489423382,15.198379942229945,15.534249536366229,16.094227386556177,16.351997338982834,15.928402659837658,16.177227084479306,16.551528481915728,16.91129034688166,16.39371333854161,16.720477306299745,17.16448191650298,17.50499590116707,17.070006007162736,17.414596102037077,17.713110530474662,18.128858192411585,17.540078630821103,17.901635326131334,18.276379604526873,18.6235278570041,18.06068332098209,18.44189329275738,18.814805912092023,19.186269151889974,18.686138956876547,19.07819470231887,19.427573607763108,19.880013670257558,19.23298661276506,19.634844349615005,19.9684071121309,20.256067608144384,19.833300891909555,20.30360839587303,20.50215623942051,20.847913049596997,20.35826193230697,20.719806921599066,21.110054080624668,21.559295890331757,21.01249304616344,21.300787964169928,21.746011095555374,22.03915344110339,21.589788507007324,21.880483985847476],\"type\":\"scatter\"}],                        {\"height\":600,\"showlegend\":false,\"width\":900,\"xaxis\":{\"rangeselector\":{\"buttons\":[{\"count\":7,\"label\":\"1w\",\"step\":\"day\",\"stepmode\":\"backward\"},{\"count\":1,\"label\":\"1m\",\"step\":\"month\",\"stepmode\":\"backward\"},{\"count\":6,\"label\":\"6m\",\"step\":\"month\",\"stepmode\":\"backward\"},{\"count\":1,\"label\":\"1y\",\"step\":\"year\",\"stepmode\":\"backward\"},{\"step\":\"all\"}]},\"rangeslider\":{\"visible\":true},\"title\":{\"text\":\"ds\"},\"type\":\"date\"},\"yaxis\":{\"title\":{\"text\":\"y\"}},\"template\":{\"data\":{\"bar\":[{\"error_x\":{\"color\":\"#2a3f5f\"},\"error_y\":{\"color\":\"#2a3f5f\"},\"marker\":{\"line\":{\"color\":\"#E5ECF6\",\"width\":0.5},\"pattern\":{\"fillmode\":\"overlay\",\"size\":10,\"solidity\":0.2}},\"type\":\"bar\"}],\"barpolar\":[{\"marker\":{\"line\":{\"color\":\"#E5ECF6\",\"width\":0.5},\"pattern\":{\"fillmode\":\"overlay\",\"size\":10,\"solidity\":0.2}},\"type\":\"barpolar\"}],\"carpet\":[{\"aaxis\":{\"endlinecolor\":\"#2a3f5f\",\"gridcolor\":\"white\",\"linecolor\":\"white\",\"minorgridcolor\":\"white\",\"startlinecolor\":\"#2a3f5f\"},\"baxis\":{\"endlinecolor\":\"#2a3f5f\",\"gridcolor\":\"white\",\"linecolor\":\"white\",\"minorgridcolor\":\"white\",\"startlinecolor\":\"#2a3f5f\"},\"type\":\"carpet\"}],\"choropleth\":[{\"colorbar\":{\"outlinewidth\":0,\"ticks\":\"\"},\"type\":\"choropleth\"}],\"contour\":[{\"colorbar\":{\"outlinewidth\":0,\"ticks\":\"\"},\"colorscale\":[[0.0,\"#0d0887\"],[0.1111111111111111,\"#46039f\"],[0.2222222222222222,\"#7201a8\"],[0.3333333333333333,\"#9c179e\"],[0.4444444444444444,\"#bd3786\"],[0.5555555555555556,\"#d8576b\"],[0.6666666666666666,\"#ed7953\"],[0.7777777777777778,\"#fb9f3a\"],[0.8888888888888888,\"#fdca26\"],[1.0,\"#f0f921\"]],\"type\":\"contour\"}],\"contourcarpet\":[{\"colorbar\":{\"outlinewidth\":0,\"ticks\":\"\"},\"type\":\"contourcarpet\"}],\"heatmap\":[{\"colorbar\":{\"outlinewidth\":0,\"ticks\":\"\"},\"colorscale\":[[0.0,\"#0d0887\"],[0.1111111111111111,\"#46039f\"],[0.2222222222222222,\"#7201a8\"],[0.3333333333333333,\"#9c179e\"],[0.4444444444444444,\"#bd3786\"],[0.5555555555555556,\"#d8576b\"],[0.6666666666666666,\"#ed7953\"],[0.7777777777777778,\"#fb9f3a\"],[0.8888888888888888,\"#fdca26\"],[1.0,\"#f0f921\"]],\"type\":\"heatmap\"}],\"heatmapgl\":[{\"colorbar\":{\"outlinewidth\":0,\"ticks\":\"\"},\"colorscale\":[[0.0,\"#0d0887\"],[0.1111111111111111,\"#46039f\"],[0.2222222222222222,\"#7201a8\"],[0.3333333333333333,\"#9c179e\"],[0.4444444444444444,\"#bd3786\"],[0.5555555555555556,\"#d8576b\"],[0.6666666666666666,\"#ed7953\"],[0.7777777777777778,\"#fb9f3a\"],[0.8888888888888888,\"#fdca26\"],[1.0,\"#f0f921\"]],\"type\":\"heatmapgl\"}],\"histogram\":[{\"marker\":{\"pattern\":{\"fillmode\":\"overlay\",\"size\":10,\"solidity\":0.2}},\"type\":\"histogram\"}],\"histogram2d\":[{\"colorbar\":{\"outlinewidth\":0,\"ticks\":\"\"},\"colorscale\":[[0.0,\"#0d0887\"],[0.1111111111111111,\"#46039f\"],[0.2222222222222222,\"#7201a8\"],[0.3333333333333333,\"#9c179e\"],[0.4444444444444444,\"#bd3786\"],[0.5555555555555556,\"#d8576b\"],[0.6666666666666666,\"#ed7953\"],[0.7777777777777778,\"#fb9f3a\"],[0.8888888888888888,\"#fdca26\"],[1.0,\"#f0f921\"]],\"type\":\"histogram2d\"}],\"histogram2dcontour\":[{\"colorbar\":{\"outlinewidth\":0,\"ticks\":\"\"},\"colorscale\":[[0.0,\"#0d0887\"],[0.1111111111111111,\"#46039f\"],[0.2222222222222222,\"#7201a8\"],[0.3333333333333333,\"#9c179e\"],[0.4444444444444444,\"#bd3786\"],[0.5555555555555556,\"#d8576b\"],[0.6666666666666666,\"#ed7953\"],[0.7777777777777778,\"#fb9f3a\"],[0.8888888888888888,\"#fdca26\"],[1.0,\"#f0f921\"]],\"type\":\"histogram2dcontour\"}],\"mesh3d\":[{\"colorbar\":{\"outlinewidth\":0,\"ticks\":\"\"},\"type\":\"mesh3d\"}],\"parcoords\":[{\"line\":{\"colorbar\":{\"outlinewidth\":0,\"ticks\":\"\"}},\"type\":\"parcoords\"}],\"pie\":[{\"automargin\":true,\"type\":\"pie\"}],\"scatter\":[{\"marker\":{\"colorbar\":{\"outlinewidth\":0,\"ticks\":\"\"}},\"type\":\"scatter\"}],\"scatter3d\":[{\"line\":{\"colorbar\":{\"outlinewidth\":0,\"ticks\":\"\"}},\"marker\":{\"colorbar\":{\"outlinewidth\":0,\"ticks\":\"\"}},\"type\":\"scatter3d\"}],\"scattercarpet\":[{\"marker\":{\"colorbar\":{\"outlinewidth\":0,\"ticks\":\"\"}},\"type\":\"scattercarpet\"}],\"scattergeo\":[{\"marker\":{\"colorbar\":{\"outlinewidth\":0,\"ticks\":\"\"}},\"type\":\"scattergeo\"}],\"scattergl\":[{\"marker\":{\"colorbar\":{\"outlinewidth\":0,\"ticks\":\"\"}},\"type\":\"scattergl\"}],\"scattermapbox\":[{\"marker\":{\"colorbar\":{\"outlinewidth\":0,\"ticks\":\"\"}},\"type\":\"scattermapbox\"}],\"scatterpolar\":[{\"marker\":{\"colorbar\":{\"outlinewidth\":0,\"ticks\":\"\"}},\"type\":\"scatterpolar\"}],\"scatterpolargl\":[{\"marker\":{\"colorbar\":{\"outlinewidth\":0,\"ticks\":\"\"}},\"type\":\"scatterpolargl\"}],\"scatterternary\":[{\"marker\":{\"colorbar\":{\"outlinewidth\":0,\"ticks\":\"\"}},\"type\":\"scatterternary\"}],\"surface\":[{\"colorbar\":{\"outlinewidth\":0,\"ticks\":\"\"},\"colorscale\":[[0.0,\"#0d0887\"],[0.1111111111111111,\"#46039f\"],[0.2222222222222222,\"#7201a8\"],[0.3333333333333333,\"#9c179e\"],[0.4444444444444444,\"#bd3786\"],[0.5555555555555556,\"#d8576b\"],[0.6666666666666666,\"#ed7953\"],[0.7777777777777778,\"#fb9f3a\"],[0.8888888888888888,\"#fdca26\"],[1.0,\"#f0f921\"]],\"type\":\"surface\"}],\"table\":[{\"cells\":{\"fill\":{\"color\":\"#EBF0F8\"},\"line\":{\"color\":\"white\"}},\"header\":{\"fill\":{\"color\":\"#C8D4E3\"},\"line\":{\"color\":\"white\"}},\"type\":\"table\"}]},\"layout\":{\"annotationdefaults\":{\"arrowcolor\":\"#2a3f5f\",\"arrowhead\":0,\"arrowwidth\":1},\"autotypenumbers\":\"strict\",\"coloraxis\":{\"colorbar\":{\"outlinewidth\":0,\"ticks\":\"\"}},\"colorscale\":{\"diverging\":[[0,\"#8e0152\"],[0.1,\"#c51b7d\"],[0.2,\"#de77ae\"],[0.3,\"#f1b6da\"],[0.4,\"#fde0ef\"],[0.5,\"#f7f7f7\"],[0.6,\"#e6f5d0\"],[0.7,\"#b8e186\"],[0.8,\"#7fbc41\"],[0.9,\"#4d9221\"],[1,\"#276419\"]],\"sequential\":[[0.0,\"#0d0887\"],[0.1111111111111111,\"#46039f\"],[0.2222222222222222,\"#7201a8\"],[0.3333333333333333,\"#9c179e\"],[0.4444444444444444,\"#bd3786\"],[0.5555555555555556,\"#d8576b\"],[0.6666666666666666,\"#ed7953\"],[0.7777777777777778,\"#fb9f3a\"],[0.8888888888888888,\"#fdca26\"],[1.0,\"#f0f921\"]],\"sequentialminus\":[[0.0,\"#0d0887\"],[0.1111111111111111,\"#46039f\"],[0.2222222222222222,\"#7201a8\"],[0.3333333333333333,\"#9c179e\"],[0.4444444444444444,\"#bd3786\"],[0.5555555555555556,\"#d8576b\"],[0.6666666666666666,\"#ed7953\"],[0.7777777777777778,\"#fb9f3a\"],[0.8888888888888888,\"#fdca26\"],[1.0,\"#f0f921\"]]},\"colorway\":[\"#636efa\",\"#EF553B\",\"#00cc96\",\"#ab63fa\",\"#FFA15A\",\"#19d3f3\",\"#FF6692\",\"#B6E880\",\"#FF97FF\",\"#FECB52\"],\"font\":{\"color\":\"#2a3f5f\"},\"geo\":{\"bgcolor\":\"white\",\"lakecolor\":\"white\",\"landcolor\":\"#E5ECF6\",\"showlakes\":true,\"showland\":true,\"subunitcolor\":\"white\"},\"hoverlabel\":{\"align\":\"left\"},\"hovermode\":\"closest\",\"mapbox\":{\"style\":\"light\"},\"paper_bgcolor\":\"white\",\"plot_bgcolor\":\"#E5ECF6\",\"polar\":{\"angularaxis\":{\"gridcolor\":\"white\",\"linecolor\":\"white\",\"ticks\":\"\"},\"bgcolor\":\"#E5ECF6\",\"radialaxis\":{\"gridcolor\":\"white\",\"linecolor\":\"white\",\"ticks\":\"\"}},\"scene\":{\"xaxis\":{\"backgroundcolor\":\"#E5ECF6\",\"gridcolor\":\"white\",\"gridwidth\":2,\"linecolor\":\"white\",\"showbackground\":true,\"ticks\":\"\",\"zerolinecolor\":\"white\"},\"yaxis\":{\"backgroundcolor\":\"#E5ECF6\",\"gridcolor\":\"white\",\"gridwidth\":2,\"linecolor\":\"white\",\"showbackground\":true,\"ticks\":\"\",\"zerolinecolor\":\"white\"},\"zaxis\":{\"backgroundcolor\":\"#E5ECF6\",\"gridcolor\":\"white\",\"gridwidth\":2,\"linecolor\":\"white\",\"showbackground\":true,\"ticks\":\"\",\"zerolinecolor\":\"white\"}},\"shapedefaults\":{\"line\":{\"color\":\"#2a3f5f\"}},\"ternary\":{\"aaxis\":{\"gridcolor\":\"white\",\"linecolor\":\"white\",\"ticks\":\"\"},\"baxis\":{\"gridcolor\":\"white\",\"linecolor\":\"white\",\"ticks\":\"\"},\"bgcolor\":\"#E5ECF6\",\"caxis\":{\"gridcolor\":\"white\",\"linecolor\":\"white\",\"ticks\":\"\"}},\"title\":{\"x\":0.05},\"xaxis\":{\"automargin\":true,\"gridcolor\":\"white\",\"linecolor\":\"white\",\"ticks\":\"\",\"title\":{\"standoff\":15},\"zerolinecolor\":\"white\",\"zerolinewidth\":2},\"yaxis\":{\"automargin\":true,\"gridcolor\":\"white\",\"linecolor\":\"white\",\"ticks\":\"\",\"title\":{\"standoff\":15},\"zerolinecolor\":\"white\",\"zerolinewidth\":2}}}},                        {\"responsive\": true}                    ).then(function(){\n",
              "                            \n",
              "var gd = document.getElementById('873d5f6c-30f3-4d45-b0ae-47fe646454db');\n",
              "var x = new MutationObserver(function (mutations, observer) {{\n",
              "        var display = window.getComputedStyle(gd).display;\n",
              "        if (!display || display === 'none') {{\n",
              "            console.log([gd, 'removed!']);\n",
              "            Plotly.purge(gd);\n",
              "            observer.disconnect();\n",
              "        }}\n",
              "}});\n",
              "\n",
              "// Listen for the removal of the full notebook cells\n",
              "var notebookContainer = gd.closest('#notebook-container');\n",
              "if (notebookContainer) {{\n",
              "    x.observe(notebookContainer, {childList: true});\n",
              "}}\n",
              "\n",
              "// Listen for the clearing of the current output cell\n",
              "var outputEl = gd.closest('.output');\n",
              "if (outputEl) {{\n",
              "    x.observe(outputEl, {childList: true});\n",
              "}}\n",
              "\n",
              "                        })                };                            </script>        </div>\n",
              "</body>\n",
              "</html>"
            ]
          },
          "metadata": {}
        }
      ]
    },
    {
      "cell_type": "code",
      "source": [
        "prophet_train_df['prophet_train_pred'] = prophet_predictions.iloc[:-23]['yhat']\n",
        "prophet_test_df['prophet_test_pred'] = prophet_predictions.iloc[-23:]['yhat']"
      ],
      "metadata": {
        "id": "GzBvUCtWfq-h"
      },
      "execution_count": 51,
      "outputs": []
    },
    {
      "cell_type": "code",
      "source": [
        "print('Train RMSE:',mean_squared_error(prophet_train_df['y'], prophet_train_df['prophet_train_pred'])**0.5)\n",
        "print('Test RMSE:',mean_squared_error(prophet_test_df['y'], prophet_test_df['prophet_test_pred'])**0.5)\n",
        "print('Train MAPE:',mean_absolute_percentage_error(prophet_train_df['y'], prophet_train_df['prophet_train_pred']))\n",
        "print('Test MAPE:',mean_absolute_percentage_error(prophet_test_df['y'], prophet_test_df['prophet_test_pred']))"
      ],
      "metadata": {
        "colab": {
          "base_uri": "https://localhost:8080/"
        },
        "id": "iHqdp9eMfu7q",
        "outputId": "64e79a10-07f4-4a96-a097-0d0cf4980ba6"
      },
      "execution_count": 52,
      "outputs": [
        {
          "output_type": "stream",
          "name": "stdout",
          "text": [
            "Train RMSE: 1.1146903013208278\n",
            "Test RMSE: 3.0635913850989684\n",
            "Train MAPE: 19.288955819123846\n",
            "Test MAPE: 0.1714044701145226\n"
          ]
        }
      ]
    },
    {
      "cell_type": "markdown",
      "source": [
        "# LSTM"
      ],
      "metadata": {
        "id": "vw97i59vfzAh"
      }
    },
    {
      "cell_type": "code",
      "source": [
        "def df_to_x_y(df, window_size):\n",
        "    df_as_np = df.to_numpy()\n",
        "    x=[]\n",
        "    y=[]\n",
        "    for i in range(len(df_as_np)-window_size):\n",
        "        row = [[a] for a in df_as_np[i:i+window_size]]\n",
        "        x.append(row)\n",
        "        label = df_as_np[i+window_size]\n",
        "        y.append(label)\n",
        "    return np.array(x), np.array(y)"
      ],
      "metadata": {
        "id": "69Yg3L_yf07y"
      },
      "execution_count": 53,
      "outputs": []
    },
    {
      "cell_type": "code",
      "source": [
        "x, y = df_to_x_y(df['CO2'], 29)\n",
        "x.shape, y.shape"
      ],
      "metadata": {
        "colab": {
          "base_uri": "https://localhost:8080/"
        },
        "id": "EMpqdt-Kf4lK",
        "outputId": "7d594982-061f-43c3-eb0f-8abd1cb5cd84"
      },
      "execution_count": 54,
      "outputs": [
        {
          "output_type": "execute_result",
          "data": {
            "text/plain": [
              "((186, 29, 1), (186,))"
            ]
          },
          "metadata": {},
          "execution_count": 54
        }
      ]
    },
    {
      "cell_type": "code",
      "source": [
        "x_train_df, y_train_df = x[:-23], y[:-23]\n",
        "x_test_df, y_test_df = x[-23:], y[-23:]\n",
        "x_train_df.shape, y_train_df.shape, x_test_df.shape, y_test_df.shape"
      ],
      "metadata": {
        "colab": {
          "base_uri": "https://localhost:8080/"
        },
        "id": "RztVJRGTiiq0",
        "outputId": "abf4c9be-7717-490f-a2cb-54bc78227cdc"
      },
      "execution_count": 60,
      "outputs": [
        {
          "output_type": "execute_result",
          "data": {
            "text/plain": [
              "((163, 29, 1), (163,), (23, 29, 1), (23,))"
            ]
          },
          "metadata": {},
          "execution_count": 60
        }
      ]
    },
    {
      "cell_type": "code",
      "source": [
        "lstm = Sequential()\n",
        "lstm.add(InputLayer((29,1)))\n",
        "lstm.add(LSTM(20))\n",
        "lstm.add(Dense(10,'relu'))\n",
        "lstm.add(Dense(5,'relu'))\n",
        "lstm.add(Dense(1,'linear'))\n",
        "\n",
        "lstm.summary()"
      ],
      "metadata": {
        "colab": {
          "base_uri": "https://localhost:8080/"
        },
        "id": "ryu1XvSff7gF",
        "outputId": "d07e0792-315b-477f-872c-67f8d31c29e6"
      },
      "execution_count": 61,
      "outputs": [
        {
          "output_type": "stream",
          "name": "stdout",
          "text": [
            "Model: \"sequential_2\"\n",
            "_________________________________________________________________\n",
            " Layer (type)                Output Shape              Param #   \n",
            "=================================================================\n",
            " lstm_2 (LSTM)               (None, 20)                1760      \n",
            "                                                                 \n",
            " dense_6 (Dense)             (None, 10)                210       \n",
            "                                                                 \n",
            " dense_7 (Dense)             (None, 5)                 55        \n",
            "                                                                 \n",
            " dense_8 (Dense)             (None, 1)                 6         \n",
            "                                                                 \n",
            "=================================================================\n",
            "Total params: 2,031\n",
            "Trainable params: 2,031\n",
            "Non-trainable params: 0\n",
            "_________________________________________________________________\n"
          ]
        }
      ]
    },
    {
      "cell_type": "code",
      "source": [
        "cp1 = ModelCheckpoint('lstm/', save_best_only=True)\n",
        "lstm.compile(loss=MeanSquaredError(), optimizer=Adam(learning_rate=0.1), metrics=[RootMeanSquaredError()])"
      ],
      "metadata": {
        "id": "XNwBoHVTiQ72"
      },
      "execution_count": 62,
      "outputs": []
    },
    {
      "cell_type": "code",
      "source": [
        "lstm.fit(x_train_df, y_train_df, epochs=100, callbacks=[cp1])"
      ],
      "metadata": {
        "colab": {
          "base_uri": "https://localhost:8080/"
        },
        "id": "KgAgjDCjiVH0",
        "outputId": "d5223b67-7cc7-4111-8a5c-cdc57d18f5a0"
      },
      "execution_count": 63,
      "outputs": [
        {
          "output_type": "stream",
          "name": "stdout",
          "text": [
            "Epoch 1/100\n",
            "5/6 [========================>.....] - ETA: 0s - loss: 33.3085 - root_mean_squared_error: 5.7714 "
          ]
        },
        {
          "output_type": "stream",
          "name": "stderr",
          "text": [
            "WARNING:tensorflow:Can save best model only with val_loss available, skipping.\n"
          ]
        },
        {
          "output_type": "stream",
          "name": "stdout",
          "text": [
            "\b\b\b\b\b\b\b\b\b\b\b\b\b\b\b\b\b\b\b\b\b\b\b\b\b\b\b\b\b\b\b\b\b\b\b\b\b\b\b\b\b\b\b\b\b\b\b\b\b\b\b\b\b\b\b\b\b\b\b\b\b\b\b\b\b\b\b\b\b\b\b\b\b\b\b\b\b\b\b\b\b\b\b\b\b\b\b\b\b\b\b\b\b\b\b\b\r6/6 [==============================] - 2s 15ms/step - loss: 32.7159 - root_mean_squared_error: 5.7198\n",
            "Epoch 2/100\n",
            "5/6 [========================>.....] - ETA: 0s - loss: 4.0670 - root_mean_squared_error: 2.0167"
          ]
        },
        {
          "output_type": "stream",
          "name": "stderr",
          "text": [
            "WARNING:tensorflow:Can save best model only with val_loss available, skipping.\n"
          ]
        },
        {
          "output_type": "stream",
          "name": "stdout",
          "text": [
            "\b\b\b\b\b\b\b\b\b\b\b\b\b\b\b\b\b\b\b\b\b\b\b\b\b\b\b\b\b\b\b\b\b\b\b\b\b\b\b\b\b\b\b\b\b\b\b\b\b\b\b\b\b\b\b\b\b\b\b\b\b\b\b\b\b\b\b\b\b\b\b\b\b\b\b\b\b\b\b\b\b\b\b\b\b\b\b\b\b\b\b\b\b\b\b\r6/6 [==============================] - 0s 15ms/step - loss: 4.0284 - root_mean_squared_error: 2.0071\n",
            "Epoch 3/100\n",
            "5/6 [========================>.....] - ETA: 0s - loss: 1.0460 - root_mean_squared_error: 1.0227"
          ]
        },
        {
          "output_type": "stream",
          "name": "stderr",
          "text": [
            "WARNING:tensorflow:Can save best model only with val_loss available, skipping.\n"
          ]
        },
        {
          "output_type": "stream",
          "name": "stdout",
          "text": [
            "\b\b\b\b\b\b\b\b\b\b\b\b\b\b\b\b\b\b\b\b\b\b\b\b\b\b\b\b\b\b\b\b\b\b\b\b\b\b\b\b\b\b\b\b\b\b\b\b\b\b\b\b\b\b\b\b\b\b\b\b\b\b\b\b\b\b\b\b\b\b\b\b\b\b\b\b\b\b\b\b\b\b\b\b\b\b\b\b\b\b\b\b\b\b\b\r6/6 [==============================] - 0s 15ms/step - loss: 1.0274 - root_mean_squared_error: 1.0136\n",
            "Epoch 4/100\n",
            "5/6 [========================>.....] - ETA: 0s - loss: 0.9202 - root_mean_squared_error: 0.9593"
          ]
        },
        {
          "output_type": "stream",
          "name": "stderr",
          "text": [
            "WARNING:tensorflow:Can save best model only with val_loss available, skipping.\n"
          ]
        },
        {
          "output_type": "stream",
          "name": "stdout",
          "text": [
            "\b\b\b\b\b\b\b\b\b\b\b\b\b\b\b\b\b\b\b\b\b\b\b\b\b\b\b\b\b\b\b\b\b\b\b\b\b\b\b\b\b\b\b\b\b\b\b\b\b\b\b\b\b\b\b\b\b\b\b\b\b\b\b\b\b\b\b\b\b\b\b\b\b\b\b\b\b\b\b\b\b\b\b\b\b\b\b\b\b\b\b\b\b\b\b\r6/6 [==============================] - 0s 15ms/step - loss: 0.9394 - root_mean_squared_error: 0.9692\n",
            "Epoch 5/100\n",
            "5/6 [========================>.....] - ETA: 0s - loss: 0.6775 - root_mean_squared_error: 0.8231"
          ]
        },
        {
          "output_type": "stream",
          "name": "stderr",
          "text": [
            "WARNING:tensorflow:Can save best model only with val_loss available, skipping.\n"
          ]
        },
        {
          "output_type": "stream",
          "name": "stdout",
          "text": [
            "\b\b\b\b\b\b\b\b\b\b\b\b\b\b\b\b\b\b\b\b\b\b\b\b\b\b\b\b\b\b\b\b\b\b\b\b\b\b\b\b\b\b\b\b\b\b\b\b\b\b\b\b\b\b\b\b\b\b\b\b\b\b\b\b\b\b\b\b\b\b\b\b\b\b\b\b\b\b\b\b\b\b\b\b\b\b\b\b\b\b\b\b\b\b\b\r6/6 [==============================] - 0s 14ms/step - loss: 0.6735 - root_mean_squared_error: 0.8206\n",
            "Epoch 6/100\n",
            "5/6 [========================>.....] - ETA: 0s - loss: 0.4707 - root_mean_squared_error: 0.6861"
          ]
        },
        {
          "output_type": "stream",
          "name": "stderr",
          "text": [
            "WARNING:tensorflow:Can save best model only with val_loss available, skipping.\n"
          ]
        },
        {
          "output_type": "stream",
          "name": "stdout",
          "text": [
            "\b\b\b\b\b\b\b\b\b\b\b\b\b\b\b\b\b\b\b\b\b\b\b\b\b\b\b\b\b\b\b\b\b\b\b\b\b\b\b\b\b\b\b\b\b\b\b\b\b\b\b\b\b\b\b\b\b\b\b\b\b\b\b\b\b\b\b\b\b\b\b\b\b\b\b\b\b\b\b\b\b\b\b\b\b\b\b\b\b\b\b\b\b\b\b\r6/6 [==============================] - 0s 13ms/step - loss: 0.4626 - root_mean_squared_error: 0.6801\n",
            "Epoch 7/100\n",
            "5/6 [========================>.....] - ETA: 0s - loss: 0.4264 - root_mean_squared_error: 0.6530"
          ]
        },
        {
          "output_type": "stream",
          "name": "stderr",
          "text": [
            "WARNING:tensorflow:Can save best model only with val_loss available, skipping.\n"
          ]
        },
        {
          "output_type": "stream",
          "name": "stdout",
          "text": [
            "\b\b\b\b\b\b\b\b\b\b\b\b\b\b\b\b\b\b\b\b\b\b\b\b\b\b\b\b\b\b\b\b\b\b\b\b\b\b\b\b\b\b\b\b\b\b\b\b\b\b\b\b\b\b\b\b\b\b\b\b\b\b\b\b\b\b\b\b\b\b\b\b\b\b\b\b\b\b\b\b\b\b\b\b\b\b\b\b\b\b\b\b\b\b\b\r6/6 [==============================] - 0s 15ms/step - loss: 0.4345 - root_mean_squared_error: 0.6592\n",
            "Epoch 8/100\n",
            "6/6 [==============================] - ETA: 0s - loss: 1.1637 - root_mean_squared_error: 1.0787"
          ]
        },
        {
          "output_type": "stream",
          "name": "stderr",
          "text": [
            "WARNING:tensorflow:Can save best model only with val_loss available, skipping.\n"
          ]
        },
        {
          "output_type": "stream",
          "name": "stdout",
          "text": [
            "\b\b\b\b\b\b\b\b\b\b\b\b\b\b\b\b\b\b\b\b\b\b\b\b\b\b\b\b\b\b\b\b\b\b\b\b\b\b\b\b\b\b\b\b\b\b\b\b\b\b\b\b\b\b\b\b\b\b\b\b\b\b\b\b\b\b\b\b\b\b\b\b\b\b\b\b\b\b\b\b\b\b\b\b\b\b\b\b\b\b\b\b\b\b\b\r6/6 [==============================] - 0s 13ms/step - loss: 1.1637 - root_mean_squared_error: 1.0787\n",
            "Epoch 9/100\n",
            "5/6 [========================>.....] - ETA: 0s - loss: 1.0841 - root_mean_squared_error: 1.0412"
          ]
        },
        {
          "output_type": "stream",
          "name": "stderr",
          "text": [
            "WARNING:tensorflow:Can save best model only with val_loss available, skipping.\n"
          ]
        },
        {
          "output_type": "stream",
          "name": "stdout",
          "text": [
            "\b\b\b\b\b\b\b\b\b\b\b\b\b\b\b\b\b\b\b\b\b\b\b\b\b\b\b\b\b\b\b\b\b\b\b\b\b\b\b\b\b\b\b\b\b\b\b\b\b\b\b\b\b\b\b\b\b\b\b\b\b\b\b\b\b\b\b\b\b\b\b\b\b\b\b\b\b\b\b\b\b\b\b\b\b\b\b\b\b\b\b\b\b\b\b\r6/6 [==============================] - 0s 15ms/step - loss: 1.0704 - root_mean_squared_error: 1.0346\n",
            "Epoch 10/100\n",
            "6/6 [==============================] - ETA: 0s - loss: 0.7645 - root_mean_squared_error: 0.8743"
          ]
        },
        {
          "output_type": "stream",
          "name": "stderr",
          "text": [
            "WARNING:tensorflow:Can save best model only with val_loss available, skipping.\n"
          ]
        },
        {
          "output_type": "stream",
          "name": "stdout",
          "text": [
            "\b\b\b\b\b\b\b\b\b\b\b\b\b\b\b\b\b\b\b\b\b\b\b\b\b\b\b\b\b\b\b\b\b\b\b\b\b\b\b\b\b\b\b\b\b\b\b\b\b\b\b\b\b\b\b\b\b\b\b\b\b\b\b\b\b\b\b\b\b\b\b\b\b\b\b\b\b\b\b\b\b\b\b\b\b\b\b\b\b\b\b\b\b\b\b\r6/6 [==============================] - 0s 13ms/step - loss: 0.7645 - root_mean_squared_error: 0.8743\n",
            "Epoch 11/100\n",
            "5/6 [========================>.....] - ETA: 0s - loss: 0.8271 - root_mean_squared_error: 0.9095"
          ]
        },
        {
          "output_type": "stream",
          "name": "stderr",
          "text": [
            "WARNING:tensorflow:Can save best model only with val_loss available, skipping.\n"
          ]
        },
        {
          "output_type": "stream",
          "name": "stdout",
          "text": [
            "\b\b\b\b\b\b\b\b\b\b\b\b\b\b\b\b\b\b\b\b\b\b\b\b\b\b\b\b\b\b\b\b\b\b\b\b\b\b\b\b\b\b\b\b\b\b\b\b\b\b\b\b\b\b\b\b\b\b\b\b\b\b\b\b\b\b\b\b\b\b\b\b\b\b\b\b\b\b\b\b\b\b\b\b\b\b\b\b\b\b\b\b\b\b\b\r6/6 [==============================] - 0s 15ms/step - loss: 0.8218 - root_mean_squared_error: 0.9065\n",
            "Epoch 12/100\n",
            "6/6 [==============================] - ETA: 0s - loss: 0.5498 - root_mean_squared_error: 0.7415"
          ]
        },
        {
          "output_type": "stream",
          "name": "stderr",
          "text": [
            "WARNING:tensorflow:Can save best model only with val_loss available, skipping.\n"
          ]
        },
        {
          "output_type": "stream",
          "name": "stdout",
          "text": [
            "\b\b\b\b\b\b\b\b\b\b\b\b\b\b\b\b\b\b\b\b\b\b\b\b\b\b\b\b\b\b\b\b\b\b\b\b\b\b\b\b\b\b\b\b\b\b\b\b\b\b\b\b\b\b\b\b\b\b\b\b\b\b\b\b\b\b\b\b\b\b\b\b\b\b\b\b\b\b\b\b\b\b\b\b\b\b\b\b\b\b\b\b\b\b\b\r6/6 [==============================] - 0s 14ms/step - loss: 0.5498 - root_mean_squared_error: 0.7415\n",
            "Epoch 13/100\n",
            "6/6 [==============================] - ETA: 0s - loss: 0.4787 - root_mean_squared_error: 0.6919"
          ]
        },
        {
          "output_type": "stream",
          "name": "stderr",
          "text": [
            "WARNING:tensorflow:Can save best model only with val_loss available, skipping.\n"
          ]
        },
        {
          "output_type": "stream",
          "name": "stdout",
          "text": [
            "\b\b\b\b\b\b\b\b\b\b\b\b\b\b\b\b\b\b\b\b\b\b\b\b\b\b\b\b\b\b\b\b\b\b\b\b\b\b\b\b\b\b\b\b\b\b\b\b\b\b\b\b\b\b\b\b\b\b\b\b\b\b\b\b\b\b\b\b\b\b\b\b\b\b\b\b\b\b\b\b\b\b\b\b\b\b\b\b\b\b\b\b\b\b\b\r6/6 [==============================] - 0s 13ms/step - loss: 0.4787 - root_mean_squared_error: 0.6919\n",
            "Epoch 14/100\n",
            "5/6 [========================>.....] - ETA: 0s - loss: 0.4400 - root_mean_squared_error: 0.6633"
          ]
        },
        {
          "output_type": "stream",
          "name": "stderr",
          "text": [
            "WARNING:tensorflow:Can save best model only with val_loss available, skipping.\n"
          ]
        },
        {
          "output_type": "stream",
          "name": "stdout",
          "text": [
            "\b\b\b\b\b\b\b\b\b\b\b\b\b\b\b\b\b\b\b\b\b\b\b\b\b\b\b\b\b\b\b\b\b\b\b\b\b\b\b\b\b\b\b\b\b\b\b\b\b\b\b\b\b\b\b\b\b\b\b\b\b\b\b\b\b\b\b\b\b\b\b\b\b\b\b\b\b\b\b\b\b\b\b\b\b\b\b\b\b\b\b\b\b\b\b\r6/6 [==============================] - 0s 15ms/step - loss: 0.4327 - root_mean_squared_error: 0.6578\n",
            "Epoch 15/100\n",
            "5/6 [========================>.....] - ETA: 0s - loss: 0.3697 - root_mean_squared_error: 0.6080"
          ]
        },
        {
          "output_type": "stream",
          "name": "stderr",
          "text": [
            "WARNING:tensorflow:Can save best model only with val_loss available, skipping.\n"
          ]
        },
        {
          "output_type": "stream",
          "name": "stdout",
          "text": [
            "\b\b\b\b\b\b\b\b\b\b\b\b\b\b\b\b\b\b\b\b\b\b\b\b\b\b\b\b\b\b\b\b\b\b\b\b\b\b\b\b\b\b\b\b\b\b\b\b\b\b\b\b\b\b\b\b\b\b\b\b\b\b\b\b\b\b\b\b\b\b\b\b\b\b\b\b\b\b\b\b\b\b\b\b\b\b\b\b\b\b\b\b\b\b\b\r6/6 [==============================] - 0s 16ms/step - loss: 0.3687 - root_mean_squared_error: 0.6072\n",
            "Epoch 16/100\n",
            "5/6 [========================>.....] - ETA: 0s - loss: 0.3473 - root_mean_squared_error: 0.5893"
          ]
        },
        {
          "output_type": "stream",
          "name": "stderr",
          "text": [
            "WARNING:tensorflow:Can save best model only with val_loss available, skipping.\n"
          ]
        },
        {
          "output_type": "stream",
          "name": "stdout",
          "text": [
            "\b\b\b\b\b\b\b\b\b\b\b\b\b\b\b\b\b\b\b\b\b\b\b\b\b\b\b\b\b\b\b\b\b\b\b\b\b\b\b\b\b\b\b\b\b\b\b\b\b\b\b\b\b\b\b\b\b\b\b\b\b\b\b\b\b\b\b\b\b\b\b\b\b\b\b\b\b\b\b\b\b\b\b\b\b\b\b\b\b\b\b\b\b\b\b\r6/6 [==============================] - 0s 14ms/step - loss: 0.3623 - root_mean_squared_error: 0.6019\n",
            "Epoch 17/100\n",
            "5/6 [========================>.....] - ETA: 0s - loss: 1.5449 - root_mean_squared_error: 1.2429"
          ]
        },
        {
          "output_type": "stream",
          "name": "stderr",
          "text": [
            "WARNING:tensorflow:Can save best model only with val_loss available, skipping.\n"
          ]
        },
        {
          "output_type": "stream",
          "name": "stdout",
          "text": [
            "\b\b\b\b\b\b\b\b\b\b\b\b\b\b\b\b\b\b\b\b\b\b\b\b\b\b\b\b\b\b\b\b\b\b\b\b\b\b\b\b\b\b\b\b\b\b\b\b\b\b\b\b\b\b\b\b\b\b\b\b\b\b\b\b\b\b\b\b\b\b\b\b\b\b\b\b\b\b\b\b\b\b\b\b\b\b\b\b\b\b\b\b\b\b\b\r6/6 [==============================] - 0s 14ms/step - loss: 1.5288 - root_mean_squared_error: 1.2364\n",
            "Epoch 18/100\n",
            "5/6 [========================>.....] - ETA: 0s - loss: 1.1055 - root_mean_squared_error: 1.0514"
          ]
        },
        {
          "output_type": "stream",
          "name": "stderr",
          "text": [
            "WARNING:tensorflow:Can save best model only with val_loss available, skipping.\n"
          ]
        },
        {
          "output_type": "stream",
          "name": "stdout",
          "text": [
            "\b\b\b\b\b\b\b\b\b\b\b\b\b\b\b\b\b\b\b\b\b\b\b\b\b\b\b\b\b\b\b\b\b\b\b\b\b\b\b\b\b\b\b\b\b\b\b\b\b\b\b\b\b\b\b\b\b\b\b\b\b\b\b\b\b\b\b\b\b\b\b\b\b\b\b\b\b\b\b\b\b\b\b\b\b\b\b\b\b\b\b\b\b\b\b\r6/6 [==============================] - 0s 15ms/step - loss: 1.0871 - root_mean_squared_error: 1.0426\n",
            "Epoch 19/100\n",
            "6/6 [==============================] - ETA: 0s - loss: 0.6352 - root_mean_squared_error: 0.7970"
          ]
        },
        {
          "output_type": "stream",
          "name": "stderr",
          "text": [
            "WARNING:tensorflow:Can save best model only with val_loss available, skipping.\n"
          ]
        },
        {
          "output_type": "stream",
          "name": "stdout",
          "text": [
            "\b\b\b\b\b\b\b\b\b\b\b\b\b\b\b\b\b\b\b\b\b\b\b\b\b\b\b\b\b\b\b\b\b\b\b\b\b\b\b\b\b\b\b\b\b\b\b\b\b\b\b\b\b\b\b\b\b\b\b\b\b\b\b\b\b\b\b\b\b\b\b\b\b\b\b\b\b\b\b\b\b\b\b\b\b\b\b\b\b\b\b\b\b\b\b\r6/6 [==============================] - 0s 13ms/step - loss: 0.6352 - root_mean_squared_error: 0.7970\n",
            "Epoch 20/100\n",
            "5/6 [========================>.....] - ETA: 0s - loss: 0.4420 - root_mean_squared_error: 0.6648"
          ]
        },
        {
          "output_type": "stream",
          "name": "stderr",
          "text": [
            "WARNING:tensorflow:Can save best model only with val_loss available, skipping.\n"
          ]
        },
        {
          "output_type": "stream",
          "name": "stdout",
          "text": [
            "\b\b\b\b\b\b\b\b\b\b\b\b\b\b\b\b\b\b\b\b\b\b\b\b\b\b\b\b\b\b\b\b\b\b\b\b\b\b\b\b\b\b\b\b\b\b\b\b\b\b\b\b\b\b\b\b\b\b\b\b\b\b\b\b\b\b\b\b\b\b\b\b\b\b\b\b\b\b\b\b\b\b\b\b\b\b\b\b\b\b\b\b\b\b\b\r6/6 [==============================] - 0s 14ms/step - loss: 0.4460 - root_mean_squared_error: 0.6678\n",
            "Epoch 21/100\n",
            "5/6 [========================>.....] - ETA: 0s - loss: 0.3938 - root_mean_squared_error: 0.6275"
          ]
        },
        {
          "output_type": "stream",
          "name": "stderr",
          "text": [
            "WARNING:tensorflow:Can save best model only with val_loss available, skipping.\n"
          ]
        },
        {
          "output_type": "stream",
          "name": "stdout",
          "text": [
            "\b\b\b\b\b\b\b\b\b\b\b\b\b\b\b\b\b\b\b\b\b\b\b\b\b\b\b\b\b\b\b\b\b\b\b\b\b\b\b\b\b\b\b\b\b\b\b\b\b\b\b\b\b\b\b\b\b\b\b\b\b\b\b\b\b\b\b\b\b\b\b\b\b\b\b\b\b\b\b\b\b\b\b\b\b\b\b\b\b\b\b\b\b\b\b\r6/6 [==============================] - 0s 14ms/step - loss: 0.3899 - root_mean_squared_error: 0.6244\n",
            "Epoch 22/100\n",
            "5/6 [========================>.....] - ETA: 0s - loss: 0.4348 - root_mean_squared_error: 0.6594"
          ]
        },
        {
          "output_type": "stream",
          "name": "stderr",
          "text": [
            "WARNING:tensorflow:Can save best model only with val_loss available, skipping.\n"
          ]
        },
        {
          "output_type": "stream",
          "name": "stdout",
          "text": [
            "\b\b\b\b\b\b\b\b\b\b\b\b\b\b\b\b\b\b\b\b\b\b\b\b\b\b\b\b\b\b\b\b\b\b\b\b\b\b\b\b\b\b\b\b\b\b\b\b\b\b\b\b\b\b\b\b\b\b\b\b\b\b\b\b\b\b\b\b\b\b\b\b\b\b\b\b\b\b\b\b\b\b\b\b\b\b\b\b\b\b\b\b\b\b\b\r6/6 [==============================] - 0s 16ms/step - loss: 0.4276 - root_mean_squared_error: 0.6539\n",
            "Epoch 23/100\n",
            "6/6 [==============================] - ETA: 0s - loss: 0.6002 - root_mean_squared_error: 0.7747"
          ]
        },
        {
          "output_type": "stream",
          "name": "stderr",
          "text": [
            "WARNING:tensorflow:Can save best model only with val_loss available, skipping.\n"
          ]
        },
        {
          "output_type": "stream",
          "name": "stdout",
          "text": [
            "\b\b\b\b\b\b\b\b\b\b\b\b\b\b\b\b\b\b\b\b\b\b\b\b\b\b\b\b\b\b\b\b\b\b\b\b\b\b\b\b\b\b\b\b\b\b\b\b\b\b\b\b\b\b\b\b\b\b\b\b\b\b\b\b\b\b\b\b\b\b\b\b\b\b\b\b\b\b\b\b\b\b\b\b\b\b\b\b\b\b\b\b\b\b\b\r6/6 [==============================] - 0s 14ms/step - loss: 0.6002 - root_mean_squared_error: 0.7747\n",
            "Epoch 24/100\n",
            "5/6 [========================>.....] - ETA: 0s - loss: 0.9426 - root_mean_squared_error: 0.9709"
          ]
        },
        {
          "output_type": "stream",
          "name": "stderr",
          "text": [
            "WARNING:tensorflow:Can save best model only with val_loss available, skipping.\n"
          ]
        },
        {
          "output_type": "stream",
          "name": "stdout",
          "text": [
            "\b\b\b\b\b\b\b\b\b\b\b\b\b\b\b\b\b\b\b\b\b\b\b\b\b\b\b\b\b\b\b\b\b\b\b\b\b\b\b\b\b\b\b\b\b\b\b\b\b\b\b\b\b\b\b\b\b\b\b\b\b\b\b\b\b\b\b\b\b\b\b\b\b\b\b\b\b\b\b\b\b\b\b\b\b\b\b\b\b\b\b\b\b\b\b\r6/6 [==============================] - 0s 15ms/step - loss: 0.9333 - root_mean_squared_error: 0.9661\n",
            "Epoch 25/100\n",
            "6/6 [==============================] - ETA: 0s - loss: 1.1586 - root_mean_squared_error: 1.0764"
          ]
        },
        {
          "output_type": "stream",
          "name": "stderr",
          "text": [
            "WARNING:tensorflow:Can save best model only with val_loss available, skipping.\n"
          ]
        },
        {
          "output_type": "stream",
          "name": "stdout",
          "text": [
            "\b\b\b\b\b\b\b\b\b\b\b\b\b\b\b\b\b\b\b\b\b\b\b\b\b\b\b\b\b\b\b\b\b\b\b\b\b\b\b\b\b\b\b\b\b\b\b\b\b\b\b\b\b\b\b\b\b\b\b\b\b\b\b\b\b\b\b\b\b\b\b\b\b\b\b\b\b\b\b\b\b\b\b\b\b\b\b\b\b\b\b\b\b\b\b\r6/6 [==============================] - 0s 13ms/step - loss: 1.1586 - root_mean_squared_error: 1.0764\n",
            "Epoch 26/100\n",
            "5/6 [========================>.....] - ETA: 0s - loss: 1.2069 - root_mean_squared_error: 1.0986"
          ]
        },
        {
          "output_type": "stream",
          "name": "stderr",
          "text": [
            "WARNING:tensorflow:Can save best model only with val_loss available, skipping.\n"
          ]
        },
        {
          "output_type": "stream",
          "name": "stdout",
          "text": [
            "\b\b\b\b\b\b\b\b\b\b\b\b\b\b\b\b\b\b\b\b\b\b\b\b\b\b\b\b\b\b\b\b\b\b\b\b\b\b\b\b\b\b\b\b\b\b\b\b\b\b\b\b\b\b\b\b\b\b\b\b\b\b\b\b\b\b\b\b\b\b\b\b\b\b\b\b\b\b\b\b\b\b\b\b\b\b\b\b\b\b\b\b\b\b\b\r6/6 [==============================] - 0s 15ms/step - loss: 1.2025 - root_mean_squared_error: 1.0966\n",
            "Epoch 27/100\n",
            "5/6 [========================>.....] - ETA: 0s - loss: 0.7249 - root_mean_squared_error: 0.8514"
          ]
        },
        {
          "output_type": "stream",
          "name": "stderr",
          "text": [
            "WARNING:tensorflow:Can save best model only with val_loss available, skipping.\n"
          ]
        },
        {
          "output_type": "stream",
          "name": "stdout",
          "text": [
            "\b\b\b\b\b\b\b\b\b\b\b\b\b\b\b\b\b\b\b\b\b\b\b\b\b\b\b\b\b\b\b\b\b\b\b\b\b\b\b\b\b\b\b\b\b\b\b\b\b\b\b\b\b\b\b\b\b\b\b\b\b\b\b\b\b\b\b\b\b\b\b\b\b\b\b\b\b\b\b\b\b\b\b\b\b\b\b\b\b\b\b\b\b\b\b\r6/6 [==============================] - 0s 14ms/step - loss: 0.7121 - root_mean_squared_error: 0.8439\n",
            "Epoch 28/100\n",
            "6/6 [==============================] - ETA: 0s - loss: 0.6081 - root_mean_squared_error: 0.7798"
          ]
        },
        {
          "output_type": "stream",
          "name": "stderr",
          "text": [
            "WARNING:tensorflow:Can save best model only with val_loss available, skipping.\n"
          ]
        },
        {
          "output_type": "stream",
          "name": "stdout",
          "text": [
            "\b\b\b\b\b\b\b\b\b\b\b\b\b\b\b\b\b\b\b\b\b\b\b\b\b\b\b\b\b\b\b\b\b\b\b\b\b\b\b\b\b\b\b\b\b\b\b\b\b\b\b\b\b\b\b\b\b\b\b\b\b\b\b\b\b\b\b\b\b\b\b\b\b\b\b\b\b\b\b\b\b\b\b\b\b\b\b\b\b\b\b\b\b\b\b\r6/6 [==============================] - 0s 14ms/step - loss: 0.6081 - root_mean_squared_error: 0.7798\n",
            "Epoch 29/100\n",
            "5/6 [========================>.....] - ETA: 0s - loss: 0.6467 - root_mean_squared_error: 0.8042"
          ]
        },
        {
          "output_type": "stream",
          "name": "stderr",
          "text": [
            "WARNING:tensorflow:Can save best model only with val_loss available, skipping.\n"
          ]
        },
        {
          "output_type": "stream",
          "name": "stdout",
          "text": [
            "\b\b\b\b\b\b\b\b\b\b\b\b\b\b\b\b\b\b\b\b\b\b\b\b\b\b\b\b\b\b\b\b\b\b\b\b\b\b\b\b\b\b\b\b\b\b\b\b\b\b\b\b\b\b\b\b\b\b\b\b\b\b\b\b\b\b\b\b\b\b\b\b\b\b\b\b\b\b\b\b\b\b\b\b\b\b\b\b\b\b\b\b\b\b\b\r6/6 [==============================] - 0s 15ms/step - loss: 0.6393 - root_mean_squared_error: 0.7996\n",
            "Epoch 30/100\n",
            "5/6 [========================>.....] - ETA: 0s - loss: 0.5874 - root_mean_squared_error: 0.7664"
          ]
        },
        {
          "output_type": "stream",
          "name": "stderr",
          "text": [
            "WARNING:tensorflow:Can save best model only with val_loss available, skipping.\n"
          ]
        },
        {
          "output_type": "stream",
          "name": "stdout",
          "text": [
            "\b\b\b\b\b\b\b\b\b\b\b\b\b\b\b\b\b\b\b\b\b\b\b\b\b\b\b\b\b\b\b\b\b\b\b\b\b\b\b\b\b\b\b\b\b\b\b\b\b\b\b\b\b\b\b\b\b\b\b\b\b\b\b\b\b\b\b\b\b\b\b\b\b\b\b\b\b\b\b\b\b\b\b\b\b\b\b\b\b\b\b\b\b\b\b\r6/6 [==============================] - 0s 15ms/step - loss: 0.5787 - root_mean_squared_error: 0.7607\n",
            "Epoch 31/100\n",
            "5/6 [========================>.....] - ETA: 0s - loss: 0.3715 - root_mean_squared_error: 0.6095"
          ]
        },
        {
          "output_type": "stream",
          "name": "stderr",
          "text": [
            "WARNING:tensorflow:Can save best model only with val_loss available, skipping.\n"
          ]
        },
        {
          "output_type": "stream",
          "name": "stdout",
          "text": [
            "\b\b\b\b\b\b\b\b\b\b\b\b\b\b\b\b\b\b\b\b\b\b\b\b\b\b\b\b\b\b\b\b\b\b\b\b\b\b\b\b\b\b\b\b\b\b\b\b\b\b\b\b\b\b\b\b\b\b\b\b\b\b\b\b\b\b\b\b\b\b\b\b\b\b\b\b\b\b\b\b\b\b\b\b\b\b\b\b\b\b\b\b\b\b\b\r6/6 [==============================] - 0s 14ms/step - loss: 0.3716 - root_mean_squared_error: 0.6096\n",
            "Epoch 32/100\n",
            "6/6 [==============================] - ETA: 0s - loss: 0.5091 - root_mean_squared_error: 0.7135"
          ]
        },
        {
          "output_type": "stream",
          "name": "stderr",
          "text": [
            "WARNING:tensorflow:Can save best model only with val_loss available, skipping.\n"
          ]
        },
        {
          "output_type": "stream",
          "name": "stdout",
          "text": [
            "\b\b\b\b\b\b\b\b\b\b\b\b\b\b\b\b\b\b\b\b\b\b\b\b\b\b\b\b\b\b\b\b\b\b\b\b\b\b\b\b\b\b\b\b\b\b\b\b\b\b\b\b\b\b\b\b\b\b\b\b\b\b\b\b\b\b\b\b\b\b\b\b\b\b\b\b\b\b\b\b\b\b\b\b\b\b\b\b\b\b\b\b\b\b\b\r6/6 [==============================] - 0s 14ms/step - loss: 0.5091 - root_mean_squared_error: 0.7135\n",
            "Epoch 33/100\n",
            "5/6 [========================>.....] - ETA: 0s - loss: 0.5259 - root_mean_squared_error: 0.7252"
          ]
        },
        {
          "output_type": "stream",
          "name": "stderr",
          "text": [
            "WARNING:tensorflow:Can save best model only with val_loss available, skipping.\n"
          ]
        },
        {
          "output_type": "stream",
          "name": "stdout",
          "text": [
            "\b\b\b\b\b\b\b\b\b\b\b\b\b\b\b\b\b\b\b\b\b\b\b\b\b\b\b\b\b\b\b\b\b\b\b\b\b\b\b\b\b\b\b\b\b\b\b\b\b\b\b\b\b\b\b\b\b\b\b\b\b\b\b\b\b\b\b\b\b\b\b\b\b\b\b\b\b\b\b\b\b\b\b\b\b\b\b\b\b\b\b\b\b\b\b\r6/6 [==============================] - 0s 14ms/step - loss: 0.5551 - root_mean_squared_error: 0.7451\n",
            "Epoch 34/100\n",
            "6/6 [==============================] - ETA: 0s - loss: 0.4214 - root_mean_squared_error: 0.6491"
          ]
        },
        {
          "output_type": "stream",
          "name": "stderr",
          "text": [
            "WARNING:tensorflow:Can save best model only with val_loss available, skipping.\n"
          ]
        },
        {
          "output_type": "stream",
          "name": "stdout",
          "text": [
            "\b\b\b\b\b\b\b\b\b\b\b\b\b\b\b\b\b\b\b\b\b\b\b\b\b\b\b\b\b\b\b\b\b\b\b\b\b\b\b\b\b\b\b\b\b\b\b\b\b\b\b\b\b\b\b\b\b\b\b\b\b\b\b\b\b\b\b\b\b\b\b\b\b\b\b\b\b\b\b\b\b\b\b\b\b\b\b\b\b\b\b\b\b\b\b\r6/6 [==============================] - 0s 13ms/step - loss: 0.4214 - root_mean_squared_error: 0.6491\n",
            "Epoch 35/100\n",
            "5/6 [========================>.....] - ETA: 0s - loss: 2.1277 - root_mean_squared_error: 1.4587"
          ]
        },
        {
          "output_type": "stream",
          "name": "stderr",
          "text": [
            "WARNING:tensorflow:Can save best model only with val_loss available, skipping.\n"
          ]
        },
        {
          "output_type": "stream",
          "name": "stdout",
          "text": [
            "\b\b\b\b\b\b\b\b\b\b\b\b\b\b\b\b\b\b\b\b\b\b\b\b\b\b\b\b\b\b\b\b\b\b\b\b\b\b\b\b\b\b\b\b\b\b\b\b\b\b\b\b\b\b\b\b\b\b\b\b\b\b\b\b\b\b\b\b\b\b\b\b\b\b\b\b\b\b\b\b\b\b\b\b\b\b\b\b\b\b\b\b\b\b\b\r6/6 [==============================] - 0s 15ms/step - loss: 2.1434 - root_mean_squared_error: 1.4640\n",
            "Epoch 36/100\n",
            "5/6 [========================>.....] - ETA: 0s - loss: 2.2630 - root_mean_squared_error: 1.5043"
          ]
        },
        {
          "output_type": "stream",
          "name": "stderr",
          "text": [
            "WARNING:tensorflow:Can save best model only with val_loss available, skipping.\n"
          ]
        },
        {
          "output_type": "stream",
          "name": "stdout",
          "text": [
            "\b\b\b\b\b\b\b\b\b\b\b\b\b\b\b\b\b\b\b\b\b\b\b\b\b\b\b\b\b\b\b\b\b\b\b\b\b\b\b\b\b\b\b\b\b\b\b\b\b\b\b\b\b\b\b\b\b\b\b\b\b\b\b\b\b\b\b\b\b\b\b\b\b\b\b\b\b\b\b\b\b\b\b\b\b\b\b\b\b\b\b\b\b\b\b\r6/6 [==============================] - 0s 16ms/step - loss: 2.2440 - root_mean_squared_error: 1.4980\n",
            "Epoch 37/100\n",
            "5/6 [========================>.....] - ETA: 0s - loss: 1.4349 - root_mean_squared_error: 1.1979"
          ]
        },
        {
          "output_type": "stream",
          "name": "stderr",
          "text": [
            "WARNING:tensorflow:Can save best model only with val_loss available, skipping.\n"
          ]
        },
        {
          "output_type": "stream",
          "name": "stdout",
          "text": [
            "\b\b\b\b\b\b\b\b\b\b\b\b\b\b\b\b\b\b\b\b\b\b\b\b\b\b\b\b\b\b\b\b\b\b\b\b\b\b\b\b\b\b\b\b\b\b\b\b\b\b\b\b\b\b\b\b\b\b\b\b\b\b\b\b\b\b\b\b\b\b\b\b\b\b\b\b\b\b\b\b\b\b\b\b\b\b\b\b\b\b\b\b\b\b\b\r6/6 [==============================] - 0s 14ms/step - loss: 1.4340 - root_mean_squared_error: 1.1975\n",
            "Epoch 38/100\n",
            "6/6 [==============================] - ETA: 0s - loss: 0.9289 - root_mean_squared_error: 0.9638"
          ]
        },
        {
          "output_type": "stream",
          "name": "stderr",
          "text": [
            "WARNING:tensorflow:Can save best model only with val_loss available, skipping.\n"
          ]
        },
        {
          "output_type": "stream",
          "name": "stdout",
          "text": [
            "\b\b\b\b\b\b\b\b\b\b\b\b\b\b\b\b\b\b\b\b\b\b\b\b\b\b\b\b\b\b\b\b\b\b\b\b\b\b\b\b\b\b\b\b\b\b\b\b\b\b\b\b\b\b\b\b\b\b\b\b\b\b\b\b\b\b\b\b\b\b\b\b\b\b\b\b\b\b\b\b\b\b\b\b\b\b\b\b\b\b\b\b\b\b\b\r6/6 [==============================] - 0s 13ms/step - loss: 0.9289 - root_mean_squared_error: 0.9638\n",
            "Epoch 39/100\n",
            "5/6 [========================>.....] - ETA: 0s - loss: 0.6774 - root_mean_squared_error: 0.8231"
          ]
        },
        {
          "output_type": "stream",
          "name": "stderr",
          "text": [
            "WARNING:tensorflow:Can save best model only with val_loss available, skipping.\n"
          ]
        },
        {
          "output_type": "stream",
          "name": "stdout",
          "text": [
            "\b\b\b\b\b\b\b\b\b\b\b\b\b\b\b\b\b\b\b\b\b\b\b\b\b\b\b\b\b\b\b\b\b\b\b\b\b\b\b\b\b\b\b\b\b\b\b\b\b\b\b\b\b\b\b\b\b\b\b\b\b\b\b\b\b\b\b\b\b\b\b\b\b\b\b\b\b\b\b\b\b\b\b\b\b\b\b\b\b\b\b\b\b\b\b\r6/6 [==============================] - 0s 15ms/step - loss: 0.6693 - root_mean_squared_error: 0.8181\n",
            "Epoch 40/100\n",
            "5/6 [========================>.....] - ETA: 0s - loss: 0.5587 - root_mean_squared_error: 0.7474"
          ]
        },
        {
          "output_type": "stream",
          "name": "stderr",
          "text": [
            "WARNING:tensorflow:Can save best model only with val_loss available, skipping.\n"
          ]
        },
        {
          "output_type": "stream",
          "name": "stdout",
          "text": [
            "\b\b\b\b\b\b\b\b\b\b\b\b\b\b\b\b\b\b\b\b\b\b\b\b\b\b\b\b\b\b\b\b\b\b\b\b\b\b\b\b\b\b\b\b\b\b\b\b\b\b\b\b\b\b\b\b\b\b\b\b\b\b\b\b\b\b\b\b\b\b\b\b\b\b\b\b\b\b\b\b\b\b\b\b\b\b\b\b\b\b\b\b\b\b\b\r6/6 [==============================] - 0s 14ms/step - loss: 0.5571 - root_mean_squared_error: 0.7464\n",
            "Epoch 41/100\n",
            "5/6 [========================>.....] - ETA: 0s - loss: 0.4972 - root_mean_squared_error: 0.7051"
          ]
        },
        {
          "output_type": "stream",
          "name": "stderr",
          "text": [
            "WARNING:tensorflow:Can save best model only with val_loss available, skipping.\n"
          ]
        },
        {
          "output_type": "stream",
          "name": "stdout",
          "text": [
            "\b\b\b\b\b\b\b\b\b\b\b\b\b\b\b\b\b\b\b\b\b\b\b\b\b\b\b\b\b\b\b\b\b\b\b\b\b\b\b\b\b\b\b\b\b\b\b\b\b\b\b\b\b\b\b\b\b\b\b\b\b\b\b\b\b\b\b\b\b\b\b\b\b\b\b\b\b\b\b\b\b\b\b\b\b\b\b\b\b\b\b\b\b\b\b\r6/6 [==============================] - 0s 14ms/step - loss: 0.4905 - root_mean_squared_error: 0.7004\n",
            "Epoch 42/100\n",
            "4/6 [===================>..........] - ETA: 0s - loss: 0.4120 - root_mean_squared_error: 0.6418"
          ]
        },
        {
          "output_type": "stream",
          "name": "stderr",
          "text": [
            "WARNING:tensorflow:Can save best model only with val_loss available, skipping.\n"
          ]
        },
        {
          "output_type": "stream",
          "name": "stdout",
          "text": [
            "\b\b\b\b\b\b\b\b\b\b\b\b\b\b\b\b\b\b\b\b\b\b\b\b\b\b\b\b\b\b\b\b\b\b\b\b\b\b\b\b\b\b\b\b\b\b\b\b\b\b\b\b\b\b\b\b\b\b\b\b\b\b\b\b\b\b\b\b\b\b\b\b\b\b\b\b\b\b\b\b\b\b\b\b\b\b\b\b\b\b\b\b\b\b\b\r6/6 [==============================] - 0s 19ms/step - loss: 0.4415 - root_mean_squared_error: 0.6644\n",
            "Epoch 43/100\n",
            "6/6 [==============================] - ETA: 0s - loss: 1.0090 - root_mean_squared_error: 1.0045"
          ]
        },
        {
          "output_type": "stream",
          "name": "stderr",
          "text": [
            "WARNING:tensorflow:Can save best model only with val_loss available, skipping.\n"
          ]
        },
        {
          "output_type": "stream",
          "name": "stdout",
          "text": [
            "\b\b\b\b\b\b\b\b\b\b\b\b\b\b\b\b\b\b\b\b\b\b\b\b\b\b\b\b\b\b\b\b\b\b\b\b\b\b\b\b\b\b\b\b\b\b\b\b\b\b\b\b\b\b\b\b\b\b\b\b\b\b\b\b\b\b\b\b\b\b\b\b\b\b\b\b\b\b\b\b\b\b\b\b\b\b\b\b\b\b\b\b\b\b\b\r6/6 [==============================] - 0s 13ms/step - loss: 1.0090 - root_mean_squared_error: 1.0045\n",
            "Epoch 44/100\n",
            "6/6 [==============================] - ETA: 0s - loss: 2.2162 - root_mean_squared_error: 1.4887"
          ]
        },
        {
          "output_type": "stream",
          "name": "stderr",
          "text": [
            "WARNING:tensorflow:Can save best model only with val_loss available, skipping.\n"
          ]
        },
        {
          "output_type": "stream",
          "name": "stdout",
          "text": [
            "\b\b\b\b\b\b\b\b\b\b\b\b\b\b\b\b\b\b\b\b\b\b\b\b\b\b\b\b\b\b\b\b\b\b\b\b\b\b\b\b\b\b\b\b\b\b\b\b\b\b\b\b\b\b\b\b\b\b\b\b\b\b\b\b\b\b\b\b\b\b\b\b\b\b\b\b\b\b\b\b\b\b\b\b\b\b\b\b\b\b\b\b\b\b\b\r6/6 [==============================] - 0s 14ms/step - loss: 2.2162 - root_mean_squared_error: 1.4887\n",
            "Epoch 45/100\n",
            "4/6 [===================>..........] - ETA: 0s - loss: 1.9409 - root_mean_squared_error: 1.3932"
          ]
        },
        {
          "output_type": "stream",
          "name": "stderr",
          "text": [
            "WARNING:tensorflow:Can save best model only with val_loss available, skipping.\n"
          ]
        },
        {
          "output_type": "stream",
          "name": "stdout",
          "text": [
            "\b\b\b\b\b\b\b\b\b\b\b\b\b\b\b\b\b\b\b\b\b\b\b\b\b\b\b\b\b\b\b\b\b\b\b\b\b\b\b\b\b\b\b\b\b\b\b\b\b\b\b\b\b\b\b\b\b\b\b\b\b\b\b\b\b\b\b\b\b\b\b\b\b\b\b\b\b\b\b\b\b\b\b\b\b\b\b\b\b\b\b\b\b\b\b\r6/6 [==============================] - 0s 21ms/step - loss: 2.5102 - root_mean_squared_error: 1.5844\n",
            "Epoch 46/100\n",
            "6/6 [==============================] - ETA: 0s - loss: 1.2418 - root_mean_squared_error: 1.1143"
          ]
        },
        {
          "output_type": "stream",
          "name": "stderr",
          "text": [
            "WARNING:tensorflow:Can save best model only with val_loss available, skipping.\n"
          ]
        },
        {
          "output_type": "stream",
          "name": "stdout",
          "text": [
            "\b\b\b\b\b\b\b\b\b\b\b\b\b\b\b\b\b\b\b\b\b\b\b\b\b\b\b\b\b\b\b\b\b\b\b\b\b\b\b\b\b\b\b\b\b\b\b\b\b\b\b\b\b\b\b\b\b\b\b\b\b\b\b\b\b\b\b\b\b\b\b\b\b\b\b\b\b\b\b\b\b\b\b\b\b\b\b\b\b\b\b\b\b\b\b\r6/6 [==============================] - 0s 24ms/step - loss: 1.2418 - root_mean_squared_error: 1.1143\n",
            "Epoch 47/100\n",
            "4/6 [===================>..........] - ETA: 0s - loss: 0.9463 - root_mean_squared_error: 0.9728"
          ]
        },
        {
          "output_type": "stream",
          "name": "stderr",
          "text": [
            "WARNING:tensorflow:Can save best model only with val_loss available, skipping.\n"
          ]
        },
        {
          "output_type": "stream",
          "name": "stdout",
          "text": [
            "\b\b\b\b\b\b\b\b\b\b\b\b\b\b\b\b\b\b\b\b\b\b\b\b\b\b\b\b\b\b\b\b\b\b\b\b\b\b\b\b\b\b\b\b\b\b\b\b\b\b\b\b\b\b\b\b\b\b\b\b\b\b\b\b\b\b\b\b\b\b\b\b\b\b\b\b\b\b\b\b\b\b\b\b\b\b\b\b\b\b\b\b\b\b\b\r6/6 [==============================] - 0s 20ms/step - loss: 1.0428 - root_mean_squared_error: 1.0212\n",
            "Epoch 48/100\n",
            "4/6 [===================>..........] - ETA: 0s - loss: 0.9179 - root_mean_squared_error: 0.9581"
          ]
        },
        {
          "output_type": "stream",
          "name": "stderr",
          "text": [
            "WARNING:tensorflow:Can save best model only with val_loss available, skipping.\n"
          ]
        },
        {
          "output_type": "stream",
          "name": "stdout",
          "text": [
            "\b\b\b\b\b\b\b\b\b\b\b\b\b\b\b\b\b\b\b\b\b\b\b\b\b\b\b\b\b\b\b\b\b\b\b\b\b\b\b\b\b\b\b\b\b\b\b\b\b\b\b\b\b\b\b\b\b\b\b\b\b\b\b\b\b\b\b\b\b\b\b\b\b\b\b\b\b\b\b\b\b\b\b\b\b\b\b\b\b\b\b\b\b\b\b\r6/6 [==============================] - 0s 23ms/step - loss: 0.8810 - root_mean_squared_error: 0.9386\n",
            "Epoch 49/100\n",
            "4/6 [===================>..........] - ETA: 0s - loss: 1.3670 - root_mean_squared_error: 1.1692"
          ]
        },
        {
          "output_type": "stream",
          "name": "stderr",
          "text": [
            "WARNING:tensorflow:Can save best model only with val_loss available, skipping.\n"
          ]
        },
        {
          "output_type": "stream",
          "name": "stdout",
          "text": [
            "\b\b\b\b\b\b\b\b\b\b\b\b\b\b\b\b\b\b\b\b\b\b\b\b\b\b\b\b\b\b\b\b\b\b\b\b\b\b\b\b\b\b\b\b\b\b\b\b\b\b\b\b\b\b\b\b\b\b\b\b\b\b\b\b\b\b\b\b\b\b\b\b\b\b\b\b\b\b\b\b\b\b\b\b\b\b\b\b\b\b\b\b\b\b\b\r6/6 [==============================] - 0s 23ms/step - loss: 1.5138 - root_mean_squared_error: 1.2304\n",
            "Epoch 50/100\n",
            "4/6 [===================>..........] - ETA: 0s - loss: 0.6710 - root_mean_squared_error: 0.8192"
          ]
        },
        {
          "output_type": "stream",
          "name": "stderr",
          "text": [
            "WARNING:tensorflow:Can save best model only with val_loss available, skipping.\n"
          ]
        },
        {
          "output_type": "stream",
          "name": "stdout",
          "text": [
            "\b\b\b\b\b\b\b\b\b\b\b\b\b\b\b\b\b\b\b\b\b\b\b\b\b\b\b\b\b\b\b\b\b\b\b\b\b\b\b\b\b\b\b\b\b\b\b\b\b\b\b\b\b\b\b\b\b\b\b\b\b\b\b\b\b\b\b\b\b\b\b\b\b\b\b\b\b\b\b\b\b\b\b\b\b\b\b\b\b\b\b\b\b\b\b\r6/6 [==============================] - 0s 20ms/step - loss: 0.7937 - root_mean_squared_error: 0.8909\n",
            "Epoch 51/100\n",
            "4/6 [===================>..........] - ETA: 0s - loss: 0.7140 - root_mean_squared_error: 0.8450"
          ]
        },
        {
          "output_type": "stream",
          "name": "stderr",
          "text": [
            "WARNING:tensorflow:Can save best model only with val_loss available, skipping.\n"
          ]
        },
        {
          "output_type": "stream",
          "name": "stdout",
          "text": [
            "\b\b\b\b\b\b\b\b\b\b\b\b\b\b\b\b\b\b\b\b\b\b\b\b\b\b\b\b\b\b\b\b\b\b\b\b\b\b\b\b\b\b\b\b\b\b\b\b\b\b\b\b\b\b\b\b\b\b\b\b\b\b\b\b\b\b\b\b\b\b\b\b\b\b\b\b\b\b\b\b\b\b\b\b\b\b\b\b\b\b\b\b\b\b\b\r6/6 [==============================] - 0s 21ms/step - loss: 0.8587 - root_mean_squared_error: 0.9267\n",
            "Epoch 52/100\n",
            "6/6 [==============================] - ETA: 0s - loss: 0.9108 - root_mean_squared_error: 0.9543"
          ]
        },
        {
          "output_type": "stream",
          "name": "stderr",
          "text": [
            "WARNING:tensorflow:Can save best model only with val_loss available, skipping.\n"
          ]
        },
        {
          "output_type": "stream",
          "name": "stdout",
          "text": [
            "\b\b\b\b\b\b\b\b\b\b\b\b\b\b\b\b\b\b\b\b\b\b\b\b\b\b\b\b\b\b\b\b\b\b\b\b\b\b\b\b\b\b\b\b\b\b\b\b\b\b\b\b\b\b\b\b\b\b\b\b\b\b\b\b\b\b\b\b\b\b\b\b\b\b\b\b\b\b\b\b\b\b\b\b\b\b\b\b\b\b\b\b\b\b\b\r6/6 [==============================] - 0s 28ms/step - loss: 0.9108 - root_mean_squared_error: 0.9543\n",
            "Epoch 53/100\n",
            "4/6 [===================>..........] - ETA: 0s - loss: 0.9831 - root_mean_squared_error: 0.9915"
          ]
        },
        {
          "output_type": "stream",
          "name": "stderr",
          "text": [
            "WARNING:tensorflow:Can save best model only with val_loss available, skipping.\n"
          ]
        },
        {
          "output_type": "stream",
          "name": "stdout",
          "text": [
            "\b\b\b\b\b\b\b\b\b\b\b\b\b\b\b\b\b\b\b\b\b\b\b\b\b\b\b\b\b\b\b\b\b\b\b\b\b\b\b\b\b\b\b\b\b\b\b\b\b\b\b\b\b\b\b\b\b\b\b\b\b\b\b\b\b\b\b\b\b\b\b\b\b\b\b\b\b\b\b\b\b\b\b\b\b\b\b\b\b\b\b\b\b\b\b\r6/6 [==============================] - 0s 21ms/step - loss: 0.8612 - root_mean_squared_error: 0.9280\n",
            "Epoch 54/100\n",
            "4/6 [===================>..........] - ETA: 0s - loss: 0.4978 - root_mean_squared_error: 0.7056"
          ]
        },
        {
          "output_type": "stream",
          "name": "stderr",
          "text": [
            "WARNING:tensorflow:Can save best model only with val_loss available, skipping.\n"
          ]
        },
        {
          "output_type": "stream",
          "name": "stdout",
          "text": [
            "\b\b\b\b\b\b\b\b\b\b\b\b\b\b\b\b\b\b\b\b\b\b\b\b\b\b\b\b\b\b\b\b\b\b\b\b\b\b\b\b\b\b\b\b\b\b\b\b\b\b\b\b\b\b\b\b\b\b\b\b\b\b\b\b\b\b\b\b\b\b\b\b\b\b\b\b\b\b\b\b\b\b\b\b\b\b\b\b\b\b\b\b\b\b\b\r6/6 [==============================] - 0s 21ms/step - loss: 0.5282 - root_mean_squared_error: 0.7268\n",
            "Epoch 55/100\n",
            "4/6 [===================>..........] - ETA: 0s - loss: 0.4663 - root_mean_squared_error: 0.6829"
          ]
        },
        {
          "output_type": "stream",
          "name": "stderr",
          "text": [
            "WARNING:tensorflow:Can save best model only with val_loss available, skipping.\n"
          ]
        },
        {
          "output_type": "stream",
          "name": "stdout",
          "text": [
            "\b\b\b\b\b\b\b\b\b\b\b\b\b\b\b\b\b\b\b\b\b\b\b\b\b\b\b\b\b\b\b\b\b\b\b\b\b\b\b\b\b\b\b\b\b\b\b\b\b\b\b\b\b\b\b\b\b\b\b\b\b\b\b\b\b\b\b\b\b\b\b\b\b\b\b\b\b\b\b\b\b\b\b\b\b\b\b\b\b\b\b\b\b\b\b\r6/6 [==============================] - 0s 21ms/step - loss: 0.4450 - root_mean_squared_error: 0.6671\n",
            "Epoch 56/100\n",
            "4/6 [===================>..........] - ETA: 0s - loss: 0.7305 - root_mean_squared_error: 0.8547"
          ]
        },
        {
          "output_type": "stream",
          "name": "stderr",
          "text": [
            "WARNING:tensorflow:Can save best model only with val_loss available, skipping.\n"
          ]
        },
        {
          "output_type": "stream",
          "name": "stdout",
          "text": [
            "\b\b\b\b\b\b\b\b\b\b\b\b\b\b\b\b\b\b\b\b\b\b\b\b\b\b\b\b\b\b\b\b\b\b\b\b\b\b\b\b\b\b\b\b\b\b\b\b\b\b\b\b\b\b\b\b\b\b\b\b\b\b\b\b\b\b\b\b\b\b\b\b\b\b\b\b\b\b\b\b\b\b\b\b\b\b\b\b\b\b\b\b\b\b\b\r6/6 [==============================] - 0s 22ms/step - loss: 0.6624 - root_mean_squared_error: 0.8139\n",
            "Epoch 57/100\n",
            "4/6 [===================>..........] - ETA: 0s - loss: 0.5350 - root_mean_squared_error: 0.7314"
          ]
        },
        {
          "output_type": "stream",
          "name": "stderr",
          "text": [
            "WARNING:tensorflow:Can save best model only with val_loss available, skipping.\n"
          ]
        },
        {
          "output_type": "stream",
          "name": "stdout",
          "text": [
            "\b\b\b\b\b\b\b\b\b\b\b\b\b\b\b\b\b\b\b\b\b\b\b\b\b\b\b\b\b\b\b\b\b\b\b\b\b\b\b\b\b\b\b\b\b\b\b\b\b\b\b\b\b\b\b\b\b\b\b\b\b\b\b\b\b\b\b\b\b\b\b\b\b\b\b\b\b\b\b\b\b\b\b\b\b\b\b\b\b\b\b\b\b\b\b\r6/6 [==============================] - 0s 21ms/step - loss: 0.5091 - root_mean_squared_error: 0.7135\n",
            "Epoch 58/100\n",
            "4/6 [===================>..........] - ETA: 0s - loss: 0.6607 - root_mean_squared_error: 0.8128"
          ]
        },
        {
          "output_type": "stream",
          "name": "stderr",
          "text": [
            "WARNING:tensorflow:Can save best model only with val_loss available, skipping.\n"
          ]
        },
        {
          "output_type": "stream",
          "name": "stdout",
          "text": [
            "\b\b\b\b\b\b\b\b\b\b\b\b\b\b\b\b\b\b\b\b\b\b\b\b\b\b\b\b\b\b\b\b\b\b\b\b\b\b\b\b\b\b\b\b\b\b\b\b\b\b\b\b\b\b\b\b\b\b\b\b\b\b\b\b\b\b\b\b\b\b\b\b\b\b\b\b\b\b\b\b\b\b\b\b\b\b\b\b\b\b\b\b\b\b\b\r6/6 [==============================] - 0s 19ms/step - loss: 0.6663 - root_mean_squared_error: 0.8163\n",
            "Epoch 59/100\n",
            "6/6 [==============================] - ETA: 0s - loss: 0.5168 - root_mean_squared_error: 0.7189"
          ]
        },
        {
          "output_type": "stream",
          "name": "stderr",
          "text": [
            "WARNING:tensorflow:Can save best model only with val_loss available, skipping.\n"
          ]
        },
        {
          "output_type": "stream",
          "name": "stdout",
          "text": [
            "\b\b\b\b\b\b\b\b\b\b\b\b\b\b\b\b\b\b\b\b\b\b\b\b\b\b\b\b\b\b\b\b\b\b\b\b\b\b\b\b\b\b\b\b\b\b\b\b\b\b\b\b\b\b\b\b\b\b\b\b\b\b\b\b\b\b\b\b\b\b\b\b\b\b\b\b\b\b\b\b\b\b\b\b\b\b\b\b\b\b\b\b\b\b\b\r6/6 [==============================] - 0s 23ms/step - loss: 0.5168 - root_mean_squared_error: 0.7189\n",
            "Epoch 60/100\n",
            "4/6 [===================>..........] - ETA: 0s - loss: 0.3666 - root_mean_squared_error: 0.6054"
          ]
        },
        {
          "output_type": "stream",
          "name": "stderr",
          "text": [
            "WARNING:tensorflow:Can save best model only with val_loss available, skipping.\n"
          ]
        },
        {
          "output_type": "stream",
          "name": "stdout",
          "text": [
            "\b\b\b\b\b\b\b\b\b\b\b\b\b\b\b\b\b\b\b\b\b\b\b\b\b\b\b\b\b\b\b\b\b\b\b\b\b\b\b\b\b\b\b\b\b\b\b\b\b\b\b\b\b\b\b\b\b\b\b\b\b\b\b\b\b\b\b\b\b\b\b\b\b\b\b\b\b\b\b\b\b\b\b\b\b\b\b\b\b\b\b\b\b\b\b\r6/6 [==============================] - 0s 22ms/step - loss: 0.3773 - root_mean_squared_error: 0.6142\n",
            "Epoch 61/100\n",
            "4/6 [===================>..........] - ETA: 0s - loss: 0.3606 - root_mean_squared_error: 0.6005"
          ]
        },
        {
          "output_type": "stream",
          "name": "stderr",
          "text": [
            "WARNING:tensorflow:Can save best model only with val_loss available, skipping.\n"
          ]
        },
        {
          "output_type": "stream",
          "name": "stdout",
          "text": [
            "\b\b\b\b\b\b\b\b\b\b\b\b\b\b\b\b\b\b\b\b\b\b\b\b\b\b\b\b\b\b\b\b\b\b\b\b\b\b\b\b\b\b\b\b\b\b\b\b\b\b\b\b\b\b\b\b\b\b\b\b\b\b\b\b\b\b\b\b\b\b\b\b\b\b\b\b\b\b\b\b\b\b\b\b\b\b\b\b\b\b\b\b\b\b\b\r6/6 [==============================] - 0s 21ms/step - loss: 0.4636 - root_mean_squared_error: 0.6809\n",
            "Epoch 62/100\n",
            "4/6 [===================>..........] - ETA: 0s - loss: 0.6117 - root_mean_squared_error: 0.7821"
          ]
        },
        {
          "output_type": "stream",
          "name": "stderr",
          "text": [
            "WARNING:tensorflow:Can save best model only with val_loss available, skipping.\n"
          ]
        },
        {
          "output_type": "stream",
          "name": "stdout",
          "text": [
            "\b\b\b\b\b\b\b\b\b\b\b\b\b\b\b\b\b\b\b\b\b\b\b\b\b\b\b\b\b\b\b\b\b\b\b\b\b\b\b\b\b\b\b\b\b\b\b\b\b\b\b\b\b\b\b\b\b\b\b\b\b\b\b\b\b\b\b\b\b\b\b\b\b\b\b\b\b\b\b\b\b\b\b\b\b\b\b\b\b\b\b\b\b\b\b\r6/6 [==============================] - 0s 22ms/step - loss: 0.7651 - root_mean_squared_error: 0.8747\n",
            "Epoch 63/100\n",
            "6/6 [==============================] - ETA: 0s - loss: 0.7222 - root_mean_squared_error: 0.8498"
          ]
        },
        {
          "output_type": "stream",
          "name": "stderr",
          "text": [
            "WARNING:tensorflow:Can save best model only with val_loss available, skipping.\n"
          ]
        },
        {
          "output_type": "stream",
          "name": "stdout",
          "text": [
            "\b\b\b\b\b\b\b\b\b\b\b\b\b\b\b\b\b\b\b\b\b\b\b\b\b\b\b\b\b\b\b\b\b\b\b\b\b\b\b\b\b\b\b\b\b\b\b\b\b\b\b\b\b\b\b\b\b\b\b\b\b\b\b\b\b\b\b\b\b\b\b\b\b\b\b\b\b\b\b\b\b\b\b\b\b\b\b\b\b\b\b\b\b\b\b\r6/6 [==============================] - 0s 14ms/step - loss: 0.7222 - root_mean_squared_error: 0.8498\n",
            "Epoch 64/100\n",
            "6/6 [==============================] - ETA: 0s - loss: 0.5194 - root_mean_squared_error: 0.7207"
          ]
        },
        {
          "output_type": "stream",
          "name": "stderr",
          "text": [
            "WARNING:tensorflow:Can save best model only with val_loss available, skipping.\n"
          ]
        },
        {
          "output_type": "stream",
          "name": "stdout",
          "text": [
            "\b\b\b\b\b\b\b\b\b\b\b\b\b\b\b\b\b\b\b\b\b\b\b\b\b\b\b\b\b\b\b\b\b\b\b\b\b\b\b\b\b\b\b\b\b\b\b\b\b\b\b\b\b\b\b\b\b\b\b\b\b\b\b\b\b\b\b\b\b\b\b\b\b\b\b\b\b\b\b\b\b\b\b\b\b\b\b\b\b\b\b\b\b\b\b\r6/6 [==============================] - 0s 13ms/step - loss: 0.5194 - root_mean_squared_error: 0.7207\n",
            "Epoch 65/100\n",
            "5/6 [========================>.....] - ETA: 0s - loss: 0.4819 - root_mean_squared_error: 0.6942"
          ]
        },
        {
          "output_type": "stream",
          "name": "stderr",
          "text": [
            "WARNING:tensorflow:Can save best model only with val_loss available, skipping.\n"
          ]
        },
        {
          "output_type": "stream",
          "name": "stdout",
          "text": [
            "\b\b\b\b\b\b\b\b\b\b\b\b\b\b\b\b\b\b\b\b\b\b\b\b\b\b\b\b\b\b\b\b\b\b\b\b\b\b\b\b\b\b\b\b\b\b\b\b\b\b\b\b\b\b\b\b\b\b\b\b\b\b\b\b\b\b\b\b\b\b\b\b\b\b\b\b\b\b\b\b\b\b\b\b\b\b\b\b\b\b\b\b\b\b\b\r6/6 [==============================] - 0s 15ms/step - loss: 0.4901 - root_mean_squared_error: 0.7000\n",
            "Epoch 66/100\n",
            "6/6 [==============================] - ETA: 0s - loss: 0.5705 - root_mean_squared_error: 0.7553"
          ]
        },
        {
          "output_type": "stream",
          "name": "stderr",
          "text": [
            "WARNING:tensorflow:Can save best model only with val_loss available, skipping.\n"
          ]
        },
        {
          "output_type": "stream",
          "name": "stdout",
          "text": [
            "\b\b\b\b\b\b\b\b\b\b\b\b\b\b\b\b\b\b\b\b\b\b\b\b\b\b\b\b\b\b\b\b\b\b\b\b\b\b\b\b\b\b\b\b\b\b\b\b\b\b\b\b\b\b\b\b\b\b\b\b\b\b\b\b\b\b\b\b\b\b\b\b\b\b\b\b\b\b\b\b\b\b\b\b\b\b\b\b\b\b\b\b\b\b\b\r6/6 [==============================] - 0s 13ms/step - loss: 0.5705 - root_mean_squared_error: 0.7553\n",
            "Epoch 67/100\n",
            "5/6 [========================>.....] - ETA: 0s - loss: 0.4805 - root_mean_squared_error: 0.6932"
          ]
        },
        {
          "output_type": "stream",
          "name": "stderr",
          "text": [
            "WARNING:tensorflow:Can save best model only with val_loss available, skipping.\n"
          ]
        },
        {
          "output_type": "stream",
          "name": "stdout",
          "text": [
            "\b\b\b\b\b\b\b\b\b\b\b\b\b\b\b\b\b\b\b\b\b\b\b\b\b\b\b\b\b\b\b\b\b\b\b\b\b\b\b\b\b\b\b\b\b\b\b\b\b\b\b\b\b\b\b\b\b\b\b\b\b\b\b\b\b\b\b\b\b\b\b\b\b\b\b\b\b\b\b\b\b\b\b\b\b\b\b\b\b\b\b\b\b\b\b\r6/6 [==============================] - 0s 16ms/step - loss: 0.4750 - root_mean_squared_error: 0.6892\n",
            "Epoch 68/100\n",
            "5/6 [========================>.....] - ETA: 0s - loss: 0.3586 - root_mean_squared_error: 0.5988"
          ]
        },
        {
          "output_type": "stream",
          "name": "stderr",
          "text": [
            "WARNING:tensorflow:Can save best model only with val_loss available, skipping.\n"
          ]
        },
        {
          "output_type": "stream",
          "name": "stdout",
          "text": [
            "\b\b\b\b\b\b\b\b\b\b\b\b\b\b\b\b\b\b\b\b\b\b\b\b\b\b\b\b\b\b\b\b\b\b\b\b\b\b\b\b\b\b\b\b\b\b\b\b\b\b\b\b\b\b\b\b\b\b\b\b\b\b\b\b\b\b\b\b\b\b\b\b\b\b\b\b\b\b\b\b\b\b\b\b\b\b\b\b\b\b\b\b\b\b\b\r6/6 [==============================] - 0s 14ms/step - loss: 0.3547 - root_mean_squared_error: 0.5956\n",
            "Epoch 69/100\n",
            "5/6 [========================>.....] - ETA: 0s - loss: 0.3548 - root_mean_squared_error: 0.5957"
          ]
        },
        {
          "output_type": "stream",
          "name": "stderr",
          "text": [
            "WARNING:tensorflow:Can save best model only with val_loss available, skipping.\n"
          ]
        },
        {
          "output_type": "stream",
          "name": "stdout",
          "text": [
            "\b\b\b\b\b\b\b\b\b\b\b\b\b\b\b\b\b\b\b\b\b\b\b\b\b\b\b\b\b\b\b\b\b\b\b\b\b\b\b\b\b\b\b\b\b\b\b\b\b\b\b\b\b\b\b\b\b\b\b\b\b\b\b\b\b\b\b\b\b\b\b\b\b\b\b\b\b\b\b\b\b\b\b\b\b\b\b\b\b\b\b\b\b\b\b\r6/6 [==============================] - 0s 15ms/step - loss: 0.3505 - root_mean_squared_error: 0.5920\n",
            "Epoch 70/100\n",
            "5/6 [========================>.....] - ETA: 0s - loss: 0.3489 - root_mean_squared_error: 0.5907"
          ]
        },
        {
          "output_type": "stream",
          "name": "stderr",
          "text": [
            "WARNING:tensorflow:Can save best model only with val_loss available, skipping.\n"
          ]
        },
        {
          "output_type": "stream",
          "name": "stdout",
          "text": [
            "\b\b\b\b\b\b\b\b\b\b\b\b\b\b\b\b\b\b\b\b\b\b\b\b\b\b\b\b\b\b\b\b\b\b\b\b\b\b\b\b\b\b\b\b\b\b\b\b\b\b\b\b\b\b\b\b\b\b\b\b\b\b\b\b\b\b\b\b\b\b\b\b\b\b\b\b\b\b\b\b\b\b\b\b\b\b\b\b\b\b\b\b\b\b\b\r6/6 [==============================] - 0s 15ms/step - loss: 0.3439 - root_mean_squared_error: 0.5864\n",
            "Epoch 71/100\n",
            "5/6 [========================>.....] - ETA: 0s - loss: 0.4893 - root_mean_squared_error: 0.6995"
          ]
        },
        {
          "output_type": "stream",
          "name": "stderr",
          "text": [
            "WARNING:tensorflow:Can save best model only with val_loss available, skipping.\n"
          ]
        },
        {
          "output_type": "stream",
          "name": "stdout",
          "text": [
            "\b\b\b\b\b\b\b\b\b\b\b\b\b\b\b\b\b\b\b\b\b\b\b\b\b\b\b\b\b\b\b\b\b\b\b\b\b\b\b\b\b\b\b\b\b\b\b\b\b\b\b\b\b\b\b\b\b\b\b\b\b\b\b\b\b\b\b\b\b\b\b\b\b\b\b\b\b\b\b\b\b\b\b\b\b\b\b\b\b\b\b\b\b\b\b\r6/6 [==============================] - 0s 17ms/step - loss: 0.4840 - root_mean_squared_error: 0.6957\n",
            "Epoch 72/100\n",
            "5/6 [========================>.....] - ETA: 0s - loss: 0.6402 - root_mean_squared_error: 0.8001"
          ]
        },
        {
          "output_type": "stream",
          "name": "stderr",
          "text": [
            "WARNING:tensorflow:Can save best model only with val_loss available, skipping.\n"
          ]
        },
        {
          "output_type": "stream",
          "name": "stdout",
          "text": [
            "\b\b\b\b\b\b\b\b\b\b\b\b\b\b\b\b\b\b\b\b\b\b\b\b\b\b\b\b\b\b\b\b\b\b\b\b\b\b\b\b\b\b\b\b\b\b\b\b\b\b\b\b\b\b\b\b\b\b\b\b\b\b\b\b\b\b\b\b\b\b\b\b\b\b\b\b\b\b\b\b\b\b\b\b\b\b\b\b\b\b\b\b\b\b\b\r6/6 [==============================] - 0s 15ms/step - loss: 0.6313 - root_mean_squared_error: 0.7946\n",
            "Epoch 73/100\n",
            "5/6 [========================>.....] - ETA: 0s - loss: 0.5529 - root_mean_squared_error: 0.7435"
          ]
        },
        {
          "output_type": "stream",
          "name": "stderr",
          "text": [
            "WARNING:tensorflow:Can save best model only with val_loss available, skipping.\n"
          ]
        },
        {
          "output_type": "stream",
          "name": "stdout",
          "text": [
            "\b\b\b\b\b\b\b\b\b\b\b\b\b\b\b\b\b\b\b\b\b\b\b\b\b\b\b\b\b\b\b\b\b\b\b\b\b\b\b\b\b\b\b\b\b\b\b\b\b\b\b\b\b\b\b\b\b\b\b\b\b\b\b\b\b\b\b\b\b\b\b\b\b\b\b\b\b\b\b\b\b\b\b\b\b\b\b\b\b\b\b\b\b\b\b\r6/6 [==============================] - 0s 15ms/step - loss: 0.5444 - root_mean_squared_error: 0.7378\n",
            "Epoch 74/100\n",
            "5/6 [========================>.....] - ETA: 0s - loss: 0.3121 - root_mean_squared_error: 0.5587"
          ]
        },
        {
          "output_type": "stream",
          "name": "stderr",
          "text": [
            "WARNING:tensorflow:Can save best model only with val_loss available, skipping.\n"
          ]
        },
        {
          "output_type": "stream",
          "name": "stdout",
          "text": [
            "\b\b\b\b\b\b\b\b\b\b\b\b\b\b\b\b\b\b\b\b\b\b\b\b\b\b\b\b\b\b\b\b\b\b\b\b\b\b\b\b\b\b\b\b\b\b\b\b\b\b\b\b\b\b\b\b\b\b\b\b\b\b\b\b\b\b\b\b\b\b\b\b\b\b\b\b\b\b\b\b\b\b\b\b\b\b\b\b\b\b\b\b\b\b\b\r6/6 [==============================] - 0s 14ms/step - loss: 0.3069 - root_mean_squared_error: 0.5540\n",
            "Epoch 75/100\n",
            "5/6 [========================>.....] - ETA: 0s - loss: 0.5160 - root_mean_squared_error: 0.7183"
          ]
        },
        {
          "output_type": "stream",
          "name": "stderr",
          "text": [
            "WARNING:tensorflow:Can save best model only with val_loss available, skipping.\n"
          ]
        },
        {
          "output_type": "stream",
          "name": "stdout",
          "text": [
            "\b\b\b\b\b\b\b\b\b\b\b\b\b\b\b\b\b\b\b\b\b\b\b\b\b\b\b\b\b\b\b\b\b\b\b\b\b\b\b\b\b\b\b\b\b\b\b\b\b\b\b\b\b\b\b\b\b\b\b\b\b\b\b\b\b\b\b\b\b\b\b\b\b\b\b\b\b\b\b\b\b\b\b\b\b\b\b\b\b\b\b\b\b\b\b\r6/6 [==============================] - 0s 15ms/step - loss: 0.5113 - root_mean_squared_error: 0.7151\n",
            "Epoch 76/100\n",
            "6/6 [==============================] - ETA: 0s - loss: 0.4572 - root_mean_squared_error: 0.6762"
          ]
        },
        {
          "output_type": "stream",
          "name": "stderr",
          "text": [
            "WARNING:tensorflow:Can save best model only with val_loss available, skipping.\n"
          ]
        },
        {
          "output_type": "stream",
          "name": "stdout",
          "text": [
            "\b\b\b\b\b\b\b\b\b\b\b\b\b\b\b\b\b\b\b\b\b\b\b\b\b\b\b\b\b\b\b\b\b\b\b\b\b\b\b\b\b\b\b\b\b\b\b\b\b\b\b\b\b\b\b\b\b\b\b\b\b\b\b\b\b\b\b\b\b\b\b\b\b\b\b\b\b\b\b\b\b\b\b\b\b\b\b\b\b\b\b\b\b\b\b\r6/6 [==============================] - 0s 13ms/step - loss: 0.4572 - root_mean_squared_error: 0.6762\n",
            "Epoch 77/100\n",
            "5/6 [========================>.....] - ETA: 0s - loss: 0.3298 - root_mean_squared_error: 0.5742"
          ]
        },
        {
          "output_type": "stream",
          "name": "stderr",
          "text": [
            "WARNING:tensorflow:Can save best model only with val_loss available, skipping.\n"
          ]
        },
        {
          "output_type": "stream",
          "name": "stdout",
          "text": [
            "\b\b\b\b\b\b\b\b\b\b\b\b\b\b\b\b\b\b\b\b\b\b\b\b\b\b\b\b\b\b\b\b\b\b\b\b\b\b\b\b\b\b\b\b\b\b\b\b\b\b\b\b\b\b\b\b\b\b\b\b\b\b\b\b\b\b\b\b\b\b\b\b\b\b\b\b\b\b\b\b\b\b\b\b\b\b\b\b\b\b\b\b\b\b\b\r6/6 [==============================] - 0s 15ms/step - loss: 0.3237 - root_mean_squared_error: 0.5690\n",
            "Epoch 78/100\n",
            "5/6 [========================>.....] - ETA: 0s - loss: 0.2900 - root_mean_squared_error: 0.5385"
          ]
        },
        {
          "output_type": "stream",
          "name": "stderr",
          "text": [
            "WARNING:tensorflow:Can save best model only with val_loss available, skipping.\n"
          ]
        },
        {
          "output_type": "stream",
          "name": "stdout",
          "text": [
            "\b\b\b\b\b\b\b\b\b\b\b\b\b\b\b\b\b\b\b\b\b\b\b\b\b\b\b\b\b\b\b\b\b\b\b\b\b\b\b\b\b\b\b\b\b\b\b\b\b\b\b\b\b\b\b\b\b\b\b\b\b\b\b\b\b\b\b\b\b\b\b\b\b\b\b\b\b\b\b\b\b\b\b\b\b\b\b\b\b\b\b\b\b\b\b\r6/6 [==============================] - 0s 15ms/step - loss: 0.3193 - root_mean_squared_error: 0.5651\n",
            "Epoch 79/100\n",
            "5/6 [========================>.....] - ETA: 0s - loss: 1.0511 - root_mean_squared_error: 1.0252"
          ]
        },
        {
          "output_type": "stream",
          "name": "stderr",
          "text": [
            "WARNING:tensorflow:Can save best model only with val_loss available, skipping.\n"
          ]
        },
        {
          "output_type": "stream",
          "name": "stdout",
          "text": [
            "\b\b\b\b\b\b\b\b\b\b\b\b\b\b\b\b\b\b\b\b\b\b\b\b\b\b\b\b\b\b\b\b\b\b\b\b\b\b\b\b\b\b\b\b\b\b\b\b\b\b\b\b\b\b\b\b\b\b\b\b\b\b\b\b\b\b\b\b\b\b\b\b\b\b\b\b\b\b\b\b\b\b\b\b\b\b\b\b\b\b\b\b\b\b\b\r6/6 [==============================] - 0s 14ms/step - loss: 1.0381 - root_mean_squared_error: 1.0188\n",
            "Epoch 80/100\n",
            "5/6 [========================>.....] - ETA: 0s - loss: 1.0259 - root_mean_squared_error: 1.0129"
          ]
        },
        {
          "output_type": "stream",
          "name": "stderr",
          "text": [
            "WARNING:tensorflow:Can save best model only with val_loss available, skipping.\n"
          ]
        },
        {
          "output_type": "stream",
          "name": "stdout",
          "text": [
            "\b\b\b\b\b\b\b\b\b\b\b\b\b\b\b\b\b\b\b\b\b\b\b\b\b\b\b\b\b\b\b\b\b\b\b\b\b\b\b\b\b\b\b\b\b\b\b\b\b\b\b\b\b\b\b\b\b\b\b\b\b\b\b\b\b\b\b\b\b\b\b\b\b\b\b\b\b\b\b\b\b\b\b\b\b\b\b\b\b\b\b\b\b\b\b\r6/6 [==============================] - 0s 15ms/step - loss: 1.0255 - root_mean_squared_error: 1.0127\n",
            "Epoch 81/100\n",
            "5/6 [========================>.....] - ETA: 0s - loss: 1.2255 - root_mean_squared_error: 1.1070"
          ]
        },
        {
          "output_type": "stream",
          "name": "stderr",
          "text": [
            "WARNING:tensorflow:Can save best model only with val_loss available, skipping.\n"
          ]
        },
        {
          "output_type": "stream",
          "name": "stdout",
          "text": [
            "\b\b\b\b\b\b\b\b\b\b\b\b\b\b\b\b\b\b\b\b\b\b\b\b\b\b\b\b\b\b\b\b\b\b\b\b\b\b\b\b\b\b\b\b\b\b\b\b\b\b\b\b\b\b\b\b\b\b\b\b\b\b\b\b\b\b\b\b\b\b\b\b\b\b\b\b\b\b\b\b\b\b\b\b\b\b\b\b\b\b\b\b\b\b\b\r6/6 [==============================] - 0s 15ms/step - loss: 1.2156 - root_mean_squared_error: 1.1025\n",
            "Epoch 82/100\n",
            "5/6 [========================>.....] - ETA: 0s - loss: 0.6328 - root_mean_squared_error: 0.7955"
          ]
        },
        {
          "output_type": "stream",
          "name": "stderr",
          "text": [
            "WARNING:tensorflow:Can save best model only with val_loss available, skipping.\n"
          ]
        },
        {
          "output_type": "stream",
          "name": "stdout",
          "text": [
            "\b\b\b\b\b\b\b\b\b\b\b\b\b\b\b\b\b\b\b\b\b\b\b\b\b\b\b\b\b\b\b\b\b\b\b\b\b\b\b\b\b\b\b\b\b\b\b\b\b\b\b\b\b\b\b\b\b\b\b\b\b\b\b\b\b\b\b\b\b\b\b\b\b\b\b\b\b\b\b\b\b\b\b\b\b\b\b\b\b\b\b\b\b\b\b\r6/6 [==============================] - 0s 15ms/step - loss: 0.6541 - root_mean_squared_error: 0.8088\n",
            "Epoch 83/100\n",
            "6/6 [==============================] - ETA: 0s - loss: 0.7851 - root_mean_squared_error: 0.8861"
          ]
        },
        {
          "output_type": "stream",
          "name": "stderr",
          "text": [
            "WARNING:tensorflow:Can save best model only with val_loss available, skipping.\n"
          ]
        },
        {
          "output_type": "stream",
          "name": "stdout",
          "text": [
            "\b\b\b\b\b\b\b\b\b\b\b\b\b\b\b\b\b\b\b\b\b\b\b\b\b\b\b\b\b\b\b\b\b\b\b\b\b\b\b\b\b\b\b\b\b\b\b\b\b\b\b\b\b\b\b\b\b\b\b\b\b\b\b\b\b\b\b\b\b\b\b\b\b\b\b\b\b\b\b\b\b\b\b\b\b\b\b\b\b\b\b\b\b\b\b\r6/6 [==============================] - 0s 13ms/step - loss: 0.7851 - root_mean_squared_error: 0.8861\n",
            "Epoch 84/100\n",
            "6/6 [==============================] - ETA: 0s - loss: 0.4852 - root_mean_squared_error: 0.6965"
          ]
        },
        {
          "output_type": "stream",
          "name": "stderr",
          "text": [
            "WARNING:tensorflow:Can save best model only with val_loss available, skipping.\n"
          ]
        },
        {
          "output_type": "stream",
          "name": "stdout",
          "text": [
            "\b\b\b\b\b\b\b\b\b\b\b\b\b\b\b\b\b\b\b\b\b\b\b\b\b\b\b\b\b\b\b\b\b\b\b\b\b\b\b\b\b\b\b\b\b\b\b\b\b\b\b\b\b\b\b\b\b\b\b\b\b\b\b\b\b\b\b\b\b\b\b\b\b\b\b\b\b\b\b\b\b\b\b\b\b\b\b\b\b\b\b\b\b\b\b\r6/6 [==============================] - 0s 13ms/step - loss: 0.4852 - root_mean_squared_error: 0.6965\n",
            "Epoch 85/100\n",
            "5/6 [========================>.....] - ETA: 0s - loss: 0.4294 - root_mean_squared_error: 0.6553"
          ]
        },
        {
          "output_type": "stream",
          "name": "stderr",
          "text": [
            "WARNING:tensorflow:Can save best model only with val_loss available, skipping.\n"
          ]
        },
        {
          "output_type": "stream",
          "name": "stdout",
          "text": [
            "\b\b\b\b\b\b\b\b\b\b\b\b\b\b\b\b\b\b\b\b\b\b\b\b\b\b\b\b\b\b\b\b\b\b\b\b\b\b\b\b\b\b\b\b\b\b\b\b\b\b\b\b\b\b\b\b\b\b\b\b\b\b\b\b\b\b\b\b\b\b\b\b\b\b\b\b\b\b\b\b\b\b\b\b\b\b\b\b\b\b\b\b\b\b\b\r6/6 [==============================] - 0s 14ms/step - loss: 0.4317 - root_mean_squared_error: 0.6570\n",
            "Epoch 86/100\n",
            "6/6 [==============================] - ETA: 0s - loss: 0.6175 - root_mean_squared_error: 0.7858"
          ]
        },
        {
          "output_type": "stream",
          "name": "stderr",
          "text": [
            "WARNING:tensorflow:Can save best model only with val_loss available, skipping.\n"
          ]
        },
        {
          "output_type": "stream",
          "name": "stdout",
          "text": [
            "\b\b\b\b\b\b\b\b\b\b\b\b\b\b\b\b\b\b\b\b\b\b\b\b\b\b\b\b\b\b\b\b\b\b\b\b\b\b\b\b\b\b\b\b\b\b\b\b\b\b\b\b\b\b\b\b\b\b\b\b\b\b\b\b\b\b\b\b\b\b\b\b\b\b\b\b\b\b\b\b\b\b\b\b\b\b\b\b\b\b\b\b\b\b\b\r6/6 [==============================] - 0s 13ms/step - loss: 0.6175 - root_mean_squared_error: 0.7858\n",
            "Epoch 87/100\n",
            "5/6 [========================>.....] - ETA: 0s - loss: 0.5778 - root_mean_squared_error: 0.7601"
          ]
        },
        {
          "output_type": "stream",
          "name": "stderr",
          "text": [
            "WARNING:tensorflow:Can save best model only with val_loss available, skipping.\n"
          ]
        },
        {
          "output_type": "stream",
          "name": "stdout",
          "text": [
            "\b\b\b\b\b\b\b\b\b\b\b\b\b\b\b\b\b\b\b\b\b\b\b\b\b\b\b\b\b\b\b\b\b\b\b\b\b\b\b\b\b\b\b\b\b\b\b\b\b\b\b\b\b\b\b\b\b\b\b\b\b\b\b\b\b\b\b\b\b\b\b\b\b\b\b\b\b\b\b\b\b\b\b\b\b\b\b\b\b\b\b\b\b\b\b\r6/6 [==============================] - 0s 17ms/step - loss: 0.5755 - root_mean_squared_error: 0.7586\n",
            "Epoch 88/100\n",
            "5/6 [========================>.....] - ETA: 0s - loss: 0.6263 - root_mean_squared_error: 0.7914"
          ]
        },
        {
          "output_type": "stream",
          "name": "stderr",
          "text": [
            "WARNING:tensorflow:Can save best model only with val_loss available, skipping.\n"
          ]
        },
        {
          "output_type": "stream",
          "name": "stdout",
          "text": [
            "\b\b\b\b\b\b\b\b\b\b\b\b\b\b\b\b\b\b\b\b\b\b\b\b\b\b\b\b\b\b\b\b\b\b\b\b\b\b\b\b\b\b\b\b\b\b\b\b\b\b\b\b\b\b\b\b\b\b\b\b\b\b\b\b\b\b\b\b\b\b\b\b\b\b\b\b\b\b\b\b\b\b\b\b\b\b\b\b\b\b\b\b\b\b\b\r6/6 [==============================] - 0s 15ms/step - loss: 0.6293 - root_mean_squared_error: 0.7933\n",
            "Epoch 89/100\n",
            "5/6 [========================>.....] - ETA: 0s - loss: 0.4327 - root_mean_squared_error: 0.6578"
          ]
        },
        {
          "output_type": "stream",
          "name": "stderr",
          "text": [
            "WARNING:tensorflow:Can save best model only with val_loss available, skipping.\n"
          ]
        },
        {
          "output_type": "stream",
          "name": "stdout",
          "text": [
            "\b\b\b\b\b\b\b\b\b\b\b\b\b\b\b\b\b\b\b\b\b\b\b\b\b\b\b\b\b\b\b\b\b\b\b\b\b\b\b\b\b\b\b\b\b\b\b\b\b\b\b\b\b\b\b\b\b\b\b\b\b\b\b\b\b\b\b\b\b\b\b\b\b\b\b\b\b\b\b\b\b\b\b\b\b\b\b\b\b\b\b\b\b\b\b\r6/6 [==============================] - 0s 15ms/step - loss: 0.4329 - root_mean_squared_error: 0.6580\n",
            "Epoch 90/100\n",
            "5/6 [========================>.....] - ETA: 0s - loss: 0.4431 - root_mean_squared_error: 0.6656"
          ]
        },
        {
          "output_type": "stream",
          "name": "stderr",
          "text": [
            "WARNING:tensorflow:Can save best model only with val_loss available, skipping.\n"
          ]
        },
        {
          "output_type": "stream",
          "name": "stdout",
          "text": [
            "\b\b\b\b\b\b\b\b\b\b\b\b\b\b\b\b\b\b\b\b\b\b\b\b\b\b\b\b\b\b\b\b\b\b\b\b\b\b\b\b\b\b\b\b\b\b\b\b\b\b\b\b\b\b\b\b\b\b\b\b\b\b\b\b\b\b\b\b\b\b\b\b\b\b\b\b\b\b\b\b\b\b\b\b\b\b\b\b\b\b\b\b\b\b\b\r6/6 [==============================] - 0s 14ms/step - loss: 0.4360 - root_mean_squared_error: 0.6603\n",
            "Epoch 91/100\n",
            "5/6 [========================>.....] - ETA: 0s - loss: 0.5022 - root_mean_squared_error: 0.7086"
          ]
        },
        {
          "output_type": "stream",
          "name": "stderr",
          "text": [
            "WARNING:tensorflow:Can save best model only with val_loss available, skipping.\n"
          ]
        },
        {
          "output_type": "stream",
          "name": "stdout",
          "text": [
            "\b\b\b\b\b\b\b\b\b\b\b\b\b\b\b\b\b\b\b\b\b\b\b\b\b\b\b\b\b\b\b\b\b\b\b\b\b\b\b\b\b\b\b\b\b\b\b\b\b\b\b\b\b\b\b\b\b\b\b\b\b\b\b\b\b\b\b\b\b\b\b\b\b\b\b\b\b\b\b\b\b\b\b\b\b\b\b\b\b\b\b\b\b\b\b\r6/6 [==============================] - 0s 15ms/step - loss: 0.4995 - root_mean_squared_error: 0.7067\n",
            "Epoch 92/100\n",
            "5/6 [========================>.....] - ETA: 0s - loss: 0.3947 - root_mean_squared_error: 0.6283"
          ]
        },
        {
          "output_type": "stream",
          "name": "stderr",
          "text": [
            "WARNING:tensorflow:Can save best model only with val_loss available, skipping.\n"
          ]
        },
        {
          "output_type": "stream",
          "name": "stdout",
          "text": [
            "\b\b\b\b\b\b\b\b\b\b\b\b\b\b\b\b\b\b\b\b\b\b\b\b\b\b\b\b\b\b\b\b\b\b\b\b\b\b\b\b\b\b\b\b\b\b\b\b\b\b\b\b\b\b\b\b\b\b\b\b\b\b\b\b\b\b\b\b\b\b\b\b\b\b\b\b\b\b\b\b\b\b\b\b\b\b\b\b\b\b\b\b\b\b\b\r6/6 [==============================] - 0s 14ms/step - loss: 0.3909 - root_mean_squared_error: 0.6252\n",
            "Epoch 93/100\n",
            "5/6 [========================>.....] - ETA: 0s - loss: 0.4433 - root_mean_squared_error: 0.6658"
          ]
        },
        {
          "output_type": "stream",
          "name": "stderr",
          "text": [
            "WARNING:tensorflow:Can save best model only with val_loss available, skipping.\n"
          ]
        },
        {
          "output_type": "stream",
          "name": "stdout",
          "text": [
            "\b\b\b\b\b\b\b\b\b\b\b\b\b\b\b\b\b\b\b\b\b\b\b\b\b\b\b\b\b\b\b\b\b\b\b\b\b\b\b\b\b\b\b\b\b\b\b\b\b\b\b\b\b\b\b\b\b\b\b\b\b\b\b\b\b\b\b\b\b\b\b\b\b\b\b\b\b\b\b\b\b\b\b\b\b\b\b\b\b\b\b\b\b\b\b\r6/6 [==============================] - 0s 15ms/step - loss: 0.4479 - root_mean_squared_error: 0.6692\n",
            "Epoch 94/100\n",
            "6/6 [==============================] - ETA: 0s - loss: 0.3554 - root_mean_squared_error: 0.5961"
          ]
        },
        {
          "output_type": "stream",
          "name": "stderr",
          "text": [
            "WARNING:tensorflow:Can save best model only with val_loss available, skipping.\n"
          ]
        },
        {
          "output_type": "stream",
          "name": "stdout",
          "text": [
            "\b\b\b\b\b\b\b\b\b\b\b\b\b\b\b\b\b\b\b\b\b\b\b\b\b\b\b\b\b\b\b\b\b\b\b\b\b\b\b\b\b\b\b\b\b\b\b\b\b\b\b\b\b\b\b\b\b\b\b\b\b\b\b\b\b\b\b\b\b\b\b\b\b\b\b\b\b\b\b\b\b\b\b\b\b\b\b\b\b\b\b\b\b\b\b\r6/6 [==============================] - 0s 14ms/step - loss: 0.3554 - root_mean_squared_error: 0.5961\n",
            "Epoch 95/100\n",
            "5/6 [========================>.....] - ETA: 0s - loss: 0.3997 - root_mean_squared_error: 0.6322"
          ]
        },
        {
          "output_type": "stream",
          "name": "stderr",
          "text": [
            "WARNING:tensorflow:Can save best model only with val_loss available, skipping.\n"
          ]
        },
        {
          "output_type": "stream",
          "name": "stdout",
          "text": [
            "\b\b\b\b\b\b\b\b\b\b\b\b\b\b\b\b\b\b\b\b\b\b\b\b\b\b\b\b\b\b\b\b\b\b\b\b\b\b\b\b\b\b\b\b\b\b\b\b\b\b\b\b\b\b\b\b\b\b\b\b\b\b\b\b\b\b\b\b\b\b\b\b\b\b\b\b\b\b\b\b\b\b\b\b\b\b\b\b\b\b\b\b\b\b\b\r6/6 [==============================] - 0s 14ms/step - loss: 0.3944 - root_mean_squared_error: 0.6280\n",
            "Epoch 96/100\n",
            "5/6 [========================>.....] - ETA: 0s - loss: 0.3682 - root_mean_squared_error: 0.6068"
          ]
        },
        {
          "output_type": "stream",
          "name": "stderr",
          "text": [
            "WARNING:tensorflow:Can save best model only with val_loss available, skipping.\n"
          ]
        },
        {
          "output_type": "stream",
          "name": "stdout",
          "text": [
            "\b\b\b\b\b\b\b\b\b\b\b\b\b\b\b\b\b\b\b\b\b\b\b\b\b\b\b\b\b\b\b\b\b\b\b\b\b\b\b\b\b\b\b\b\b\b\b\b\b\b\b\b\b\b\b\b\b\b\b\b\b\b\b\b\b\b\b\b\b\b\b\b\b\b\b\b\b\b\b\b\b\b\b\b\b\b\b\b\b\b\b\b\b\b\b\r6/6 [==============================] - 0s 15ms/step - loss: 0.3647 - root_mean_squared_error: 0.6039\n",
            "Epoch 97/100\n",
            "5/6 [========================>.....] - ETA: 0s - loss: 0.3861 - root_mean_squared_error: 0.6214"
          ]
        },
        {
          "output_type": "stream",
          "name": "stderr",
          "text": [
            "WARNING:tensorflow:Can save best model only with val_loss available, skipping.\n"
          ]
        },
        {
          "output_type": "stream",
          "name": "stdout",
          "text": [
            "\b\b\b\b\b\b\b\b\b\b\b\b\b\b\b\b\b\b\b\b\b\b\b\b\b\b\b\b\b\b\b\b\b\b\b\b\b\b\b\b\b\b\b\b\b\b\b\b\b\b\b\b\b\b\b\b\b\b\b\b\b\b\b\b\b\b\b\b\b\b\b\b\b\b\b\b\b\b\b\b\b\b\b\b\b\b\b\b\b\b\b\b\b\b\b\r6/6 [==============================] - 0s 14ms/step - loss: 0.3853 - root_mean_squared_error: 0.6207\n",
            "Epoch 98/100\n",
            "5/6 [========================>.....] - ETA: 0s - loss: 0.4801 - root_mean_squared_error: 0.6929"
          ]
        },
        {
          "output_type": "stream",
          "name": "stderr",
          "text": [
            "WARNING:tensorflow:Can save best model only with val_loss available, skipping.\n"
          ]
        },
        {
          "output_type": "stream",
          "name": "stdout",
          "text": [
            "\b\b\b\b\b\b\b\b\b\b\b\b\b\b\b\b\b\b\b\b\b\b\b\b\b\b\b\b\b\b\b\b\b\b\b\b\b\b\b\b\b\b\b\b\b\b\b\b\b\b\b\b\b\b\b\b\b\b\b\b\b\b\b\b\b\b\b\b\b\b\b\b\b\b\b\b\b\b\b\b\b\b\b\b\b\b\b\b\b\b\b\b\b\b\b\r6/6 [==============================] - 0s 15ms/step - loss: 0.4714 - root_mean_squared_error: 0.6866\n",
            "Epoch 99/100\n",
            "4/6 [===================>..........] - ETA: 0s - loss: 0.4545 - root_mean_squared_error: 0.6741"
          ]
        },
        {
          "output_type": "stream",
          "name": "stderr",
          "text": [
            "WARNING:tensorflow:Can save best model only with val_loss available, skipping.\n"
          ]
        },
        {
          "output_type": "stream",
          "name": "stdout",
          "text": [
            "\b\b\b\b\b\b\b\b\b\b\b\b\b\b\b\b\b\b\b\b\b\b\b\b\b\b\b\b\b\b\b\b\b\b\b\b\b\b\b\b\b\b\b\b\b\b\b\b\b\b\b\b\b\b\b\b\b\b\b\b\b\b\b\b\b\b\b\b\b\b\b\b\b\b\b\b\b\b\b\b\b\b\b\b\b\b\b\b\b\b\b\b\b\b\b\r6/6 [==============================] - 0s 17ms/step - loss: 0.4651 - root_mean_squared_error: 0.6819\n",
            "Epoch 100/100\n",
            "5/6 [========================>.....] - ETA: 0s - loss: 0.5851 - root_mean_squared_error: 0.7649"
          ]
        },
        {
          "output_type": "stream",
          "name": "stderr",
          "text": [
            "WARNING:tensorflow:Can save best model only with val_loss available, skipping.\n"
          ]
        },
        {
          "output_type": "stream",
          "name": "stdout",
          "text": [
            "\b\b\b\b\b\b\b\b\b\b\b\b\b\b\b\b\b\b\b\b\b\b\b\b\b\b\b\b\b\b\b\b\b\b\b\b\b\b\b\b\b\b\b\b\b\b\b\b\b\b\b\b\b\b\b\b\b\b\b\b\b\b\b\b\b\b\b\b\b\b\b\b\b\b\b\b\b\b\b\b\b\b\b\b\b\b\b\b\b\b\b\b\b\b\b\r6/6 [==============================] - 0s 14ms/step - loss: 0.6046 - root_mean_squared_error: 0.7776\n"
          ]
        },
        {
          "output_type": "execute_result",
          "data": {
            "text/plain": [
              "<keras.callbacks.History at 0x7ff6e1917950>"
            ]
          },
          "metadata": {},
          "execution_count": 63
        }
      ]
    },
    {
      "cell_type": "code",
      "source": [
        "test_predictions = lstm.predict(x_test_df).flatten()\n",
        "test_df['lstm_pred'] = test_predictions"
      ],
      "metadata": {
        "id": "uwcI_HDMiz0K"
      },
      "execution_count": 64,
      "outputs": []
    },
    {
      "cell_type": "code",
      "source": [
        "train_df['CO2'].plot(style='--', color='gray', legend=True, label='train_df')\n",
        "test_df['CO2'].plot(style='--', color='r', legend=True, label='test_df')\n",
        "test_df['lstm_pred'].plot(color='b', legend=True, label='prediction')"
      ],
      "metadata": {
        "colab": {
          "base_uri": "https://localhost:8080/",
          "height": 515
        },
        "id": "26SBFB5si_sT",
        "outputId": "3d2c813c-af23-474c-9e6a-b140d9188c24"
      },
      "execution_count": 65,
      "outputs": [
        {
          "output_type": "execute_result",
          "data": {
            "text/plain": [
              "<matplotlib.axes._subplots.AxesSubplot at 0x7ff6e172f850>"
            ]
          },
          "metadata": {},
          "execution_count": 65
        },
        {
          "output_type": "display_data",
          "data": {
            "text/plain": [
              "<Figure size 864x576 with 1 Axes>"
            ],
            "image/png": "[encoded data removed]"
          },
          "metadata": {
            "needs_background": "light"
          }
        }
      ]
    },
    {
      "cell_type": "code",
      "source": [
        "print('Test RMSE:',mean_squared_error(test_df['CO2'], test_df['lstm_pred'])**0.5)\n",
        "print('Test MAPE:',mean_absolute_percentage_error(test_df['CO2'], test_df['lstm_pred']))"
      ],
      "metadata": {
        "colab": {
          "base_uri": "https://localhost:8080/"
        },
        "id": "UoDi7DzUjG9D",
        "outputId": "c42dffbf-a7f2-4a7e-909f-d52fdb0d68f7"
      },
      "execution_count": 66,
      "outputs": [
        {
          "output_type": "stream",
          "name": "stdout",
          "text": [
            "Test RMSE: 1.000046073762351\n",
            "Test MAPE: 0.05502352556532039\n"
          ]
        }
      ]
    },
    {
      "cell_type": "code",
      "source": [
        "comparision_df = pd.DataFrame(data=[['SES', 1.3429 , 0.0686],\n",
        "                           ['DES', 0.5352,  0.0260],\n",
        "                          ['TES', 1.0377, 0.0447],\n",
        "                          ['Linear Regression',0.8121,0.0321],\n",
        "                          ['ARIMA(15,1,15)', 0.9591, 0.0475],\n",
        "                          ['ARIMA(16,1,16)', 0.8337, 0.0417],\n",
        "                          ['SARIMA(0,1,0)(1,0,0,30)', 0.8435, 0.0448],\n",
        "                          ['Holt-winter', 2.9893, 0.1665],\n",
        "                          ['LSTM', 0.9939, 0.05592]], columns=['Model','RMSE','MAPE'])\n",
        "\n",
        "comparision_df.set_index('Model', inplace=True)"
      ],
      "metadata": {
        "id": "wkv47KMpjgC9"
      },
      "execution_count": 69,
      "outputs": []
    },
    {
      "cell_type": "code",
      "source": [
        "comparision_df.sort_values(by='RMSE')"
      ],
      "metadata": {
        "colab": {
          "base_uri": "https://localhost:8080/",
          "height": 363
        },
        "id": "g1PTexfUjkLi",
        "outputId": "b0e27683-f188-4433-a021-67994eeee897"
      },
      "execution_count": 70,
      "outputs": [
        {
          "output_type": "execute_result",
          "data": {
            "text/plain": [
              "                           RMSE     MAPE\n",
              "Model                                   \n",
              "DES                      0.5352  0.02600\n",
              "Linear Regression        0.8121  0.03210\n",
              "ARIMA(16,1,16)           0.8337  0.04170\n",
              "SARIMA(0,1,0)(1,0,0,30)  0.8435  0.04480\n",
              "ARIMA(15,1,15)           0.9591  0.04750\n",
              "LSTM                     0.9939  0.05592\n",
              "TES                      1.0377  0.04470\n",
              "SES                      1.3429  0.06860\n",
              "Holt-winter              2.9893  0.16650"
            ],
            "text/html": [
              "\n",
              "  <div id=\"df-a4b13db3-df8d-493c-9d30-bfe650337932\">\n",
              "    <div class=\"colab-df-container\">\n",
              "      <div>\n",
              "<style scoped>\n",
              "    .dataframe tbody tr th:only-of-type {\n",
              "        vertical-align: middle;\n",
              "    }\n",
              "\n",
              "    .dataframe tbody tr th {\n",
              "        vertical-align: top;\n",
              "    }\n",
              "\n",
              "    .dataframe thead th {\n",
              "        text-align: right;\n",
              "    }\n",
              "</style>\n",
              "<table border=\"1\" class=\"dataframe\">\n",
              "  <thead>\n",
              "    <tr style=\"text-align: right;\">\n",
              "      <th></th>\n",
              "      <th>RMSE</th>\n",
              "      <th>MAPE</th>\n",
              "    </tr>\n",
              "    <tr>\n",
              "      <th>Model</th>\n",
              "      <th></th>\n",
              "      <th></th>\n",
              "    </tr>\n",
              "  </thead>\n",
              "  <tbody>\n",
              "    <tr>\n",
              "      <th>DES</th>\n",
              "      <td>0.5352</td>\n",
              "      <td>0.02600</td>\n",
              "    </tr>\n",
              "    <tr>\n",
              "      <th>Linear Regression</th>\n",
              "      <td>0.8121</td>\n",
              "      <td>0.03210</td>\n",
              "    </tr>\n",
              "    <tr>\n",
              "      <th>ARIMA(16,1,16)</th>\n",
              "      <td>0.8337</td>\n",
              "      <td>0.04170</td>\n",
              "    </tr>\n",
              "    <tr>\n",
              "      <th>SARIMA(0,1,0)(1,0,0,30)</th>\n",
              "      <td>0.8435</td>\n",
              "      <td>0.04480</td>\n",
              "    </tr>\n",
              "    <tr>\n",
              "      <th>ARIMA(15,1,15)</th>\n",
              "      <td>0.9591</td>\n",
              "      <td>0.04750</td>\n",
              "    </tr>\n",
              "    <tr>\n",
              "      <th>LSTM</th>\n",
              "      <td>0.9939</td>\n",
              "      <td>0.05592</td>\n",
              "    </tr>\n",
              "    <tr>\n",
              "      <th>TES</th>\n",
              "      <td>1.0377</td>\n",
              "      <td>0.04470</td>\n",
              "    </tr>\n",
              "    <tr>\n",
              "      <th>SES</th>\n",
              "      <td>1.3429</td>\n",
              "      <td>0.06860</td>\n",
              "    </tr>\n",
              "    <tr>\n",
              "      <th>Holt-winter</th>\n",
              "      <td>2.9893</td>\n",
              "      <td>0.16650</td>\n",
              "    </tr>\n",
              "  </tbody>\n",
              "</table>\n",
              "</div>\n",
              "      <button class=\"colab-df-convert\" onclick=\"convertToInteractive('df-a4b13db3-df8d-493c-9d30-bfe650337932')\"\n",
              "              title=\"Convert this dataframe to an interactive table.\"\n",
              "              style=\"display:none;\">\n",
              "        \n",
              "  <svg xmlns=\"http://www.w3.org/2000/svg\" height=\"24px\"viewBox=\"0 0 24 24\"\n",
              "       width=\"24px\">\n",
              "    <path d=\"M0 0h24v24H0V0z\" fill=\"none\"/>\n",
              "    <path d=\"M18.56 5.44l.94 2.06.94-2.06 2.06-.94-2.06-.94-.94-2.06-.94 2.06-2.06.94zm-11 1L8.5 8.5l.94-2.06 2.06-.94-2.06-.94L8.5 2.5l-.94 2.06-2.06.94zm10 10l.94 2.06.94-2.06 2.06-.94-2.06-.94-.94-2.06-.94 2.06-2.06.94z\"/><path d=\"M17.41 7.96l-1.37-1.37c-.4-.4-.92-.59-1.43-.59-.52 0-1.04.2-1.43.59L10.3 9.45l-7.72 7.72c-.78.78-.78 2.05 0 2.83L4 21.41c.39.39.9.59 1.41.59.51 0 1.02-.2 1.41-.59l7.78-7.78 2.81-2.81c.8-.78.8-2.07 0-2.86zM5.41 20L4 18.59l7.72-7.72 1.47 1.35L5.41 20z\"/>\n",
              "  </svg>\n",
              "      </button>\n",
              "      \n",
              "  <style>\n",
              "    .colab-df-container {\n",
              "      display:flex;\n",
              "      flex-wrap:wrap;\n",
              "      gap: 12px;\n",
              "    }\n",
              "\n",
              "    .colab-df-convert {\n",
              "      background-color: #E8F0FE;\n",
              "      border: none;\n",
              "      border-radius: 50%;\n",
              "      cursor: pointer;\n",
              "      display: none;\n",
              "      fill: #1967D2;\n",
              "      height: 32px;\n",
              "      padding: 0 0 0 0;\n",
              "      width: 32px;\n",
              "    }\n",
              "\n",
              "    .colab-df-convert:hover {\n",
              "      background-color: #E2EBFA;\n",
              "      box-shadow: 0px 1px 2px rgba(60, 64, 67, 0.3), 0px 1px 3px 1px rgba(60, 64, 67, 0.15);\n",
              "      fill: #174EA6;\n",
              "    }\n",
              "\n",
              "    [theme=dark] .colab-df-convert {\n",
              "      background-color: #3B4455;\n",
              "      fill: #D2E3FC;\n",
              "    }\n",
              "\n",
              "    [theme=dark] .colab-df-convert:hover {\n",
              "      background-color: #434B5C;\n",
              "      box-shadow: 0px 1px 3px 1px rgba(0, 0, 0, 0.15);\n",
              "      filter: drop-shadow(0px 1px 2px rgba(0, 0, 0, 0.3));\n",
              "      fill: #FFFFFF;\n",
              "    }\n",
              "  </style>\n",
              "\n",
              "      <script>\n",
              "        const buttonEl =\n",
              "          document.querySelector('#df-a4b13db3-df8d-493c-9d30-bfe650337932 button.colab-df-convert');\n",
              "        buttonEl.style.display =\n",
              "          google.colab.kernel.accessAllowed ? 'block' : 'none';\n",
              "\n",
              "        async function convertToInteractive(key) {\n",
              "          const element = document.querySelector('#df-a4b13db3-df8d-493c-9d30-bfe650337932');\n",
              "          const dataTable =\n",
              "            await google.colab.kernel.invokeFunction('convertToInteractive',\n",
              "                                                     [key], {});\n",
              "          if (!dataTable) return;\n",
              "\n",
              "          const docLinkHtml = 'Like what you see? Visit the ' +\n",
              "            '<a target=\"_blank\" href=https://colab.research.google.com/notebooks/data_table.ipynb>data table notebook</a>'\n",
              "            + ' to learn more about interactive tables.';\n",
              "          element.innerHTML = '';\n",
              "          dataTable['output_type'] = 'display_data';\n",
              "          await google.colab.output.renderOutput(dataTable, element);\n",
              "          const docLink = document.createElement('div');\n",
              "          docLink.innerHTML = docLinkHtml;\n",
              "          element.appendChild(docLink);\n",
              "        }\n",
              "      </script>\n",
              "    </div>\n",
              "  </div>\n",
              "  "
            ]
          },
          "metadata": {},
          "execution_count": 70
        }
      ]
    },
    {
      "cell_type": "markdown",
      "source": [
        "# Linear Regression"
      ],
      "metadata": {
        "id": "D_Yv05Wjjywu"
      }
    },
    {
      "cell_type": "code",
      "source": [
        "x = [2000,2001,2002,2003,2004,2005,2006,2007,2008,2009,2010]\n",
        "y = [123,456,789,12,11,213,123,234,123,199,300]"
      ],
      "metadata": {
        "id": "8N3MxOJpjxx2"
      },
      "execution_count": 72,
      "outputs": []
    },
    {
      "cell_type": "code",
      "source": [
        "x_train=np.array(x)\n",
        "x_test=np.array(x)"
      ],
      "metadata": {
        "id": "VL62R1KMlL0p"
      },
      "execution_count": 73,
      "outputs": []
    },
    {
      "cell_type": "code",
      "source": [
        "y_train=np.array(y)\n",
        "y_test=np.array(y)"
      ],
      "metadata": {
        "id": "8ancAT4ZlVcL"
      },
      "execution_count": 74,
      "outputs": []
    },
    {
      "cell_type": "code",
      "source": [
        "x_train=x_train.reshape(-1,1)\n",
        "y_train=y_train.reshape(-1,1)"
      ],
      "metadata": {
        "id": "tLQp11edlYrO"
      },
      "execution_count": 75,
      "outputs": []
    },
    {
      "cell_type": "code",
      "source": [
        "model = LinearRegression()\n",
        "model.fit(x_train,y_train)"
      ],
      "metadata": {
        "colab": {
          "base_uri": "https://localhost:8080/"
        },
        "id": "JBf5o7R2lfdY",
        "outputId": "29f879d7-4c36-4968-dabe-927b0bde41bd"
      },
      "execution_count": 76,
      "outputs": [
        {
          "output_type": "execute_result",
          "data": {
            "text/plain": [
              "LinearRegression()"
            ]
          },
          "metadata": {},
          "execution_count": 76
        }
      ]
    },
    {
      "cell_type": "code",
      "source": [
        "x_test=x_test.reshape(-1,1)\n",
        "y_test=y_test.reshape(-1,1)"
      ],
      "metadata": {
        "id": "NG1VKv7NlmKt"
      },
      "execution_count": 77,
      "outputs": []
    },
    {
      "cell_type": "code",
      "source": [
        "model.predict(x_test)"
      ],
      "metadata": {
        "colab": {
          "base_uri": "https://localhost:8080/"
        },
        "id": "YOF4LsPhlqTI",
        "outputId": "6cd415ef-8aa8-497a-a2fb-a0ad723b2a49"
      },
      "execution_count": 78,
      "outputs": [
        {
          "output_type": "execute_result",
          "data": {
            "text/plain": [
              "array([[306.86363636],\n",
              "       [292.45454545],\n",
              "       [278.04545455],\n",
              "       [263.63636364],\n",
              "       [249.22727273],\n",
              "       [234.81818182],\n",
              "       [220.40909091],\n",
              "       [206.        ],\n",
              "       [191.59090909],\n",
              "       [177.18181818],\n",
              "       [162.77272727]])"
            ]
          },
          "metadata": {},
          "execution_count": 78
        }
      ]
    }
  ]
}